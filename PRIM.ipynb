{
 "cells": [
  {
   "cell_type": "code",
   "execution_count": null,
   "metadata": {},
   "outputs": [],
   "source": [
    "# DICE SM - Exploration & Global Sensitivity Analysis\n",
    "# Shridhar\n",
    "#  saved 140720 18:31"
   ]
  },
  {
   "cell_type": "markdown",
   "metadata": {},
   "source": [
    "  ## Setup & Initialisation of levers and uncertainties"
   ]
  },
  {
   "cell_type": "code",
   "execution_count": 3,
   "metadata": {
    "tags": []
   },
   "outputs": [
    {
     "output_type": "stream",
     "name": "stderr",
     "text": "C:\\Users\\shrid\\Anaconda3\\lib\\importlib\\_bootstrap.py:219: ImportWarning: can't resolve package from __spec__ or __package__, falling back on __name__ and __path__\n  return f(*args, **kwds)\n"
    }
   ],
   "source": [
    "import time\n",
    "\n",
    "import matplotlib.pyplot as plt\n",
    "from ema_workbench import (Model, RealParameter, IntegerParameter, ArrayOutcome, TimeSeriesOutcome,\n",
    "                           ema_logging, SequentialEvaluator,\n",
    "                           MultiprocessingEvaluator)\n",
    "from ema_workbench import save_results, load_results\n",
    "from ema_workbench.analysis import prim\n",
    "from ema_workbench.analysis import scenario_discovery_util as sdutil\n",
    "from sklearn import preprocessing \n",
    "import numpy as np\n",
    "ema_logging.log_to_stderr(ema_logging.INFO)\n",
    "from ema_workbench.analysis import pairs_plotting\n",
    "from dicemodel.noDICE_v3 import PyDICE\n"
   ]
  },
  {
   "cell_type": "code",
   "execution_count": 4,
   "metadata": {},
   "outputs": [],
   "source": [
    "\n",
    "if __name__ == '__main__':\n",
    "    ema_logging.log_to_stderr(ema_logging.INFO)\n",
    "    \n",
    "\n",
    "    model = PyDICE()\n",
    "    dice_sm = Model('dicesmEMA', function=model)\n",
    "    \n",
    "    dice_sm.uncertainties = [IntegerParameter('t2xco2_index', 0, 999),\n",
    "                            #  IntegerParameter('t2xco2_dist',0,2),\n",
    "                             IntegerParameter('fdamage', 0, 2),\n",
    "                             RealParameter('tfp_gr',  0.07, 0.09),\n",
    "                             RealParameter('sigma_gr', -0.012, -0.008),\n",
    "                             RealParameter('pop_gr', 0.1, 0.15),\n",
    "                             RealParameter('fosslim',  4000.0, 13649),\n",
    "                             IntegerParameter('cback', 100, 600)]\n",
    "    \n",
    "    dice_sm.levers = [RealParameter('sr', 0.1, 0.5),\n",
    "                      RealParameter('prtp_con',  0.001, 0.015),\n",
    "                      RealParameter('prtp_dam',  0.001, 0.015),\n",
    "                      RealParameter('emuc',  0.1, 2.00),\n",
    "                      RealParameter('emdd',  0.1, 2.00),\n",
    "                      IntegerParameter('periodfullpart', 10, 58),\n",
    "                      IntegerParameter('miu_period', 10, 58)]\n",
    "    \n",
    "    dice_sm.outcomes = [TimeSeriesOutcome('Atmospheric Temperature'),\n",
    "                        TimeSeriesOutcome('Total Output'),\n",
    "                        TimeSeriesOutcome('Population'),\n",
    "                        TimeSeriesOutcome('Per Capita Consumption'),\n",
    "                        TimeSeriesOutcome('Consumption Growth'),\n",
    "                        TimeSeriesOutcome('Utility of Consumption'),\n",
    "                        TimeSeriesOutcome('Per Capita Damage'),\n",
    "                        TimeSeriesOutcome('Damage Growth'),\n",
    "                        TimeSeriesOutcome('Disutility of Damage'),\n",
    "                        TimeSeriesOutcome('Welfare'),\n",
    "                        TimeSeriesOutcome('Consumption SDR'),\n",
    "                        TimeSeriesOutcome('Damage SDR')\n",
    "\n",
    "                        ]\n"
   ]
  },
  {
   "cell_type": "code",
   "execution_count": 11,
   "metadata": {},
   "outputs": [],
   "source": [
    "n_scenarios = 100\n",
    "n_policies = 50"
   ]
  },
  {
   "cell_type": "code",
   "execution_count": 14,
   "metadata": {
    "tags": []
   },
   "outputs": [
    {
     "output_type": "stream",
     "name": "stderr",
     "text": "[MainProcess/INFO] pool started\n[MainProcess/INFO] performing 100 scenarios * 50 policies * 1 model(s) = 5000 experiments\n[MainProcess/INFO] 500 cases completed\n[MainProcess/INFO] 1000 cases completed\n[MainProcess/INFO] 1500 cases completed\n[MainProcess/INFO] 2000 cases completed\n[MainProcess/INFO] 2500 cases completed\n[MainProcess/INFO] 3000 cases completed\n[MainProcess/INFO] 3500 cases completed\n[MainProcess/INFO] 4000 cases completed\n[MainProcess/INFO] 4500 cases completed\n[MainProcess/INFO] 5000 cases completed\n[MainProcess/INFO] experiments finished\n[MainProcess/INFO] terminating pool\nExperiment time is 0 mintues\n"
    }
   ],
   "source": [
    "n_scenarios = 100\n",
    "n_policies = 50\n",
    "start = time.time()\n",
    "with MultiprocessingEvaluator(dice_sm, n_processes=8) as evaluator:\n",
    "    results = evaluator.perform_experiments(scenarios=n_scenarios, policies=n_policies)\n",
    "end = time.time()\n",
    "\n",
    "print('Experiment time is ' + str(round((end - start)/60)) + ' mintues')"
   ]
  },
  {
   "cell_type": "code",
   "execution_count": 16,
   "metadata": {
    "tags": []
   },
   "outputs": [
    {
     "output_type": "stream",
     "name": "stderr",
     "text": "[MainProcess/INFO] results saved successfully to e:\\Year_2_Quarter_4\\Thesis\\06_Code\\noDICE\\1a_OE_100p_50s_v3.3.tar.gz\n"
    }
   ],
   "source": [
    "save_results(results, '1a_OE_100p_50s_v3.3.tar.gz')"
   ]
  },
  {
   "cell_type": "code",
   "execution_count": 8,
   "metadata": {
    "tags": []
   },
   "outputs": [
    {
     "output_type": "stream",
     "name": "stderr",
     "text": "[MainProcess/INFO] results loaded succesfully from e:\\Year_2_Quarter_4\\Thesis\\06_Code\\noDICE\\1a_OE_100p_50s_v3.3.tar.gz\n"
    }
   ],
   "source": [
    "results = load_results('1a_OE_100p_50s_v3.3.tar.gz')\n",
    "experiments, outcomes = results"
   ]
  },
  {
   "cell_type": "code",
   "execution_count": null,
   "metadata": {},
   "outputs": [],
   "source": [
    "import seaborn as sns\n",
    "from ema_workbench.analysis import plotting, plotting_util\n",
    "sns.set_style(\"whitegrid\")\n",
    "\n",
    "for outcome in outcomes.keys():\n",
    "    fig,axes=plotting.lines(experiments, outcomes, outcomes_to_show=outcome, density=plotting.Density.BOXENPLOT)\n",
    "    fig.set_size_inches(12, 5)\n",
    "    fig.savefig('1a_TimeSeries_v3.3' + str(n_scenarios) +'s' + str(n_policies) + 'p' + '.png')\n",
    "plt.show()\n"
   ]
  },
  {
   "cell_type": "code",
   "execution_count": null,
   "metadata": {
    "scrolled": true
   },
   "outputs": [],
   "source": [
    "## PRIM\n",
    "# set x, y args + clean experiments + perform prim for diff outcomes + analyze (ref ...uncertaintystuff.ipynb)"
   ]
  },
  {
   "cell_type": "code",
   "execution_count": 13,
   "metadata": {
    "tags": []
   },
   "outputs": [],
   "source": [
    "# EMA I: Find a meaningful range for unknown EMDD variable \n",
    "# Method - UA: regions in EMDD space that has an impact with system behaviour\n",
    "# I a. PRIM"
   ]
  },
  {
   "cell_type": "code",
   "execution_count": 18,
   "metadata": {},
   "outputs": [
    {
     "output_type": "execute_result",
     "data": {
      "text/plain": "      cback  fdamage       fosslim    pop_gr  sigma_gr  t2xco2_index  \\\n0     159.0      0.0   7820.928078  0.116270 -0.008595         531.0   \n1     455.0      0.0   9937.020574  0.149005 -0.011626         642.0   \n2     152.0      2.0  11606.690984  0.105389 -0.011121          55.0   \n3     176.0      1.0  11821.761832  0.137295 -0.010284         800.0   \n4     173.0      1.0   9293.269721  0.117383 -0.008011         125.0   \n5     231.0      0.0  13028.598478  0.103922 -0.010833         501.0   \n6     246.0      1.0   9767.991684  0.121638 -0.009483          69.0   \n7     384.0      2.0  12508.370735  0.139339 -0.010346         386.0   \n8     340.0      2.0  10817.988687  0.134771 -0.010986         434.0   \n9     502.0      0.0   6088.010723  0.145779 -0.011017         327.0   \n10    380.0      0.0   4066.711421  0.122695 -0.010797         910.0   \n11    472.0      2.0   8190.819010  0.102169 -0.011987         652.0   \n12    520.0      0.0  10219.291792  0.140904 -0.008487         266.0   \n13    241.0      0.0   4345.359756  0.102691 -0.008135         106.0   \n14    333.0      1.0  11198.521467  0.107134 -0.010243         464.0   \n15    162.0      1.0  11919.636752  0.146220 -0.011532         423.0   \n16    443.0      1.0  13079.736077  0.100487 -0.008182         190.0   \n17    212.0      0.0   7337.331433  0.110956 -0.009602         967.0   \n18    541.0      2.0   7239.950981  0.108797 -0.010058         480.0   \n19    570.0      1.0   5293.561761  0.144599 -0.009175         634.0   \n20    595.0      2.0   8958.426067  0.137632 -0.009251         895.0   \n21    322.0      2.0   5688.918460  0.101324 -0.011726         941.0   \n22    373.0      2.0  10969.784018  0.100929 -0.008799         696.0   \n23    538.0      2.0  10022.196572  0.145429 -0.009820         971.0   \n24    268.0      1.0   9354.229940  0.120125 -0.009011         553.0   \n25    492.0      2.0  13542.931975  0.143885 -0.011351         925.0   \n26    367.0      2.0   4873.374610  0.120632 -0.009048          95.0   \n27    325.0      0.0   8091.148365  0.142968 -0.009573         247.0   \n28    554.0      1.0   7657.661011  0.146906 -0.009541         936.0   \n29    309.0      1.0   6867.212508  0.107576 -0.011176         179.0   \n...     ...      ...           ...       ...       ...           ...   \n4970  261.0      1.0  12449.363772  0.139904 -0.008324         216.0   \n4971  577.0      2.0  10870.928925  0.140051 -0.008305         314.0   \n4972  235.0      1.0   9411.032292  0.126860 -0.010435         863.0   \n4973  359.0      2.0   6546.458432  0.129701 -0.009285         746.0   \n4974  424.0      0.0  12912.288993  0.132385 -0.011439          24.0   \n4975  447.0      1.0   5601.336109  0.133050 -0.011768         136.0   \n4976  255.0      0.0   4499.979198  0.134253 -0.008627         453.0   \n4977  228.0      1.0   8357.772984  0.135212 -0.011917         607.0   \n4978  144.0      2.0   5399.784795  0.115739 -0.010651         490.0   \n4979  106.0      1.0  12308.560717  0.112095 -0.009648         350.0   \n4980  527.0      2.0   8756.227334  0.128659 -0.011373         526.0   \n4981  274.0      0.0   7385.862013  0.118599 -0.009113         160.0   \n4982  284.0      0.0  13622.063007  0.113329 -0.009876         671.0   \n4983  192.0      1.0   6288.426129  0.133705 -0.009202         475.0   \n4984  465.0      1.0  10448.171723  0.126484 -0.009368         997.0   \n4985  458.0      0.0  10110.114693  0.127603 -0.011516         756.0   \n4986  387.0      1.0   6199.442158  0.101879 -0.010953         628.0   \n4987  202.0      2.0   9793.325642  0.141822 -0.009705         228.0   \n4988  415.0      0.0   7516.197807  0.136125 -0.010727         299.0   \n4989  402.0      1.0  10738.717449  0.130409 -0.011275         309.0   \n4990  596.0      2.0   9120.736241  0.119680 -0.008686         681.0   \n4991  301.0      1.0   6943.740259  0.148938 -0.008446          40.0   \n4992  298.0      0.0   6487.434961  0.104308 -0.009322         408.0   \n4993  294.0      0.0   9578.067423  0.109767 -0.010108         271.0   \n4994  102.0      0.0   9636.100430  0.144001 -0.008086          73.0   \n4995  406.0      0.0   4286.741941  0.124167 -0.008260         783.0   \n4996  196.0      2.0   6639.734373  0.123712 -0.011294         564.0   \n4997  489.0      0.0   7706.750866  0.131555 -0.009410         416.0   \n4998  533.0      1.0   7145.843644  0.130999 -0.010530         362.0   \n4999  112.0      0.0  11128.670304  0.147357 -0.010031         730.0   \n\n        tfp_gr      emdd      emuc  miu_period  periodfullpart  prtp_con  \\\n0     0.083939  1.366865  0.882569        34.0            32.0  0.011595   \n1     0.082917  1.366865  0.882569        34.0            32.0  0.011595   \n2     0.079430  1.366865  0.882569        34.0            32.0  0.011595   \n3     0.082747  1.366865  0.882569        34.0            32.0  0.011595   \n4     0.083532  1.366865  0.882569        34.0            32.0  0.011595   \n5     0.085657  1.366865  0.882569        34.0            32.0  0.011595   \n6     0.086704  1.366865  0.882569        34.0            32.0  0.011595   \n7     0.075227  1.366865  0.882569        34.0            32.0  0.011595   \n8     0.078053  1.366865  0.882569        34.0            32.0  0.011595   \n9     0.071634  1.366865  0.882569        34.0            32.0  0.011595   \n10    0.070941  1.366865  0.882569        34.0            32.0  0.011595   \n11    0.088556  1.366865  0.882569        34.0            32.0  0.011595   \n12    0.077537  1.366865  0.882569        34.0            32.0  0.011595   \n13    0.073556  1.366865  0.882569        34.0            32.0  0.011595   \n14    0.073132  1.366865  0.882569        34.0            32.0  0.011595   \n15    0.079820  1.366865  0.882569        34.0            32.0  0.011595   \n16    0.074416  1.366865  0.882569        34.0            32.0  0.011595   \n17    0.077603  1.366865  0.882569        34.0            32.0  0.011595   \n18    0.077220  1.366865  0.882569        34.0            32.0  0.011595   \n19    0.080490  1.366865  0.882569        34.0            32.0  0.011595   \n20    0.076020  1.366865  0.882569        34.0            32.0  0.011595   \n21    0.078287  1.366865  0.882569        34.0            32.0  0.011595   \n22    0.074651  1.366865  0.882569        34.0            32.0  0.011595   \n23    0.089243  1.366865  0.882569        34.0            32.0  0.011595   \n24    0.070627  1.366865  0.882569        34.0            32.0  0.011595   \n25    0.086945  1.366865  0.882569        34.0            32.0  0.011595   \n26    0.078404  1.366865  0.882569        34.0            32.0  0.011595   \n27    0.079052  1.366865  0.882569        34.0            32.0  0.011595   \n28    0.070510  1.366865  0.882569        34.0            32.0  0.011595   \n29    0.071931  1.366865  0.882569        34.0            32.0  0.011595   \n...        ...       ...       ...         ...             ...       ...   \n4970  0.081399  0.156202  1.316865        38.0            24.0  0.011770   \n4971  0.084163  0.156202  1.316865        38.0            24.0  0.011770   \n4972  0.087559  0.156202  1.316865        38.0            24.0  0.011770   \n4973  0.074385  0.156202  1.316865        38.0            24.0  0.011770   \n4974  0.085867  0.156202  1.316865        38.0            24.0  0.011770   \n4975  0.085524  0.156202  1.316865        38.0            24.0  0.011770   \n4976  0.075810  0.156202  1.316865        38.0            24.0  0.011770   \n4977  0.089906  0.156202  1.316865        38.0            24.0  0.011770   \n4978  0.081033  0.156202  1.316865        38.0            24.0  0.011770   \n4979  0.089134  0.156202  1.316865        38.0            24.0  0.011770   \n4980  0.074837  0.156202  1.316865        38.0            24.0  0.011770   \n4981  0.088240  0.156202  1.316865        38.0            24.0  0.011770   \n4982  0.085000  0.156202  1.316865        38.0            24.0  0.011770   \n4983  0.084265  0.156202  1.316865        38.0            24.0  0.011770   \n4984  0.073280  0.156202  1.316865        38.0            24.0  0.011770   \n4985  0.072468  0.156202  1.316865        38.0            24.0  0.011770   \n4986  0.080815  0.156202  1.316865        38.0            24.0  0.011770   \n4987  0.075075  0.156202  1.316865        38.0            24.0  0.011770   \n4988  0.077979  0.156202  1.316865        38.0            24.0  0.011770   \n4989  0.088845  0.156202  1.316865        38.0            24.0  0.011770   \n4990  0.081668  0.156202  1.316865        38.0            24.0  0.011770   \n4991  0.082184  0.156202  1.316865        38.0            24.0  0.011770   \n4992  0.074035  0.156202  1.316865        38.0            24.0  0.011770   \n4993  0.079644  0.156202  1.316865        38.0            24.0  0.011770   \n4994  0.085223  0.156202  1.316865        38.0            24.0  0.011770   \n4995  0.071290  0.156202  1.316865        38.0            24.0  0.011770   \n4996  0.083620  0.156202  1.316865        38.0            24.0  0.011770   \n4997  0.080246  0.156202  1.316865        38.0            24.0  0.011770   \n4998  0.076580  0.156202  1.316865        38.0            24.0  0.011770   \n4999  0.087218  0.156202  1.316865        38.0            24.0  0.011770   \n\n      prtp_dam        sr  \n0     0.012583  0.279459  \n1     0.012583  0.279459  \n2     0.012583  0.279459  \n3     0.012583  0.279459  \n4     0.012583  0.279459  \n5     0.012583  0.279459  \n6     0.012583  0.279459  \n7     0.012583  0.279459  \n8     0.012583  0.279459  \n9     0.012583  0.279459  \n10    0.012583  0.279459  \n11    0.012583  0.279459  \n12    0.012583  0.279459  \n13    0.012583  0.279459  \n14    0.012583  0.279459  \n15    0.012583  0.279459  \n16    0.012583  0.279459  \n17    0.012583  0.279459  \n18    0.012583  0.279459  \n19    0.012583  0.279459  \n20    0.012583  0.279459  \n21    0.012583  0.279459  \n22    0.012583  0.279459  \n23    0.012583  0.279459  \n24    0.012583  0.279459  \n25    0.012583  0.279459  \n26    0.012583  0.279459  \n27    0.012583  0.279459  \n28    0.012583  0.279459  \n29    0.012583  0.279459  \n...        ...       ...  \n4970  0.005588  0.386783  \n4971  0.005588  0.386783  \n4972  0.005588  0.386783  \n4973  0.005588  0.386783  \n4974  0.005588  0.386783  \n4975  0.005588  0.386783  \n4976  0.005588  0.386783  \n4977  0.005588  0.386783  \n4978  0.005588  0.386783  \n4979  0.005588  0.386783  \n4980  0.005588  0.386783  \n4981  0.005588  0.386783  \n4982  0.005588  0.386783  \n4983  0.005588  0.386783  \n4984  0.005588  0.386783  \n4985  0.005588  0.386783  \n4986  0.005588  0.386783  \n4987  0.005588  0.386783  \n4988  0.005588  0.386783  \n4989  0.005588  0.386783  \n4990  0.005588  0.386783  \n4991  0.005588  0.386783  \n4992  0.005588  0.386783  \n4993  0.005588  0.386783  \n4994  0.005588  0.386783  \n4995  0.005588  0.386783  \n4996  0.005588  0.386783  \n4997  0.005588  0.386783  \n4998  0.005588  0.386783  \n4999  0.005588  0.386783  \n\n[5000 rows x 14 columns]",
      "text/html": "<div>\n<style scoped>\n    .dataframe tbody tr th:only-of-type {\n        vertical-align: middle;\n    }\n\n    .dataframe tbody tr th {\n        vertical-align: top;\n    }\n\n    .dataframe thead th {\n        text-align: right;\n    }\n</style>\n<table border=\"1\" class=\"dataframe\">\n  <thead>\n    <tr style=\"text-align: right;\">\n      <th></th>\n      <th>cback</th>\n      <th>fdamage</th>\n      <th>fosslim</th>\n      <th>pop_gr</th>\n      <th>sigma_gr</th>\n      <th>t2xco2_index</th>\n      <th>tfp_gr</th>\n      <th>emdd</th>\n      <th>emuc</th>\n      <th>miu_period</th>\n      <th>periodfullpart</th>\n      <th>prtp_con</th>\n      <th>prtp_dam</th>\n      <th>sr</th>\n    </tr>\n  </thead>\n  <tbody>\n    <tr>\n      <th>0</th>\n      <td>159.0</td>\n      <td>0.0</td>\n      <td>7820.928078</td>\n      <td>0.116270</td>\n      <td>-0.008595</td>\n      <td>531.0</td>\n      <td>0.083939</td>\n      <td>1.366865</td>\n      <td>0.882569</td>\n      <td>34.0</td>\n      <td>32.0</td>\n      <td>0.011595</td>\n      <td>0.012583</td>\n      <td>0.279459</td>\n    </tr>\n    <tr>\n      <th>1</th>\n      <td>455.0</td>\n      <td>0.0</td>\n      <td>9937.020574</td>\n      <td>0.149005</td>\n      <td>-0.011626</td>\n      <td>642.0</td>\n      <td>0.082917</td>\n      <td>1.366865</td>\n      <td>0.882569</td>\n      <td>34.0</td>\n      <td>32.0</td>\n      <td>0.011595</td>\n      <td>0.012583</td>\n      <td>0.279459</td>\n    </tr>\n    <tr>\n      <th>2</th>\n      <td>152.0</td>\n      <td>2.0</td>\n      <td>11606.690984</td>\n      <td>0.105389</td>\n      <td>-0.011121</td>\n      <td>55.0</td>\n      <td>0.079430</td>\n      <td>1.366865</td>\n      <td>0.882569</td>\n      <td>34.0</td>\n      <td>32.0</td>\n      <td>0.011595</td>\n      <td>0.012583</td>\n      <td>0.279459</td>\n    </tr>\n    <tr>\n      <th>3</th>\n      <td>176.0</td>\n      <td>1.0</td>\n      <td>11821.761832</td>\n      <td>0.137295</td>\n      <td>-0.010284</td>\n      <td>800.0</td>\n      <td>0.082747</td>\n      <td>1.366865</td>\n      <td>0.882569</td>\n      <td>34.0</td>\n      <td>32.0</td>\n      <td>0.011595</td>\n      <td>0.012583</td>\n      <td>0.279459</td>\n    </tr>\n    <tr>\n      <th>4</th>\n      <td>173.0</td>\n      <td>1.0</td>\n      <td>9293.269721</td>\n      <td>0.117383</td>\n      <td>-0.008011</td>\n      <td>125.0</td>\n      <td>0.083532</td>\n      <td>1.366865</td>\n      <td>0.882569</td>\n      <td>34.0</td>\n      <td>32.0</td>\n      <td>0.011595</td>\n      <td>0.012583</td>\n      <td>0.279459</td>\n    </tr>\n    <tr>\n      <th>5</th>\n      <td>231.0</td>\n      <td>0.0</td>\n      <td>13028.598478</td>\n      <td>0.103922</td>\n      <td>-0.010833</td>\n      <td>501.0</td>\n      <td>0.085657</td>\n      <td>1.366865</td>\n      <td>0.882569</td>\n      <td>34.0</td>\n      <td>32.0</td>\n      <td>0.011595</td>\n      <td>0.012583</td>\n      <td>0.279459</td>\n    </tr>\n    <tr>\n      <th>6</th>\n      <td>246.0</td>\n      <td>1.0</td>\n      <td>9767.991684</td>\n      <td>0.121638</td>\n      <td>-0.009483</td>\n      <td>69.0</td>\n      <td>0.086704</td>\n      <td>1.366865</td>\n      <td>0.882569</td>\n      <td>34.0</td>\n      <td>32.0</td>\n      <td>0.011595</td>\n      <td>0.012583</td>\n      <td>0.279459</td>\n    </tr>\n    <tr>\n      <th>7</th>\n      <td>384.0</td>\n      <td>2.0</td>\n      <td>12508.370735</td>\n      <td>0.139339</td>\n      <td>-0.010346</td>\n      <td>386.0</td>\n      <td>0.075227</td>\n      <td>1.366865</td>\n      <td>0.882569</td>\n      <td>34.0</td>\n      <td>32.0</td>\n      <td>0.011595</td>\n      <td>0.012583</td>\n      <td>0.279459</td>\n    </tr>\n    <tr>\n      <th>8</th>\n      <td>340.0</td>\n      <td>2.0</td>\n      <td>10817.988687</td>\n      <td>0.134771</td>\n      <td>-0.010986</td>\n      <td>434.0</td>\n      <td>0.078053</td>\n      <td>1.366865</td>\n      <td>0.882569</td>\n      <td>34.0</td>\n      <td>32.0</td>\n      <td>0.011595</td>\n      <td>0.012583</td>\n      <td>0.279459</td>\n    </tr>\n    <tr>\n      <th>9</th>\n      <td>502.0</td>\n      <td>0.0</td>\n      <td>6088.010723</td>\n      <td>0.145779</td>\n      <td>-0.011017</td>\n      <td>327.0</td>\n      <td>0.071634</td>\n      <td>1.366865</td>\n      <td>0.882569</td>\n      <td>34.0</td>\n      <td>32.0</td>\n      <td>0.011595</td>\n      <td>0.012583</td>\n      <td>0.279459</td>\n    </tr>\n    <tr>\n      <th>10</th>\n      <td>380.0</td>\n      <td>0.0</td>\n      <td>4066.711421</td>\n      <td>0.122695</td>\n      <td>-0.010797</td>\n      <td>910.0</td>\n      <td>0.070941</td>\n      <td>1.366865</td>\n      <td>0.882569</td>\n      <td>34.0</td>\n      <td>32.0</td>\n      <td>0.011595</td>\n      <td>0.012583</td>\n      <td>0.279459</td>\n    </tr>\n    <tr>\n      <th>11</th>\n      <td>472.0</td>\n      <td>2.0</td>\n      <td>8190.819010</td>\n      <td>0.102169</td>\n      <td>-0.011987</td>\n      <td>652.0</td>\n      <td>0.088556</td>\n      <td>1.366865</td>\n      <td>0.882569</td>\n      <td>34.0</td>\n      <td>32.0</td>\n      <td>0.011595</td>\n      <td>0.012583</td>\n      <td>0.279459</td>\n    </tr>\n    <tr>\n      <th>12</th>\n      <td>520.0</td>\n      <td>0.0</td>\n      <td>10219.291792</td>\n      <td>0.140904</td>\n      <td>-0.008487</td>\n      <td>266.0</td>\n      <td>0.077537</td>\n      <td>1.366865</td>\n      <td>0.882569</td>\n      <td>34.0</td>\n      <td>32.0</td>\n      <td>0.011595</td>\n      <td>0.012583</td>\n      <td>0.279459</td>\n    </tr>\n    <tr>\n      <th>13</th>\n      <td>241.0</td>\n      <td>0.0</td>\n      <td>4345.359756</td>\n      <td>0.102691</td>\n      <td>-0.008135</td>\n      <td>106.0</td>\n      <td>0.073556</td>\n      <td>1.366865</td>\n      <td>0.882569</td>\n      <td>34.0</td>\n      <td>32.0</td>\n      <td>0.011595</td>\n      <td>0.012583</td>\n      <td>0.279459</td>\n    </tr>\n    <tr>\n      <th>14</th>\n      <td>333.0</td>\n      <td>1.0</td>\n      <td>11198.521467</td>\n      <td>0.107134</td>\n      <td>-0.010243</td>\n      <td>464.0</td>\n      <td>0.073132</td>\n      <td>1.366865</td>\n      <td>0.882569</td>\n      <td>34.0</td>\n      <td>32.0</td>\n      <td>0.011595</td>\n      <td>0.012583</td>\n      <td>0.279459</td>\n    </tr>\n    <tr>\n      <th>15</th>\n      <td>162.0</td>\n      <td>1.0</td>\n      <td>11919.636752</td>\n      <td>0.146220</td>\n      <td>-0.011532</td>\n      <td>423.0</td>\n      <td>0.079820</td>\n      <td>1.366865</td>\n      <td>0.882569</td>\n      <td>34.0</td>\n      <td>32.0</td>\n      <td>0.011595</td>\n      <td>0.012583</td>\n      <td>0.279459</td>\n    </tr>\n    <tr>\n      <th>16</th>\n      <td>443.0</td>\n      <td>1.0</td>\n      <td>13079.736077</td>\n      <td>0.100487</td>\n      <td>-0.008182</td>\n      <td>190.0</td>\n      <td>0.074416</td>\n      <td>1.366865</td>\n      <td>0.882569</td>\n      <td>34.0</td>\n      <td>32.0</td>\n      <td>0.011595</td>\n      <td>0.012583</td>\n      <td>0.279459</td>\n    </tr>\n    <tr>\n      <th>17</th>\n      <td>212.0</td>\n      <td>0.0</td>\n      <td>7337.331433</td>\n      <td>0.110956</td>\n      <td>-0.009602</td>\n      <td>967.0</td>\n      <td>0.077603</td>\n      <td>1.366865</td>\n      <td>0.882569</td>\n      <td>34.0</td>\n      <td>32.0</td>\n      <td>0.011595</td>\n      <td>0.012583</td>\n      <td>0.279459</td>\n    </tr>\n    <tr>\n      <th>18</th>\n      <td>541.0</td>\n      <td>2.0</td>\n      <td>7239.950981</td>\n      <td>0.108797</td>\n      <td>-0.010058</td>\n      <td>480.0</td>\n      <td>0.077220</td>\n      <td>1.366865</td>\n      <td>0.882569</td>\n      <td>34.0</td>\n      <td>32.0</td>\n      <td>0.011595</td>\n      <td>0.012583</td>\n      <td>0.279459</td>\n    </tr>\n    <tr>\n      <th>19</th>\n      <td>570.0</td>\n      <td>1.0</td>\n      <td>5293.561761</td>\n      <td>0.144599</td>\n      <td>-0.009175</td>\n      <td>634.0</td>\n      <td>0.080490</td>\n      <td>1.366865</td>\n      <td>0.882569</td>\n      <td>34.0</td>\n      <td>32.0</td>\n      <td>0.011595</td>\n      <td>0.012583</td>\n      <td>0.279459</td>\n    </tr>\n    <tr>\n      <th>20</th>\n      <td>595.0</td>\n      <td>2.0</td>\n      <td>8958.426067</td>\n      <td>0.137632</td>\n      <td>-0.009251</td>\n      <td>895.0</td>\n      <td>0.076020</td>\n      <td>1.366865</td>\n      <td>0.882569</td>\n      <td>34.0</td>\n      <td>32.0</td>\n      <td>0.011595</td>\n      <td>0.012583</td>\n      <td>0.279459</td>\n    </tr>\n    <tr>\n      <th>21</th>\n      <td>322.0</td>\n      <td>2.0</td>\n      <td>5688.918460</td>\n      <td>0.101324</td>\n      <td>-0.011726</td>\n      <td>941.0</td>\n      <td>0.078287</td>\n      <td>1.366865</td>\n      <td>0.882569</td>\n      <td>34.0</td>\n      <td>32.0</td>\n      <td>0.011595</td>\n      <td>0.012583</td>\n      <td>0.279459</td>\n    </tr>\n    <tr>\n      <th>22</th>\n      <td>373.0</td>\n      <td>2.0</td>\n      <td>10969.784018</td>\n      <td>0.100929</td>\n      <td>-0.008799</td>\n      <td>696.0</td>\n      <td>0.074651</td>\n      <td>1.366865</td>\n      <td>0.882569</td>\n      <td>34.0</td>\n      <td>32.0</td>\n      <td>0.011595</td>\n      <td>0.012583</td>\n      <td>0.279459</td>\n    </tr>\n    <tr>\n      <th>23</th>\n      <td>538.0</td>\n      <td>2.0</td>\n      <td>10022.196572</td>\n      <td>0.145429</td>\n      <td>-0.009820</td>\n      <td>971.0</td>\n      <td>0.089243</td>\n      <td>1.366865</td>\n      <td>0.882569</td>\n      <td>34.0</td>\n      <td>32.0</td>\n      <td>0.011595</td>\n      <td>0.012583</td>\n      <td>0.279459</td>\n    </tr>\n    <tr>\n      <th>24</th>\n      <td>268.0</td>\n      <td>1.0</td>\n      <td>9354.229940</td>\n      <td>0.120125</td>\n      <td>-0.009011</td>\n      <td>553.0</td>\n      <td>0.070627</td>\n      <td>1.366865</td>\n      <td>0.882569</td>\n      <td>34.0</td>\n      <td>32.0</td>\n      <td>0.011595</td>\n      <td>0.012583</td>\n      <td>0.279459</td>\n    </tr>\n    <tr>\n      <th>25</th>\n      <td>492.0</td>\n      <td>2.0</td>\n      <td>13542.931975</td>\n      <td>0.143885</td>\n      <td>-0.011351</td>\n      <td>925.0</td>\n      <td>0.086945</td>\n      <td>1.366865</td>\n      <td>0.882569</td>\n      <td>34.0</td>\n      <td>32.0</td>\n      <td>0.011595</td>\n      <td>0.012583</td>\n      <td>0.279459</td>\n    </tr>\n    <tr>\n      <th>26</th>\n      <td>367.0</td>\n      <td>2.0</td>\n      <td>4873.374610</td>\n      <td>0.120632</td>\n      <td>-0.009048</td>\n      <td>95.0</td>\n      <td>0.078404</td>\n      <td>1.366865</td>\n      <td>0.882569</td>\n      <td>34.0</td>\n      <td>32.0</td>\n      <td>0.011595</td>\n      <td>0.012583</td>\n      <td>0.279459</td>\n    </tr>\n    <tr>\n      <th>27</th>\n      <td>325.0</td>\n      <td>0.0</td>\n      <td>8091.148365</td>\n      <td>0.142968</td>\n      <td>-0.009573</td>\n      <td>247.0</td>\n      <td>0.079052</td>\n      <td>1.366865</td>\n      <td>0.882569</td>\n      <td>34.0</td>\n      <td>32.0</td>\n      <td>0.011595</td>\n      <td>0.012583</td>\n      <td>0.279459</td>\n    </tr>\n    <tr>\n      <th>28</th>\n      <td>554.0</td>\n      <td>1.0</td>\n      <td>7657.661011</td>\n      <td>0.146906</td>\n      <td>-0.009541</td>\n      <td>936.0</td>\n      <td>0.070510</td>\n      <td>1.366865</td>\n      <td>0.882569</td>\n      <td>34.0</td>\n      <td>32.0</td>\n      <td>0.011595</td>\n      <td>0.012583</td>\n      <td>0.279459</td>\n    </tr>\n    <tr>\n      <th>29</th>\n      <td>309.0</td>\n      <td>1.0</td>\n      <td>6867.212508</td>\n      <td>0.107576</td>\n      <td>-0.011176</td>\n      <td>179.0</td>\n      <td>0.071931</td>\n      <td>1.366865</td>\n      <td>0.882569</td>\n      <td>34.0</td>\n      <td>32.0</td>\n      <td>0.011595</td>\n      <td>0.012583</td>\n      <td>0.279459</td>\n    </tr>\n    <tr>\n      <th>...</th>\n      <td>...</td>\n      <td>...</td>\n      <td>...</td>\n      <td>...</td>\n      <td>...</td>\n      <td>...</td>\n      <td>...</td>\n      <td>...</td>\n      <td>...</td>\n      <td>...</td>\n      <td>...</td>\n      <td>...</td>\n      <td>...</td>\n      <td>...</td>\n    </tr>\n    <tr>\n      <th>4970</th>\n      <td>261.0</td>\n      <td>1.0</td>\n      <td>12449.363772</td>\n      <td>0.139904</td>\n      <td>-0.008324</td>\n      <td>216.0</td>\n      <td>0.081399</td>\n      <td>0.156202</td>\n      <td>1.316865</td>\n      <td>38.0</td>\n      <td>24.0</td>\n      <td>0.011770</td>\n      <td>0.005588</td>\n      <td>0.386783</td>\n    </tr>\n    <tr>\n      <th>4971</th>\n      <td>577.0</td>\n      <td>2.0</td>\n      <td>10870.928925</td>\n      <td>0.140051</td>\n      <td>-0.008305</td>\n      <td>314.0</td>\n      <td>0.084163</td>\n      <td>0.156202</td>\n      <td>1.316865</td>\n      <td>38.0</td>\n      <td>24.0</td>\n      <td>0.011770</td>\n      <td>0.005588</td>\n      <td>0.386783</td>\n    </tr>\n    <tr>\n      <th>4972</th>\n      <td>235.0</td>\n      <td>1.0</td>\n      <td>9411.032292</td>\n      <td>0.126860</td>\n      <td>-0.010435</td>\n      <td>863.0</td>\n      <td>0.087559</td>\n      <td>0.156202</td>\n      <td>1.316865</td>\n      <td>38.0</td>\n      <td>24.0</td>\n      <td>0.011770</td>\n      <td>0.005588</td>\n      <td>0.386783</td>\n    </tr>\n    <tr>\n      <th>4973</th>\n      <td>359.0</td>\n      <td>2.0</td>\n      <td>6546.458432</td>\n      <td>0.129701</td>\n      <td>-0.009285</td>\n      <td>746.0</td>\n      <td>0.074385</td>\n      <td>0.156202</td>\n      <td>1.316865</td>\n      <td>38.0</td>\n      <td>24.0</td>\n      <td>0.011770</td>\n      <td>0.005588</td>\n      <td>0.386783</td>\n    </tr>\n    <tr>\n      <th>4974</th>\n      <td>424.0</td>\n      <td>0.0</td>\n      <td>12912.288993</td>\n      <td>0.132385</td>\n      <td>-0.011439</td>\n      <td>24.0</td>\n      <td>0.085867</td>\n      <td>0.156202</td>\n      <td>1.316865</td>\n      <td>38.0</td>\n      <td>24.0</td>\n      <td>0.011770</td>\n      <td>0.005588</td>\n      <td>0.386783</td>\n    </tr>\n    <tr>\n      <th>4975</th>\n      <td>447.0</td>\n      <td>1.0</td>\n      <td>5601.336109</td>\n      <td>0.133050</td>\n      <td>-0.011768</td>\n      <td>136.0</td>\n      <td>0.085524</td>\n      <td>0.156202</td>\n      <td>1.316865</td>\n      <td>38.0</td>\n      <td>24.0</td>\n      <td>0.011770</td>\n      <td>0.005588</td>\n      <td>0.386783</td>\n    </tr>\n    <tr>\n      <th>4976</th>\n      <td>255.0</td>\n      <td>0.0</td>\n      <td>4499.979198</td>\n      <td>0.134253</td>\n      <td>-0.008627</td>\n      <td>453.0</td>\n      <td>0.075810</td>\n      <td>0.156202</td>\n      <td>1.316865</td>\n      <td>38.0</td>\n      <td>24.0</td>\n      <td>0.011770</td>\n      <td>0.005588</td>\n      <td>0.386783</td>\n    </tr>\n    <tr>\n      <th>4977</th>\n      <td>228.0</td>\n      <td>1.0</td>\n      <td>8357.772984</td>\n      <td>0.135212</td>\n      <td>-0.011917</td>\n      <td>607.0</td>\n      <td>0.089906</td>\n      <td>0.156202</td>\n      <td>1.316865</td>\n      <td>38.0</td>\n      <td>24.0</td>\n      <td>0.011770</td>\n      <td>0.005588</td>\n      <td>0.386783</td>\n    </tr>\n    <tr>\n      <th>4978</th>\n      <td>144.0</td>\n      <td>2.0</td>\n      <td>5399.784795</td>\n      <td>0.115739</td>\n      <td>-0.010651</td>\n      <td>490.0</td>\n      <td>0.081033</td>\n      <td>0.156202</td>\n      <td>1.316865</td>\n      <td>38.0</td>\n      <td>24.0</td>\n      <td>0.011770</td>\n      <td>0.005588</td>\n      <td>0.386783</td>\n    </tr>\n    <tr>\n      <th>4979</th>\n      <td>106.0</td>\n      <td>1.0</td>\n      <td>12308.560717</td>\n      <td>0.112095</td>\n      <td>-0.009648</td>\n      <td>350.0</td>\n      <td>0.089134</td>\n      <td>0.156202</td>\n      <td>1.316865</td>\n      <td>38.0</td>\n      <td>24.0</td>\n      <td>0.011770</td>\n      <td>0.005588</td>\n      <td>0.386783</td>\n    </tr>\n    <tr>\n      <th>4980</th>\n      <td>527.0</td>\n      <td>2.0</td>\n      <td>8756.227334</td>\n      <td>0.128659</td>\n      <td>-0.011373</td>\n      <td>526.0</td>\n      <td>0.074837</td>\n      <td>0.156202</td>\n      <td>1.316865</td>\n      <td>38.0</td>\n      <td>24.0</td>\n      <td>0.011770</td>\n      <td>0.005588</td>\n      <td>0.386783</td>\n    </tr>\n    <tr>\n      <th>4981</th>\n      <td>274.0</td>\n      <td>0.0</td>\n      <td>7385.862013</td>\n      <td>0.118599</td>\n      <td>-0.009113</td>\n      <td>160.0</td>\n      <td>0.088240</td>\n      <td>0.156202</td>\n      <td>1.316865</td>\n      <td>38.0</td>\n      <td>24.0</td>\n      <td>0.011770</td>\n      <td>0.005588</td>\n      <td>0.386783</td>\n    </tr>\n    <tr>\n      <th>4982</th>\n      <td>284.0</td>\n      <td>0.0</td>\n      <td>13622.063007</td>\n      <td>0.113329</td>\n      <td>-0.009876</td>\n      <td>671.0</td>\n      <td>0.085000</td>\n      <td>0.156202</td>\n      <td>1.316865</td>\n      <td>38.0</td>\n      <td>24.0</td>\n      <td>0.011770</td>\n      <td>0.005588</td>\n      <td>0.386783</td>\n    </tr>\n    <tr>\n      <th>4983</th>\n      <td>192.0</td>\n      <td>1.0</td>\n      <td>6288.426129</td>\n      <td>0.133705</td>\n      <td>-0.009202</td>\n      <td>475.0</td>\n      <td>0.084265</td>\n      <td>0.156202</td>\n      <td>1.316865</td>\n      <td>38.0</td>\n      <td>24.0</td>\n      <td>0.011770</td>\n      <td>0.005588</td>\n      <td>0.386783</td>\n    </tr>\n    <tr>\n      <th>4984</th>\n      <td>465.0</td>\n      <td>1.0</td>\n      <td>10448.171723</td>\n      <td>0.126484</td>\n      <td>-0.009368</td>\n      <td>997.0</td>\n      <td>0.073280</td>\n      <td>0.156202</td>\n      <td>1.316865</td>\n      <td>38.0</td>\n      <td>24.0</td>\n      <td>0.011770</td>\n      <td>0.005588</td>\n      <td>0.386783</td>\n    </tr>\n    <tr>\n      <th>4985</th>\n      <td>458.0</td>\n      <td>0.0</td>\n      <td>10110.114693</td>\n      <td>0.127603</td>\n      <td>-0.011516</td>\n      <td>756.0</td>\n      <td>0.072468</td>\n      <td>0.156202</td>\n      <td>1.316865</td>\n      <td>38.0</td>\n      <td>24.0</td>\n      <td>0.011770</td>\n      <td>0.005588</td>\n      <td>0.386783</td>\n    </tr>\n    <tr>\n      <th>4986</th>\n      <td>387.0</td>\n      <td>1.0</td>\n      <td>6199.442158</td>\n      <td>0.101879</td>\n      <td>-0.010953</td>\n      <td>628.0</td>\n      <td>0.080815</td>\n      <td>0.156202</td>\n      <td>1.316865</td>\n      <td>38.0</td>\n      <td>24.0</td>\n      <td>0.011770</td>\n      <td>0.005588</td>\n      <td>0.386783</td>\n    </tr>\n    <tr>\n      <th>4987</th>\n      <td>202.0</td>\n      <td>2.0</td>\n      <td>9793.325642</td>\n      <td>0.141822</td>\n      <td>-0.009705</td>\n      <td>228.0</td>\n      <td>0.075075</td>\n      <td>0.156202</td>\n      <td>1.316865</td>\n      <td>38.0</td>\n      <td>24.0</td>\n      <td>0.011770</td>\n      <td>0.005588</td>\n      <td>0.386783</td>\n    </tr>\n    <tr>\n      <th>4988</th>\n      <td>415.0</td>\n      <td>0.0</td>\n      <td>7516.197807</td>\n      <td>0.136125</td>\n      <td>-0.010727</td>\n      <td>299.0</td>\n      <td>0.077979</td>\n      <td>0.156202</td>\n      <td>1.316865</td>\n      <td>38.0</td>\n      <td>24.0</td>\n      <td>0.011770</td>\n      <td>0.005588</td>\n      <td>0.386783</td>\n    </tr>\n    <tr>\n      <th>4989</th>\n      <td>402.0</td>\n      <td>1.0</td>\n      <td>10738.717449</td>\n      <td>0.130409</td>\n      <td>-0.011275</td>\n      <td>309.0</td>\n      <td>0.088845</td>\n      <td>0.156202</td>\n      <td>1.316865</td>\n      <td>38.0</td>\n      <td>24.0</td>\n      <td>0.011770</td>\n      <td>0.005588</td>\n      <td>0.386783</td>\n    </tr>\n    <tr>\n      <th>4990</th>\n      <td>596.0</td>\n      <td>2.0</td>\n      <td>9120.736241</td>\n      <td>0.119680</td>\n      <td>-0.008686</td>\n      <td>681.0</td>\n      <td>0.081668</td>\n      <td>0.156202</td>\n      <td>1.316865</td>\n      <td>38.0</td>\n      <td>24.0</td>\n      <td>0.011770</td>\n      <td>0.005588</td>\n      <td>0.386783</td>\n    </tr>\n    <tr>\n      <th>4991</th>\n      <td>301.0</td>\n      <td>1.0</td>\n      <td>6943.740259</td>\n      <td>0.148938</td>\n      <td>-0.008446</td>\n      <td>40.0</td>\n      <td>0.082184</td>\n      <td>0.156202</td>\n      <td>1.316865</td>\n      <td>38.0</td>\n      <td>24.0</td>\n      <td>0.011770</td>\n      <td>0.005588</td>\n      <td>0.386783</td>\n    </tr>\n    <tr>\n      <th>4992</th>\n      <td>298.0</td>\n      <td>0.0</td>\n      <td>6487.434961</td>\n      <td>0.104308</td>\n      <td>-0.009322</td>\n      <td>408.0</td>\n      <td>0.074035</td>\n      <td>0.156202</td>\n      <td>1.316865</td>\n      <td>38.0</td>\n      <td>24.0</td>\n      <td>0.011770</td>\n      <td>0.005588</td>\n      <td>0.386783</td>\n    </tr>\n    <tr>\n      <th>4993</th>\n      <td>294.0</td>\n      <td>0.0</td>\n      <td>9578.067423</td>\n      <td>0.109767</td>\n      <td>-0.010108</td>\n      <td>271.0</td>\n      <td>0.079644</td>\n      <td>0.156202</td>\n      <td>1.316865</td>\n      <td>38.0</td>\n      <td>24.0</td>\n      <td>0.011770</td>\n      <td>0.005588</td>\n      <td>0.386783</td>\n    </tr>\n    <tr>\n      <th>4994</th>\n      <td>102.0</td>\n      <td>0.0</td>\n      <td>9636.100430</td>\n      <td>0.144001</td>\n      <td>-0.008086</td>\n      <td>73.0</td>\n      <td>0.085223</td>\n      <td>0.156202</td>\n      <td>1.316865</td>\n      <td>38.0</td>\n      <td>24.0</td>\n      <td>0.011770</td>\n      <td>0.005588</td>\n      <td>0.386783</td>\n    </tr>\n    <tr>\n      <th>4995</th>\n      <td>406.0</td>\n      <td>0.0</td>\n      <td>4286.741941</td>\n      <td>0.124167</td>\n      <td>-0.008260</td>\n      <td>783.0</td>\n      <td>0.071290</td>\n      <td>0.156202</td>\n      <td>1.316865</td>\n      <td>38.0</td>\n      <td>24.0</td>\n      <td>0.011770</td>\n      <td>0.005588</td>\n      <td>0.386783</td>\n    </tr>\n    <tr>\n      <th>4996</th>\n      <td>196.0</td>\n      <td>2.0</td>\n      <td>6639.734373</td>\n      <td>0.123712</td>\n      <td>-0.011294</td>\n      <td>564.0</td>\n      <td>0.083620</td>\n      <td>0.156202</td>\n      <td>1.316865</td>\n      <td>38.0</td>\n      <td>24.0</td>\n      <td>0.011770</td>\n      <td>0.005588</td>\n      <td>0.386783</td>\n    </tr>\n    <tr>\n      <th>4997</th>\n      <td>489.0</td>\n      <td>0.0</td>\n      <td>7706.750866</td>\n      <td>0.131555</td>\n      <td>-0.009410</td>\n      <td>416.0</td>\n      <td>0.080246</td>\n      <td>0.156202</td>\n      <td>1.316865</td>\n      <td>38.0</td>\n      <td>24.0</td>\n      <td>0.011770</td>\n      <td>0.005588</td>\n      <td>0.386783</td>\n    </tr>\n    <tr>\n      <th>4998</th>\n      <td>533.0</td>\n      <td>1.0</td>\n      <td>7145.843644</td>\n      <td>0.130999</td>\n      <td>-0.010530</td>\n      <td>362.0</td>\n      <td>0.076580</td>\n      <td>0.156202</td>\n      <td>1.316865</td>\n      <td>38.0</td>\n      <td>24.0</td>\n      <td>0.011770</td>\n      <td>0.005588</td>\n      <td>0.386783</td>\n    </tr>\n    <tr>\n      <th>4999</th>\n      <td>112.0</td>\n      <td>0.0</td>\n      <td>11128.670304</td>\n      <td>0.147357</td>\n      <td>-0.010031</td>\n      <td>730.0</td>\n      <td>0.087218</td>\n      <td>0.156202</td>\n      <td>1.316865</td>\n      <td>38.0</td>\n      <td>24.0</td>\n      <td>0.011770</td>\n      <td>0.005588</td>\n      <td>0.386783</td>\n    </tr>\n  </tbody>\n</table>\n<p>5000 rows × 14 columns</p>\n</div>"
     },
     "metadata": {},
     "execution_count": 18
    }
   ],
   "source": [
    "# for x: Clean experiments\n",
    "cleaned_experiments = experiments.drop(labels=[l.name for l in dice_sm.uncertainties], axis=1)\n",
    "cleaned_experiments = experiments.drop(labels= ['policy', 'scenario', 'model'] , axis=1)\n",
    "# type(cleaned_experiments)\n",
    "cleaned_experiments"
   ]
  },
  {
   "cell_type": "code",
   "execution_count": null,
   "metadata": {},
   "outputs": [],
   "source": [
    "# experiments_np = experiments.to_records()\n",
    "# experiments_np"
   ]
  },
  {
   "cell_type": "code",
   "execution_count": 26,
   "metadata": {},
   "outputs": [
    {
     "output_type": "execute_result",
     "data": {
      "text/plain": "array([[-3853.04096089, -3851.08752734, -3849.15886697, ...,\n        -3795.20446513, -3795.12709357, -3795.05445957],\n       [-3853.04096309, -3851.03932201, -3849.03361917, ...,\n        -3844.64853349, -3844.83605013, -3845.01030319],\n       [-3853.03976778, -3851.1013125 , -3849.19767861, ...,\n        -3814.59228385, -3811.7666787 , -3811.69319932],\n       ...,\n       [-3853.92756933, -3852.79241205, -3851.6303963 , ...,\n        -3945.64894776, -3949.56077469, -3953.16388165],\n       [-3853.9274844 , -3852.79270587, -3851.63131368, ...,\n        -3939.31066237, -3941.75960599, -3944.01300412],\n       [-3853.92756803, -3852.78277005, -3851.60486995, ...,\n        -3834.2449817 , -3833.27339085, -3832.25428575]])"
     },
     "metadata": {},
     "execution_count": 26
    }
   ],
   "source": [
    "#  For y: outcomes is nd-array, PRIM needs 1D\n",
    "y = outcomes\n",
    "## verify\n",
    "\n",
    "data_con_g = np.amax(y['Consumption Growth'], axis =1) \n",
    "data_con_g = data_con_g < 0\n",
    "data_con_g\n",
    "y['Welfare']"
   ]
  },
  {
   "cell_type": "code",
   "execution_count": 22,
   "metadata": {
    "collapsed": true
   },
   "outputs": [
    {
     "output_type": "execute_result",
     "data": {
      "text/plain": "False"
     },
     "metadata": {},
     "execution_count": 22
    }
   ],
   "source": [
    "## reduce by Binary classification of results\n",
    "# what range of outcome vars represents bad outcome - we want to find the contributing factors\n",
    "# dice_sm.outcomes = [TimeSeriesOutcome('Atmospheric Temperature'),\n",
    "#                         TimeSeriesOutcome('Total Output'),\n",
    "#                         TimeSeriesOutcome('Population'),\n",
    "#                         TimeSeriesOutcome('Per Capita Consumption'),\n",
    "#                         TimeSeriesOutcome('Consumption Growth'),\n",
    "#                         TimeSeriesOutcome('Utility of Consumption'),\n",
    "#                         TimeSeriesOutcome('Per Capita Damage'),\n",
    "#                         TimeSeriesOutcome('Damage Growth'),\n",
    "#                         TimeSeriesOutcome('Disutility of Damage'),\n",
    "#                         TimeSeriesOutcome('Welfare'),\n",
    "#                         TimeSeriesOutcome('Consumption SDR'),\n",
    "#                         TimeSeriesOutcome('Damage SDR')\n",
    "\n",
    "\n",
    "# by value\n",
    "data_temp = np.amax(y['Atmospheric Temperature'], axis =1) \n",
    "# np.max\n",
    "y_temp = data_temp > 4.0\n",
    "\n",
    "data_welfare = np.amax(y['Welfare'], axis =1)\n",
    "# data_welfare = np.nan_to_num(data_welfare)\n",
    "# np.any(np.isnan(data_welfare))\n",
    "y_welfare = data_welfare < np.percentile(data_welfare, 20)\n",
    "\n",
    "\n",
    "# by percentile\n",
    "data_dpc = np.amax(y['Per Capita Damage'], axis =1)\n",
    "y_dpc = data_dpc > np.percentile(data_dpc, 80)\n",
    "\n",
    "data_cpc = np.amax(y['Per Capita Consumption'], axis =1)\n",
    "y_cpc = data_cpc < np.percentile(data_cpc, 20) #what causes the least cpc outcomes\n",
    "\n",
    "data_con_g = np.amax(y['Consumption Growth'], axis =1)\n",
    "y_ = data_con_g > np.percentile(data_con_g, 80) # what causes the least growth outcomes\n",
    "\n",
    "\n",
    "data_utility_con = np.amax(y['Utility of Consumption'], axis =1)\n",
    "y_utility_con = data_utility_con < np.percentile(data_utility_con, 20)\n",
    "\n",
    "data_disutil_dam = np.amax(y['Disutility of Damage'], axis =1)\n",
    "y_disutil_dam = data_disutil_dam < np.percentile(data_disutil_dam, 20)\n",
    "\n",
    "\n",
    "data_output = np.amax(y['Total Output'], axis = 1)\n",
    "y_output = data_output < np.percentile(data_output, 20)\n",
    "\n",
    "## verify\n",
    "# y_damage.shape \n",
    "# y_temp\n",
    "# y_temp.shape\n",
    "# y['Welfare'].shape\n",
    "# np.percentile(data_welfare, 20)\n",
    "# plt.boxplot(data_welfare)\n",
    "# data_welfare\n",
    "np.any(np.isnan(data_welfare)) # there's a NaN = division by zero somewhere\n",
    "# np.where(np.isnan(data_welfare))\n"
   ]
  },
  {
   "cell_type": "code",
   "execution_count": null,
   "metadata": {},
   "outputs": [],
   "source": [
    "# data_welfare = data_welfare[~np.isnan(data_welfare)]\n"
   ]
  },
  {
   "cell_type": "code",
   "execution_count": null,
   "metadata": {},
   "outputs": [],
   "source": [
    "\n",
    "# locating experiment\n",
    "# experiments.ix[819].to_dict()\n",
    "\n"
   ]
  },
  {
   "cell_type": "code",
   "execution_count": 27,
   "metadata": {
    "tags": []
   },
   "outputs": [],
   "source": [
    "# change the y_... name to the name that will give you the outcome you want to analyse as defined above\n",
    "\n",
    "# the meaning of peel_alpha is the percentile of the data that is to be removed\n",
    "# The peeling alpha determines how much data is peeled off in each iteration of the algorithm. The lower the value, the less data is removed in each iteration. Controls the leniency of the algorithm, the higher the less lenient.\n",
    "\n",
    "\n",
    "prim_alg = prim.Prim(x= cleaned_experiments, y=y_utility_con, threshold=0.8, peel_alpha=0.1) #0.1 "
   ]
  },
  {
   "cell_type": "code",
   "execution_count": 28,
   "metadata": {
    "tags": []
   },
   "outputs": [
    {
     "output_type": "stream",
     "name": "stderr",
     "text": "[MainProcess/INFO] 5000 points remaining, containing 1000 cases of interest\n[MainProcess/INFO] mean: 1.0, mass: 0.14, coverage: 0.7, density: 1.0 restricted_dimensions: 3\n"
    },
    {
     "output_type": "display_data",
     "data": {
      "text/plain": "<Figure size 432x288 with 2 Axes>",
      "image/svg+xml": "<?xml version=\"1.0\" encoding=\"utf-8\" standalone=\"no\"?>\r\n<!DOCTYPE svg PUBLIC \"-//W3C//DTD SVG 1.1//EN\"\r\n  \"http://www.w3.org/Graphics/SVG/1.1/DTD/svg11.dtd\">\r\n<!-- Created with matplotlib (https://matplotlib.org/) -->\r\n<svg height=\"265.995469pt\" version=\"1.1\" viewBox=\"0 0 323.073875 265.995469\" width=\"323.073875pt\" xmlns=\"http://www.w3.org/2000/svg\" xmlns:xlink=\"http://www.w3.org/1999/xlink\">\r\n <defs>\r\n  <style type=\"text/css\">\r\n*{stroke-linecap:butt;stroke-linejoin:round;}\r\n  </style>\r\n </defs>\r\n <g id=\"figure_1\">\r\n  <g id=\"patch_1\">\r\n   <path d=\"M 0 265.995469 \r\nL 323.073875 265.995469 \r\nL 323.073875 0 \r\nL 0 0 \r\nz\r\n\"/>\r\n  </g>\r\n  <g id=\"axes_1\">\r\n   <g id=\"patch_2\">\r\n    <path d=\"M 43.78125 228.439219 \r\nL 261.22125 228.439219 \r\nL 261.22125 10.999219 \r\nL 43.78125 10.999219 \r\nz\r\n\"/>\r\n   </g>\r\n   <g id=\"PathCollection_1\">\r\n    <defs>\r\n     <path d=\"M 0 3 \r\nC 0.795609 3 1.55874 2.683901 2.12132 2.12132 \r\nC 2.683901 1.55874 3 0.795609 3 0 \r\nC 3 -0.795609 2.683901 -1.55874 2.12132 -2.12132 \r\nC 1.55874 -2.683901 0.795609 -3 0 -3 \r\nC -0.795609 -3 -1.55874 -2.683901 -2.12132 -2.12132 \r\nC -2.683901 -1.55874 -3 -0.795609 -3 0 \r\nC -3 0.795609 -2.683901 1.55874 -2.12132 2.12132 \r\nC -1.55874 2.683901 -0.795609 3 0 3 \r\nz\r\n\" id=\"C0_0_5d56e687af\"/>\r\n    </defs>\r\n    <g clip-path=\"url(#p15a4287fd4)\">\r\n     <use style=\"fill:#440154;stroke:#440154;\" x=\"224.98125\" xlink:href=\"#C0_0_5d56e687af\" y=\"192.199219\"/>\r\n    </g>\r\n    <g clip-path=\"url(#p15a4287fd4)\">\r\n     <use style=\"fill:#31688e;stroke:#31688e;\" x=\"224.98125\" xlink:href=\"#C0_0_5d56e687af\" y=\"188.172552\"/>\r\n    </g>\r\n    <g clip-path=\"url(#p15a4287fd4)\">\r\n     <use style=\"fill:#35b779;stroke:#35b779;\" x=\"224.98125\" xlink:href=\"#C0_0_5d56e687af\" y=\"183.139219\"/>\r\n    </g>\r\n    <g clip-path=\"url(#p15a4287fd4)\">\r\n     <use style=\"fill:#35b779;stroke:#35b779;\" x=\"224.98125\" xlink:href=\"#C0_0_5d56e687af\" y=\"178.105885\"/>\r\n    </g>\r\n    <g clip-path=\"url(#p15a4287fd4)\">\r\n     <use style=\"fill:#35b779;stroke:#35b779;\" x=\"224.98125\" xlink:href=\"#C0_0_5d56e687af\" y=\"171.814219\"/>\r\n    </g>\r\n    <g clip-path=\"url(#p15a4287fd4)\">\r\n     <use style=\"fill:#35b779;stroke:#35b779;\" x=\"224.98125\" xlink:href=\"#C0_0_5d56e687af\" y=\"163.724933\"/>\r\n    </g>\r\n    <g clip-path=\"url(#p15a4287fd4)\">\r\n     <use style=\"fill:#35b779;stroke:#35b779;\" x=\"224.98125\" xlink:href=\"#C0_0_5d56e687af\" y=\"155.959219\"/>\r\n    </g>\r\n    <g clip-path=\"url(#p15a4287fd4)\">\r\n     <use style=\"fill:#35b779;stroke:#35b779;\" x=\"224.98125\" xlink:href=\"#C0_0_5d56e687af\" y=\"146.075582\"/>\r\n    </g>\r\n    <g clip-path=\"url(#p15a4287fd4)\">\r\n     <use style=\"fill:#35b779;stroke:#35b779;\" x=\"224.98125\" xlink:href=\"#C0_0_5d56e687af\" y=\"133.070798\"/>\r\n    </g>\r\n    <g clip-path=\"url(#p15a4287fd4)\">\r\n     <use style=\"fill:#35b779;stroke:#35b779;\" x=\"224.98125\" xlink:href=\"#C0_0_5d56e687af\" y=\"121.850983\"/>\r\n    </g>\r\n    <g clip-path=\"url(#p15a4287fd4)\">\r\n     <use style=\"fill:#35b779;stroke:#35b779;\" x=\"224.98125\" xlink:href=\"#C0_0_5d56e687af\" y=\"107.639219\"/>\r\n    </g>\r\n    <g clip-path=\"url(#p15a4287fd4)\">\r\n     <use style=\"fill:#35b779;stroke:#35b779;\" x=\"224.98125\" xlink:href=\"#C0_0_5d56e687af\" y=\"89.054603\"/>\r\n    </g>\r\n    <g clip-path=\"url(#p15a4287fd4)\">\r\n     <use style=\"fill:#35b779;stroke:#35b779;\" x=\"224.98125\" xlink:href=\"#C0_0_5d56e687af\" y=\"63.711946\"/>\r\n    </g>\r\n    <g clip-path=\"url(#p15a4287fd4)\">\r\n     <use style=\"fill:#35b779;stroke:#35b779;\" x=\"204.50565\" xlink:href=\"#C0_0_5d56e687af\" y=\"49.856552\"/>\r\n    </g>\r\n    <g clip-path=\"url(#p15a4287fd4)\">\r\n     <use style=\"fill:#fde725;stroke:#fde725;\" x=\"188.37885\" xlink:href=\"#C0_0_5d56e687af\" y=\"47.692219\"/>\r\n    </g>\r\n    <g clip-path=\"url(#p15a4287fd4)\">\r\n     <use style=\"fill:#fde725;stroke:#fde725;\" x=\"170.62125\" xlink:href=\"#C0_0_5d56e687af\" y=\"47.239219\"/>\r\n    </g>\r\n   </g>\r\n   <g id=\"matplotlib.axis_1\">\r\n    <g id=\"xtick_1\">\r\n     <g id=\"line2d_1\">\r\n      <defs>\r\n       <path d=\"M 0 0 \r\nL 0 3.5 \r\n\" id=\"m33cf1d08ec\" style=\"stroke:#ffffff;stroke-width:0.8;\"/>\r\n      </defs>\r\n      <g>\r\n       <use style=\"fill:#ffffff;stroke:#ffffff;stroke-width:0.8;\" x=\"43.78125\" xlink:href=\"#m33cf1d08ec\" y=\"228.439219\"/>\r\n      </g>\r\n     </g>\r\n     <g id=\"text_1\">\r\n      <!-- 0.0 -->\r\n      <defs>\r\n       <path d=\"M 31.78125 66.40625 \r\nQ 24.171875 66.40625 20.328125 58.90625 \r\nQ 16.5 51.421875 16.5 36.375 \r\nQ 16.5 21.390625 20.328125 13.890625 \r\nQ 24.171875 6.390625 31.78125 6.390625 \r\nQ 39.453125 6.390625 43.28125 13.890625 \r\nQ 47.125 21.390625 47.125 36.375 \r\nQ 47.125 51.421875 43.28125 58.90625 \r\nQ 39.453125 66.40625 31.78125 66.40625 \r\nz\r\nM 31.78125 74.21875 \r\nQ 44.046875 74.21875 50.515625 64.515625 \r\nQ 56.984375 54.828125 56.984375 36.375 \r\nQ 56.984375 17.96875 50.515625 8.265625 \r\nQ 44.046875 -1.421875 31.78125 -1.421875 \r\nQ 19.53125 -1.421875 13.0625 8.265625 \r\nQ 6.59375 17.96875 6.59375 36.375 \r\nQ 6.59375 54.828125 13.0625 64.515625 \r\nQ 19.53125 74.21875 31.78125 74.21875 \r\nz\r\n\" id=\"DejaVuSans-48\"/>\r\n       <path d=\"M 10.6875 12.40625 \r\nL 21 12.40625 \r\nL 21 0 \r\nL 10.6875 0 \r\nz\r\n\" id=\"DejaVuSans-46\"/>\r\n      </defs>\r\n      <g style=\"fill:#ffffff;\" transform=\"translate(35.829688 243.037656)scale(0.1 -0.1)\">\r\n       <use xlink:href=\"#DejaVuSans-48\"/>\r\n       <use x=\"63.623047\" xlink:href=\"#DejaVuSans-46\"/>\r\n       <use x=\"95.410156\" xlink:href=\"#DejaVuSans-48\"/>\r\n      </g>\r\n     </g>\r\n    </g>\r\n    <g id=\"xtick_2\">\r\n     <g id=\"line2d_2\">\r\n      <g>\r\n       <use style=\"fill:#ffffff;stroke:#ffffff;stroke-width:0.8;\" x=\"80.02125\" xlink:href=\"#m33cf1d08ec\" y=\"228.439219\"/>\r\n      </g>\r\n     </g>\r\n     <g id=\"text_2\">\r\n      <!-- 0.2 -->\r\n      <defs>\r\n       <path d=\"M 19.1875 8.296875 \r\nL 53.609375 8.296875 \r\nL 53.609375 0 \r\nL 7.328125 0 \r\nL 7.328125 8.296875 \r\nQ 12.9375 14.109375 22.625 23.890625 \r\nQ 32.328125 33.6875 34.8125 36.53125 \r\nQ 39.546875 41.84375 41.421875 45.53125 \r\nQ 43.3125 49.21875 43.3125 52.78125 \r\nQ 43.3125 58.59375 39.234375 62.25 \r\nQ 35.15625 65.921875 28.609375 65.921875 \r\nQ 23.96875 65.921875 18.8125 64.3125 \r\nQ 13.671875 62.703125 7.8125 59.421875 \r\nL 7.8125 69.390625 \r\nQ 13.765625 71.78125 18.9375 73 \r\nQ 24.125 74.21875 28.421875 74.21875 \r\nQ 39.75 74.21875 46.484375 68.546875 \r\nQ 53.21875 62.890625 53.21875 53.421875 \r\nQ 53.21875 48.921875 51.53125 44.890625 \r\nQ 49.859375 40.875 45.40625 35.40625 \r\nQ 44.1875 33.984375 37.640625 27.21875 \r\nQ 31.109375 20.453125 19.1875 8.296875 \r\nz\r\n\" id=\"DejaVuSans-50\"/>\r\n      </defs>\r\n      <g style=\"fill:#ffffff;\" transform=\"translate(72.069688 243.037656)scale(0.1 -0.1)\">\r\n       <use xlink:href=\"#DejaVuSans-48\"/>\r\n       <use x=\"63.623047\" xlink:href=\"#DejaVuSans-46\"/>\r\n       <use x=\"95.410156\" xlink:href=\"#DejaVuSans-50\"/>\r\n      </g>\r\n     </g>\r\n    </g>\r\n    <g id=\"xtick_3\">\r\n     <g id=\"line2d_3\">\r\n      <g>\r\n       <use style=\"fill:#ffffff;stroke:#ffffff;stroke-width:0.8;\" x=\"116.26125\" xlink:href=\"#m33cf1d08ec\" y=\"228.439219\"/>\r\n      </g>\r\n     </g>\r\n     <g id=\"text_3\">\r\n      <!-- 0.4 -->\r\n      <defs>\r\n       <path d=\"M 37.796875 64.3125 \r\nL 12.890625 25.390625 \r\nL 37.796875 25.390625 \r\nz\r\nM 35.203125 72.90625 \r\nL 47.609375 72.90625 \r\nL 47.609375 25.390625 \r\nL 58.015625 25.390625 \r\nL 58.015625 17.1875 \r\nL 47.609375 17.1875 \r\nL 47.609375 0 \r\nL 37.796875 0 \r\nL 37.796875 17.1875 \r\nL 4.890625 17.1875 \r\nL 4.890625 26.703125 \r\nz\r\n\" id=\"DejaVuSans-52\"/>\r\n      </defs>\r\n      <g style=\"fill:#ffffff;\" transform=\"translate(108.309688 243.037656)scale(0.1 -0.1)\">\r\n       <use xlink:href=\"#DejaVuSans-48\"/>\r\n       <use x=\"63.623047\" xlink:href=\"#DejaVuSans-46\"/>\r\n       <use x=\"95.410156\" xlink:href=\"#DejaVuSans-52\"/>\r\n      </g>\r\n     </g>\r\n    </g>\r\n    <g id=\"xtick_4\">\r\n     <g id=\"line2d_4\">\r\n      <g>\r\n       <use style=\"fill:#ffffff;stroke:#ffffff;stroke-width:0.8;\" x=\"152.50125\" xlink:href=\"#m33cf1d08ec\" y=\"228.439219\"/>\r\n      </g>\r\n     </g>\r\n     <g id=\"text_4\">\r\n      <!-- 0.6 -->\r\n      <defs>\r\n       <path d=\"M 33.015625 40.375 \r\nQ 26.375 40.375 22.484375 35.828125 \r\nQ 18.609375 31.296875 18.609375 23.390625 \r\nQ 18.609375 15.53125 22.484375 10.953125 \r\nQ 26.375 6.390625 33.015625 6.390625 \r\nQ 39.65625 6.390625 43.53125 10.953125 \r\nQ 47.40625 15.53125 47.40625 23.390625 \r\nQ 47.40625 31.296875 43.53125 35.828125 \r\nQ 39.65625 40.375 33.015625 40.375 \r\nz\r\nM 52.59375 71.296875 \r\nL 52.59375 62.3125 \r\nQ 48.875 64.0625 45.09375 64.984375 \r\nQ 41.3125 65.921875 37.59375 65.921875 \r\nQ 27.828125 65.921875 22.671875 59.328125 \r\nQ 17.53125 52.734375 16.796875 39.40625 \r\nQ 19.671875 43.65625 24.015625 45.921875 \r\nQ 28.375 48.1875 33.59375 48.1875 \r\nQ 44.578125 48.1875 50.953125 41.515625 \r\nQ 57.328125 34.859375 57.328125 23.390625 \r\nQ 57.328125 12.15625 50.6875 5.359375 \r\nQ 44.046875 -1.421875 33.015625 -1.421875 \r\nQ 20.359375 -1.421875 13.671875 8.265625 \r\nQ 6.984375 17.96875 6.984375 36.375 \r\nQ 6.984375 53.65625 15.1875 63.9375 \r\nQ 23.390625 74.21875 37.203125 74.21875 \r\nQ 40.921875 74.21875 44.703125 73.484375 \r\nQ 48.484375 72.75 52.59375 71.296875 \r\nz\r\n\" id=\"DejaVuSans-54\"/>\r\n      </defs>\r\n      <g style=\"fill:#ffffff;\" transform=\"translate(144.549688 243.037656)scale(0.1 -0.1)\">\r\n       <use xlink:href=\"#DejaVuSans-48\"/>\r\n       <use x=\"63.623047\" xlink:href=\"#DejaVuSans-46\"/>\r\n       <use x=\"95.410156\" xlink:href=\"#DejaVuSans-54\"/>\r\n      </g>\r\n     </g>\r\n    </g>\r\n    <g id=\"xtick_5\">\r\n     <g id=\"line2d_5\">\r\n      <g>\r\n       <use style=\"fill:#ffffff;stroke:#ffffff;stroke-width:0.8;\" x=\"188.74125\" xlink:href=\"#m33cf1d08ec\" y=\"228.439219\"/>\r\n      </g>\r\n     </g>\r\n     <g id=\"text_5\">\r\n      <!-- 0.8 -->\r\n      <defs>\r\n       <path d=\"M 31.78125 34.625 \r\nQ 24.75 34.625 20.71875 30.859375 \r\nQ 16.703125 27.09375 16.703125 20.515625 \r\nQ 16.703125 13.921875 20.71875 10.15625 \r\nQ 24.75 6.390625 31.78125 6.390625 \r\nQ 38.8125 6.390625 42.859375 10.171875 \r\nQ 46.921875 13.96875 46.921875 20.515625 \r\nQ 46.921875 27.09375 42.890625 30.859375 \r\nQ 38.875 34.625 31.78125 34.625 \r\nz\r\nM 21.921875 38.8125 \r\nQ 15.578125 40.375 12.03125 44.71875 \r\nQ 8.5 49.078125 8.5 55.328125 \r\nQ 8.5 64.0625 14.71875 69.140625 \r\nQ 20.953125 74.21875 31.78125 74.21875 \r\nQ 42.671875 74.21875 48.875 69.140625 \r\nQ 55.078125 64.0625 55.078125 55.328125 \r\nQ 55.078125 49.078125 51.53125 44.71875 \r\nQ 48 40.375 41.703125 38.8125 \r\nQ 48.828125 37.15625 52.796875 32.3125 \r\nQ 56.78125 27.484375 56.78125 20.515625 \r\nQ 56.78125 9.90625 50.3125 4.234375 \r\nQ 43.84375 -1.421875 31.78125 -1.421875 \r\nQ 19.734375 -1.421875 13.25 4.234375 \r\nQ 6.78125 9.90625 6.78125 20.515625 \r\nQ 6.78125 27.484375 10.78125 32.3125 \r\nQ 14.796875 37.15625 21.921875 38.8125 \r\nz\r\nM 18.3125 54.390625 \r\nQ 18.3125 48.734375 21.84375 45.5625 \r\nQ 25.390625 42.390625 31.78125 42.390625 \r\nQ 38.140625 42.390625 41.71875 45.5625 \r\nQ 45.3125 48.734375 45.3125 54.390625 \r\nQ 45.3125 60.0625 41.71875 63.234375 \r\nQ 38.140625 66.40625 31.78125 66.40625 \r\nQ 25.390625 66.40625 21.84375 63.234375 \r\nQ 18.3125 60.0625 18.3125 54.390625 \r\nz\r\n\" id=\"DejaVuSans-56\"/>\r\n      </defs>\r\n      <g style=\"fill:#ffffff;\" transform=\"translate(180.789688 243.037656)scale(0.1 -0.1)\">\r\n       <use xlink:href=\"#DejaVuSans-48\"/>\r\n       <use x=\"63.623047\" xlink:href=\"#DejaVuSans-46\"/>\r\n       <use x=\"95.410156\" xlink:href=\"#DejaVuSans-56\"/>\r\n      </g>\r\n     </g>\r\n    </g>\r\n    <g id=\"xtick_6\">\r\n     <g id=\"line2d_6\">\r\n      <g>\r\n       <use style=\"fill:#ffffff;stroke:#ffffff;stroke-width:0.8;\" x=\"224.98125\" xlink:href=\"#m33cf1d08ec\" y=\"228.439219\"/>\r\n      </g>\r\n     </g>\r\n     <g id=\"text_6\">\r\n      <!-- 1.0 -->\r\n      <defs>\r\n       <path d=\"M 12.40625 8.296875 \r\nL 28.515625 8.296875 \r\nL 28.515625 63.921875 \r\nL 10.984375 60.40625 \r\nL 10.984375 69.390625 \r\nL 28.421875 72.90625 \r\nL 38.28125 72.90625 \r\nL 38.28125 8.296875 \r\nL 54.390625 8.296875 \r\nL 54.390625 0 \r\nL 12.40625 0 \r\nz\r\n\" id=\"DejaVuSans-49\"/>\r\n      </defs>\r\n      <g style=\"fill:#ffffff;\" transform=\"translate(217.029688 243.037656)scale(0.1 -0.1)\">\r\n       <use xlink:href=\"#DejaVuSans-49\"/>\r\n       <use x=\"63.623047\" xlink:href=\"#DejaVuSans-46\"/>\r\n       <use x=\"95.410156\" xlink:href=\"#DejaVuSans-48\"/>\r\n      </g>\r\n     </g>\r\n    </g>\r\n    <g id=\"xtick_7\">\r\n     <g id=\"line2d_7\">\r\n      <g>\r\n       <use style=\"fill:#ffffff;stroke:#ffffff;stroke-width:0.8;\" x=\"261.22125\" xlink:href=\"#m33cf1d08ec\" y=\"228.439219\"/>\r\n      </g>\r\n     </g>\r\n     <g id=\"text_7\">\r\n      <!-- 1.2 -->\r\n      <g style=\"fill:#ffffff;\" transform=\"translate(253.269688 243.037656)scale(0.1 -0.1)\">\r\n       <use xlink:href=\"#DejaVuSans-49\"/>\r\n       <use x=\"63.623047\" xlink:href=\"#DejaVuSans-46\"/>\r\n       <use x=\"95.410156\" xlink:href=\"#DejaVuSans-50\"/>\r\n      </g>\r\n     </g>\r\n    </g>\r\n    <g id=\"text_8\">\r\n     <!-- coverage -->\r\n     <defs>\r\n      <path d=\"M 48.78125 52.59375 \r\nL 48.78125 44.1875 \r\nQ 44.96875 46.296875 41.140625 47.34375 \r\nQ 37.3125 48.390625 33.40625 48.390625 \r\nQ 24.65625 48.390625 19.8125 42.84375 \r\nQ 14.984375 37.3125 14.984375 27.296875 \r\nQ 14.984375 17.28125 19.8125 11.734375 \r\nQ 24.65625 6.203125 33.40625 6.203125 \r\nQ 37.3125 6.203125 41.140625 7.25 \r\nQ 44.96875 8.296875 48.78125 10.40625 \r\nL 48.78125 2.09375 \r\nQ 45.015625 0.34375 40.984375 -0.53125 \r\nQ 36.96875 -1.421875 32.421875 -1.421875 \r\nQ 20.0625 -1.421875 12.78125 6.34375 \r\nQ 5.515625 14.109375 5.515625 27.296875 \r\nQ 5.515625 40.671875 12.859375 48.328125 \r\nQ 20.21875 56 33.015625 56 \r\nQ 37.15625 56 41.109375 55.140625 \r\nQ 45.0625 54.296875 48.78125 52.59375 \r\nz\r\n\" id=\"DejaVuSans-99\"/>\r\n      <path d=\"M 30.609375 48.390625 \r\nQ 23.390625 48.390625 19.1875 42.75 \r\nQ 14.984375 37.109375 14.984375 27.296875 \r\nQ 14.984375 17.484375 19.15625 11.84375 \r\nQ 23.34375 6.203125 30.609375 6.203125 \r\nQ 37.796875 6.203125 41.984375 11.859375 \r\nQ 46.1875 17.53125 46.1875 27.296875 \r\nQ 46.1875 37.015625 41.984375 42.703125 \r\nQ 37.796875 48.390625 30.609375 48.390625 \r\nz\r\nM 30.609375 56 \r\nQ 42.328125 56 49.015625 48.375 \r\nQ 55.71875 40.765625 55.71875 27.296875 \r\nQ 55.71875 13.875 49.015625 6.21875 \r\nQ 42.328125 -1.421875 30.609375 -1.421875 \r\nQ 18.84375 -1.421875 12.171875 6.21875 \r\nQ 5.515625 13.875 5.515625 27.296875 \r\nQ 5.515625 40.765625 12.171875 48.375 \r\nQ 18.84375 56 30.609375 56 \r\nz\r\n\" id=\"DejaVuSans-111\"/>\r\n      <path d=\"M 2.984375 54.6875 \r\nL 12.5 54.6875 \r\nL 29.59375 8.796875 \r\nL 46.6875 54.6875 \r\nL 56.203125 54.6875 \r\nL 35.6875 0 \r\nL 23.484375 0 \r\nz\r\n\" id=\"DejaVuSans-118\"/>\r\n      <path d=\"M 56.203125 29.59375 \r\nL 56.203125 25.203125 \r\nL 14.890625 25.203125 \r\nQ 15.484375 15.921875 20.484375 11.0625 \r\nQ 25.484375 6.203125 34.421875 6.203125 \r\nQ 39.59375 6.203125 44.453125 7.46875 \r\nQ 49.3125 8.734375 54.109375 11.28125 \r\nL 54.109375 2.78125 \r\nQ 49.265625 0.734375 44.1875 -0.34375 \r\nQ 39.109375 -1.421875 33.890625 -1.421875 \r\nQ 20.796875 -1.421875 13.15625 6.1875 \r\nQ 5.515625 13.8125 5.515625 26.8125 \r\nQ 5.515625 40.234375 12.765625 48.109375 \r\nQ 20.015625 56 32.328125 56 \r\nQ 43.359375 56 49.78125 48.890625 \r\nQ 56.203125 41.796875 56.203125 29.59375 \r\nz\r\nM 47.21875 32.234375 \r\nQ 47.125 39.59375 43.09375 43.984375 \r\nQ 39.0625 48.390625 32.421875 48.390625 \r\nQ 24.90625 48.390625 20.390625 44.140625 \r\nQ 15.875 39.890625 15.1875 32.171875 \r\nz\r\n\" id=\"DejaVuSans-101\"/>\r\n      <path d=\"M 41.109375 46.296875 \r\nQ 39.59375 47.171875 37.8125 47.578125 \r\nQ 36.03125 48 33.890625 48 \r\nQ 26.265625 48 22.1875 43.046875 \r\nQ 18.109375 38.09375 18.109375 28.8125 \r\nL 18.109375 0 \r\nL 9.078125 0 \r\nL 9.078125 54.6875 \r\nL 18.109375 54.6875 \r\nL 18.109375 46.1875 \r\nQ 20.953125 51.171875 25.484375 53.578125 \r\nQ 30.03125 56 36.53125 56 \r\nQ 37.453125 56 38.578125 55.875 \r\nQ 39.703125 55.765625 41.0625 55.515625 \r\nz\r\n\" id=\"DejaVuSans-114\"/>\r\n      <path d=\"M 34.28125 27.484375 \r\nQ 23.390625 27.484375 19.1875 25 \r\nQ 14.984375 22.515625 14.984375 16.5 \r\nQ 14.984375 11.71875 18.140625 8.90625 \r\nQ 21.296875 6.109375 26.703125 6.109375 \r\nQ 34.1875 6.109375 38.703125 11.40625 \r\nQ 43.21875 16.703125 43.21875 25.484375 \r\nL 43.21875 27.484375 \r\nz\r\nM 52.203125 31.203125 \r\nL 52.203125 0 \r\nL 43.21875 0 \r\nL 43.21875 8.296875 \r\nQ 40.140625 3.328125 35.546875 0.953125 \r\nQ 30.953125 -1.421875 24.3125 -1.421875 \r\nQ 15.921875 -1.421875 10.953125 3.296875 \r\nQ 6 8.015625 6 15.921875 \r\nQ 6 25.140625 12.171875 29.828125 \r\nQ 18.359375 34.515625 30.609375 34.515625 \r\nL 43.21875 34.515625 \r\nL 43.21875 35.40625 \r\nQ 43.21875 41.609375 39.140625 45 \r\nQ 35.0625 48.390625 27.6875 48.390625 \r\nQ 23 48.390625 18.546875 47.265625 \r\nQ 14.109375 46.140625 10.015625 43.890625 \r\nL 10.015625 52.203125 \r\nQ 14.9375 54.109375 19.578125 55.046875 \r\nQ 24.21875 56 28.609375 56 \r\nQ 40.484375 56 46.34375 49.84375 \r\nQ 52.203125 43.703125 52.203125 31.203125 \r\nz\r\n\" id=\"DejaVuSans-97\"/>\r\n      <path d=\"M 45.40625 27.984375 \r\nQ 45.40625 37.75 41.375 43.109375 \r\nQ 37.359375 48.484375 30.078125 48.484375 \r\nQ 22.859375 48.484375 18.828125 43.109375 \r\nQ 14.796875 37.75 14.796875 27.984375 \r\nQ 14.796875 18.265625 18.828125 12.890625 \r\nQ 22.859375 7.515625 30.078125 7.515625 \r\nQ 37.359375 7.515625 41.375 12.890625 \r\nQ 45.40625 18.265625 45.40625 27.984375 \r\nz\r\nM 54.390625 6.78125 \r\nQ 54.390625 -7.171875 48.1875 -13.984375 \r\nQ 42 -20.796875 29.203125 -20.796875 \r\nQ 24.46875 -20.796875 20.265625 -20.09375 \r\nQ 16.0625 -19.390625 12.109375 -17.921875 \r\nL 12.109375 -9.1875 \r\nQ 16.0625 -11.328125 19.921875 -12.34375 \r\nQ 23.78125 -13.375 27.78125 -13.375 \r\nQ 36.625 -13.375 41.015625 -8.765625 \r\nQ 45.40625 -4.15625 45.40625 5.171875 \r\nL 45.40625 9.625 \r\nQ 42.625 4.78125 38.28125 2.390625 \r\nQ 33.9375 0 27.875 0 \r\nQ 17.828125 0 11.671875 7.65625 \r\nQ 5.515625 15.328125 5.515625 27.984375 \r\nQ 5.515625 40.671875 11.671875 48.328125 \r\nQ 17.828125 56 27.875 56 \r\nQ 33.9375 56 38.28125 53.609375 \r\nQ 42.625 51.21875 45.40625 46.390625 \r\nL 45.40625 54.6875 \r\nL 54.390625 54.6875 \r\nz\r\n\" id=\"DejaVuSans-103\"/>\r\n     </defs>\r\n     <g style=\"fill:#ffffff;\" transform=\"translate(129.286406 256.715781)scale(0.1 -0.1)\">\r\n      <use xlink:href=\"#DejaVuSans-99\"/>\r\n      <use x=\"54.980469\" xlink:href=\"#DejaVuSans-111\"/>\r\n      <use x=\"116.162109\" xlink:href=\"#DejaVuSans-118\"/>\r\n      <use x=\"175.341797\" xlink:href=\"#DejaVuSans-101\"/>\r\n      <use x=\"236.865234\" xlink:href=\"#DejaVuSans-114\"/>\r\n      <use x=\"277.978516\" xlink:href=\"#DejaVuSans-97\"/>\r\n      <use x=\"339.257812\" xlink:href=\"#DejaVuSans-103\"/>\r\n      <use x=\"402.734375\" xlink:href=\"#DejaVuSans-101\"/>\r\n     </g>\r\n    </g>\r\n   </g>\r\n   <g id=\"matplotlib.axis_2\">\r\n    <g id=\"ytick_1\">\r\n     <g id=\"line2d_8\">\r\n      <defs>\r\n       <path d=\"M 0 0 \r\nL -3.5 0 \r\n\" id=\"ma291730902\" style=\"stroke:#ffffff;stroke-width:0.8;\"/>\r\n      </defs>\r\n      <g>\r\n       <use style=\"fill:#ffffff;stroke:#ffffff;stroke-width:0.8;\" x=\"43.78125\" xlink:href=\"#ma291730902\" y=\"228.439219\"/>\r\n      </g>\r\n     </g>\r\n     <g id=\"text_9\">\r\n      <!-- 0.0 -->\r\n      <g style=\"fill:#ffffff;\" transform=\"translate(20.878125 232.238438)scale(0.1 -0.1)\">\r\n       <use xlink:href=\"#DejaVuSans-48\"/>\r\n       <use x=\"63.623047\" xlink:href=\"#DejaVuSans-46\"/>\r\n       <use x=\"95.410156\" xlink:href=\"#DejaVuSans-48\"/>\r\n      </g>\r\n     </g>\r\n    </g>\r\n    <g id=\"ytick_2\">\r\n     <g id=\"line2d_9\">\r\n      <g>\r\n       <use style=\"fill:#ffffff;stroke:#ffffff;stroke-width:0.8;\" x=\"43.78125\" xlink:href=\"#ma291730902\" y=\"192.199219\"/>\r\n      </g>\r\n     </g>\r\n     <g id=\"text_10\">\r\n      <!-- 0.2 -->\r\n      <g style=\"fill:#ffffff;\" transform=\"translate(20.878125 195.998438)scale(0.1 -0.1)\">\r\n       <use xlink:href=\"#DejaVuSans-48\"/>\r\n       <use x=\"63.623047\" xlink:href=\"#DejaVuSans-46\"/>\r\n       <use x=\"95.410156\" xlink:href=\"#DejaVuSans-50\"/>\r\n      </g>\r\n     </g>\r\n    </g>\r\n    <g id=\"ytick_3\">\r\n     <g id=\"line2d_10\">\r\n      <g>\r\n       <use style=\"fill:#ffffff;stroke:#ffffff;stroke-width:0.8;\" x=\"43.78125\" xlink:href=\"#ma291730902\" y=\"155.959219\"/>\r\n      </g>\r\n     </g>\r\n     <g id=\"text_11\">\r\n      <!-- 0.4 -->\r\n      <g style=\"fill:#ffffff;\" transform=\"translate(20.878125 159.758438)scale(0.1 -0.1)\">\r\n       <use xlink:href=\"#DejaVuSans-48\"/>\r\n       <use x=\"63.623047\" xlink:href=\"#DejaVuSans-46\"/>\r\n       <use x=\"95.410156\" xlink:href=\"#DejaVuSans-52\"/>\r\n      </g>\r\n     </g>\r\n    </g>\r\n    <g id=\"ytick_4\">\r\n     <g id=\"line2d_11\">\r\n      <g>\r\n       <use style=\"fill:#ffffff;stroke:#ffffff;stroke-width:0.8;\" x=\"43.78125\" xlink:href=\"#ma291730902\" y=\"119.719219\"/>\r\n      </g>\r\n     </g>\r\n     <g id=\"text_12\">\r\n      <!-- 0.6 -->\r\n      <g style=\"fill:#ffffff;\" transform=\"translate(20.878125 123.518438)scale(0.1 -0.1)\">\r\n       <use xlink:href=\"#DejaVuSans-48\"/>\r\n       <use x=\"63.623047\" xlink:href=\"#DejaVuSans-46\"/>\r\n       <use x=\"95.410156\" xlink:href=\"#DejaVuSans-54\"/>\r\n      </g>\r\n     </g>\r\n    </g>\r\n    <g id=\"ytick_5\">\r\n     <g id=\"line2d_12\">\r\n      <g>\r\n       <use style=\"fill:#ffffff;stroke:#ffffff;stroke-width:0.8;\" x=\"43.78125\" xlink:href=\"#ma291730902\" y=\"83.479219\"/>\r\n      </g>\r\n     </g>\r\n     <g id=\"text_13\">\r\n      <!-- 0.8 -->\r\n      <g style=\"fill:#ffffff;\" transform=\"translate(20.878125 87.278438)scale(0.1 -0.1)\">\r\n       <use xlink:href=\"#DejaVuSans-48\"/>\r\n       <use x=\"63.623047\" xlink:href=\"#DejaVuSans-46\"/>\r\n       <use x=\"95.410156\" xlink:href=\"#DejaVuSans-56\"/>\r\n      </g>\r\n     </g>\r\n    </g>\r\n    <g id=\"ytick_6\">\r\n     <g id=\"line2d_13\">\r\n      <g>\r\n       <use style=\"fill:#ffffff;stroke:#ffffff;stroke-width:0.8;\" x=\"43.78125\" xlink:href=\"#ma291730902\" y=\"47.239219\"/>\r\n      </g>\r\n     </g>\r\n     <g id=\"text_14\">\r\n      <!-- 1.0 -->\r\n      <g style=\"fill:#ffffff;\" transform=\"translate(20.878125 51.038438)scale(0.1 -0.1)\">\r\n       <use xlink:href=\"#DejaVuSans-49\"/>\r\n       <use x=\"63.623047\" xlink:href=\"#DejaVuSans-46\"/>\r\n       <use x=\"95.410156\" xlink:href=\"#DejaVuSans-48\"/>\r\n      </g>\r\n     </g>\r\n    </g>\r\n    <g id=\"ytick_7\">\r\n     <g id=\"line2d_14\">\r\n      <g>\r\n       <use style=\"fill:#ffffff;stroke:#ffffff;stroke-width:0.8;\" x=\"43.78125\" xlink:href=\"#ma291730902\" y=\"10.999219\"/>\r\n      </g>\r\n     </g>\r\n     <g id=\"text_15\">\r\n      <!-- 1.2 -->\r\n      <g style=\"fill:#ffffff;\" transform=\"translate(20.878125 14.798437)scale(0.1 -0.1)\">\r\n       <use xlink:href=\"#DejaVuSans-49\"/>\r\n       <use x=\"63.623047\" xlink:href=\"#DejaVuSans-46\"/>\r\n       <use x=\"95.410156\" xlink:href=\"#DejaVuSans-50\"/>\r\n      </g>\r\n     </g>\r\n    </g>\r\n    <g id=\"text_16\">\r\n     <!-- density -->\r\n     <defs>\r\n      <path d=\"M 45.40625 46.390625 \r\nL 45.40625 75.984375 \r\nL 54.390625 75.984375 \r\nL 54.390625 0 \r\nL 45.40625 0 \r\nL 45.40625 8.203125 \r\nQ 42.578125 3.328125 38.25 0.953125 \r\nQ 33.9375 -1.421875 27.875 -1.421875 \r\nQ 17.96875 -1.421875 11.734375 6.484375 \r\nQ 5.515625 14.40625 5.515625 27.296875 \r\nQ 5.515625 40.1875 11.734375 48.09375 \r\nQ 17.96875 56 27.875 56 \r\nQ 33.9375 56 38.25 53.625 \r\nQ 42.578125 51.265625 45.40625 46.390625 \r\nz\r\nM 14.796875 27.296875 \r\nQ 14.796875 17.390625 18.875 11.75 \r\nQ 22.953125 6.109375 30.078125 6.109375 \r\nQ 37.203125 6.109375 41.296875 11.75 \r\nQ 45.40625 17.390625 45.40625 27.296875 \r\nQ 45.40625 37.203125 41.296875 42.84375 \r\nQ 37.203125 48.484375 30.078125 48.484375 \r\nQ 22.953125 48.484375 18.875 42.84375 \r\nQ 14.796875 37.203125 14.796875 27.296875 \r\nz\r\n\" id=\"DejaVuSans-100\"/>\r\n      <path d=\"M 54.890625 33.015625 \r\nL 54.890625 0 \r\nL 45.90625 0 \r\nL 45.90625 32.71875 \r\nQ 45.90625 40.484375 42.875 44.328125 \r\nQ 39.84375 48.1875 33.796875 48.1875 \r\nQ 26.515625 48.1875 22.3125 43.546875 \r\nQ 18.109375 38.921875 18.109375 30.90625 \r\nL 18.109375 0 \r\nL 9.078125 0 \r\nL 9.078125 54.6875 \r\nL 18.109375 54.6875 \r\nL 18.109375 46.1875 \r\nQ 21.34375 51.125 25.703125 53.5625 \r\nQ 30.078125 56 35.796875 56 \r\nQ 45.21875 56 50.046875 50.171875 \r\nQ 54.890625 44.34375 54.890625 33.015625 \r\nz\r\n\" id=\"DejaVuSans-110\"/>\r\n      <path d=\"M 44.28125 53.078125 \r\nL 44.28125 44.578125 \r\nQ 40.484375 46.53125 36.375 47.5 \r\nQ 32.28125 48.484375 27.875 48.484375 \r\nQ 21.1875 48.484375 17.84375 46.4375 \r\nQ 14.5 44.390625 14.5 40.28125 \r\nQ 14.5 37.15625 16.890625 35.375 \r\nQ 19.28125 33.59375 26.515625 31.984375 \r\nL 29.59375 31.296875 \r\nQ 39.15625 29.25 43.1875 25.515625 \r\nQ 47.21875 21.78125 47.21875 15.09375 \r\nQ 47.21875 7.46875 41.1875 3.015625 \r\nQ 35.15625 -1.421875 24.609375 -1.421875 \r\nQ 20.21875 -1.421875 15.453125 -0.5625 \r\nQ 10.6875 0.296875 5.421875 2 \r\nL 5.421875 11.28125 \r\nQ 10.40625 8.6875 15.234375 7.390625 \r\nQ 20.0625 6.109375 24.8125 6.109375 \r\nQ 31.15625 6.109375 34.5625 8.28125 \r\nQ 37.984375 10.453125 37.984375 14.40625 \r\nQ 37.984375 18.0625 35.515625 20.015625 \r\nQ 33.0625 21.96875 24.703125 23.78125 \r\nL 21.578125 24.515625 \r\nQ 13.234375 26.265625 9.515625 29.90625 \r\nQ 5.8125 33.546875 5.8125 39.890625 \r\nQ 5.8125 47.609375 11.28125 51.796875 \r\nQ 16.75 56 26.8125 56 \r\nQ 31.78125 56 36.171875 55.265625 \r\nQ 40.578125 54.546875 44.28125 53.078125 \r\nz\r\n\" id=\"DejaVuSans-115\"/>\r\n      <path d=\"M 9.421875 54.6875 \r\nL 18.40625 54.6875 \r\nL 18.40625 0 \r\nL 9.421875 0 \r\nz\r\nM 9.421875 75.984375 \r\nL 18.40625 75.984375 \r\nL 18.40625 64.59375 \r\nL 9.421875 64.59375 \r\nz\r\n\" id=\"DejaVuSans-105\"/>\r\n      <path d=\"M 18.3125 70.21875 \r\nL 18.3125 54.6875 \r\nL 36.8125 54.6875 \r\nL 36.8125 47.703125 \r\nL 18.3125 47.703125 \r\nL 18.3125 18.015625 \r\nQ 18.3125 11.328125 20.140625 9.421875 \r\nQ 21.96875 7.515625 27.59375 7.515625 \r\nL 36.8125 7.515625 \r\nL 36.8125 0 \r\nL 27.59375 0 \r\nQ 17.1875 0 13.234375 3.875 \r\nQ 9.28125 7.765625 9.28125 18.015625 \r\nL 9.28125 47.703125 \r\nL 2.6875 47.703125 \r\nL 2.6875 54.6875 \r\nL 9.28125 54.6875 \r\nL 9.28125 70.21875 \r\nz\r\n\" id=\"DejaVuSans-116\"/>\r\n      <path d=\"M 32.171875 -5.078125 \r\nQ 28.375 -14.84375 24.75 -17.8125 \r\nQ 21.140625 -20.796875 15.09375 -20.796875 \r\nL 7.90625 -20.796875 \r\nL 7.90625 -13.28125 \r\nL 13.1875 -13.28125 \r\nQ 16.890625 -13.28125 18.9375 -11.515625 \r\nQ 21 -9.765625 23.484375 -3.21875 \r\nL 25.09375 0.875 \r\nL 2.984375 54.6875 \r\nL 12.5 54.6875 \r\nL 29.59375 11.921875 \r\nL 46.6875 54.6875 \r\nL 56.203125 54.6875 \r\nz\r\n\" id=\"DejaVuSans-121\"/>\r\n     </defs>\r\n     <g style=\"fill:#ffffff;\" transform=\"translate(14.798438 138.052031)rotate(-90)scale(0.1 -0.1)\">\r\n      <use xlink:href=\"#DejaVuSans-100\"/>\r\n      <use x=\"63.476562\" xlink:href=\"#DejaVuSans-101\"/>\r\n      <use x=\"125\" xlink:href=\"#DejaVuSans-110\"/>\r\n      <use x=\"188.378906\" xlink:href=\"#DejaVuSans-115\"/>\r\n      <use x=\"240.478516\" xlink:href=\"#DejaVuSans-105\"/>\r\n      <use x=\"268.261719\" xlink:href=\"#DejaVuSans-116\"/>\r\n      <use x=\"307.470703\" xlink:href=\"#DejaVuSans-121\"/>\r\n     </g>\r\n    </g>\r\n   </g>\r\n   <g id=\"patch_3\">\r\n    <path d=\"M 43.78125 228.439219 \r\nL 43.78125 10.999219 \r\n\" style=\"fill:none;stroke:#ffffff;stroke-linecap:square;stroke-linejoin:miter;stroke-width:0.8;\"/>\r\n   </g>\r\n   <g id=\"patch_4\">\r\n    <path d=\"M 261.22125 228.439219 \r\nL 261.22125 10.999219 \r\n\" style=\"fill:none;stroke:#ffffff;stroke-linecap:square;stroke-linejoin:miter;stroke-width:0.8;\"/>\r\n   </g>\r\n   <g id=\"patch_5\">\r\n    <path d=\"M 43.78125 228.439219 \r\nL 261.22125 228.439219 \r\n\" style=\"fill:none;stroke:#ffffff;stroke-linecap:square;stroke-linejoin:miter;stroke-width:0.8;\"/>\r\n   </g>\r\n   <g id=\"patch_6\">\r\n    <path d=\"M 43.78125 10.999219 \r\nL 261.22125 10.999219 \r\n\" style=\"fill:none;stroke:#ffffff;stroke-linecap:square;stroke-linejoin:miter;stroke-width:0.8;\"/>\r\n   </g>\r\n  </g>\r\n  <g id=\"axes_2\">\r\n   <g id=\"patch_7\">\r\n    <path clip-path=\"url(#pee22d31ea6)\" d=\"M 277.96125 228.439219 \r\nL 277.96125 174.079219 \r\nL 277.96125 65.359219 \r\nL 277.96125 10.999219 \r\nL 288.83325 10.999219 \r\nL 288.83325 65.359219 \r\nL 288.83325 174.079219 \r\nL 288.83325 228.439219 \r\nz\r\n\" style=\"stroke:#000000;stroke-linejoin:miter;stroke-width:0.01;\"/>\r\n   </g>\r\n   <g id=\"QuadMesh_1\">\r\n    <path clip-path=\"url(#pee22d31ea6)\" d=\"M 277.96125 228.439219 \r\nL 288.83325 228.439219 \r\nL 288.83325 174.079219 \r\nL 277.96125 174.079219 \r\nL 277.96125 228.439219 \r\n\" style=\"fill:#440154;\"/>\r\n    <path clip-path=\"url(#pee22d31ea6)\" d=\"M 277.96125 174.079219 \r\nL 288.83325 174.079219 \r\nL 288.83325 119.719219 \r\nL 277.96125 119.719219 \r\nL 277.96125 174.079219 \r\n\" style=\"fill:#31688e;\"/>\r\n    <path clip-path=\"url(#pee22d31ea6)\" d=\"M 277.96125 119.719219 \r\nL 288.83325 119.719219 \r\nL 288.83325 65.359219 \r\nL 277.96125 65.359219 \r\nL 277.96125 119.719219 \r\n\" style=\"fill:#35b779;\"/>\r\n    <path clip-path=\"url(#pee22d31ea6)\" d=\"M 277.96125 65.359219 \r\nL 288.83325 65.359219 \r\nL 288.83325 10.999219 \r\nL 277.96125 10.999219 \r\nL 277.96125 65.359219 \r\n\" style=\"fill:#fde725;\"/>\r\n   </g>\r\n   <g id=\"matplotlib.axis_3\"/>\r\n   <g id=\"matplotlib.axis_4\">\r\n    <g id=\"ytick_8\">\r\n     <g id=\"line2d_15\">\r\n      <defs>\r\n       <path d=\"M 0 0 \r\nL 3.5 0 \r\n\" id=\"m3068eade1f\" style=\"stroke:#ffffff;stroke-width:0.8;\"/>\r\n      </defs>\r\n      <g>\r\n       <use style=\"fill:#ffffff;stroke:#ffffff;stroke-width:0.8;\" x=\"288.83325\" xlink:href=\"#m3068eade1f\" y=\"201.259219\"/>\r\n      </g>\r\n     </g>\r\n     <g id=\"text_17\">\r\n      <!-- 0 -->\r\n      <g style=\"fill:#ffffff;\" transform=\"translate(295.83325 205.058438)scale(0.1 -0.1)\">\r\n       <use xlink:href=\"#DejaVuSans-48\"/>\r\n      </g>\r\n     </g>\r\n    </g>\r\n    <g id=\"ytick_9\">\r\n     <g id=\"line2d_16\">\r\n      <g>\r\n       <use style=\"fill:#ffffff;stroke:#ffffff;stroke-width:0.8;\" x=\"288.83325\" xlink:href=\"#m3068eade1f\" y=\"146.899219\"/>\r\n      </g>\r\n     </g>\r\n     <g id=\"text_18\">\r\n      <!-- 1 -->\r\n      <g style=\"fill:#ffffff;\" transform=\"translate(295.83325 150.698438)scale(0.1 -0.1)\">\r\n       <use xlink:href=\"#DejaVuSans-49\"/>\r\n      </g>\r\n     </g>\r\n    </g>\r\n    <g id=\"ytick_10\">\r\n     <g id=\"line2d_17\">\r\n      <g>\r\n       <use style=\"fill:#ffffff;stroke:#ffffff;stroke-width:0.8;\" x=\"288.83325\" xlink:href=\"#m3068eade1f\" y=\"92.539219\"/>\r\n      </g>\r\n     </g>\r\n     <g id=\"text_19\">\r\n      <!-- 2 -->\r\n      <g style=\"fill:#ffffff;\" transform=\"translate(295.83325 96.338438)scale(0.1 -0.1)\">\r\n       <use xlink:href=\"#DejaVuSans-50\"/>\r\n      </g>\r\n     </g>\r\n    </g>\r\n    <g id=\"ytick_11\">\r\n     <g id=\"line2d_18\">\r\n      <g>\r\n       <use style=\"fill:#ffffff;stroke:#ffffff;stroke-width:0.8;\" x=\"288.83325\" xlink:href=\"#m3068eade1f\" y=\"38.179219\"/>\r\n      </g>\r\n     </g>\r\n     <g id=\"text_20\">\r\n      <!-- 3 -->\r\n      <defs>\r\n       <path d=\"M 40.578125 39.3125 \r\nQ 47.65625 37.796875 51.625 33 \r\nQ 55.609375 28.21875 55.609375 21.1875 \r\nQ 55.609375 10.40625 48.1875 4.484375 \r\nQ 40.765625 -1.421875 27.09375 -1.421875 \r\nQ 22.515625 -1.421875 17.65625 -0.515625 \r\nQ 12.796875 0.390625 7.625 2.203125 \r\nL 7.625 11.71875 \r\nQ 11.71875 9.328125 16.59375 8.109375 \r\nQ 21.484375 6.890625 26.8125 6.890625 \r\nQ 36.078125 6.890625 40.9375 10.546875 \r\nQ 45.796875 14.203125 45.796875 21.1875 \r\nQ 45.796875 27.640625 41.28125 31.265625 \r\nQ 36.765625 34.90625 28.71875 34.90625 \r\nL 20.21875 34.90625 \r\nL 20.21875 43.015625 \r\nL 29.109375 43.015625 \r\nQ 36.375 43.015625 40.234375 45.921875 \r\nQ 44.09375 48.828125 44.09375 54.296875 \r\nQ 44.09375 59.90625 40.109375 62.90625 \r\nQ 36.140625 65.921875 28.71875 65.921875 \r\nQ 24.65625 65.921875 20.015625 65.03125 \r\nQ 15.375 64.15625 9.8125 62.3125 \r\nL 9.8125 71.09375 \r\nQ 15.4375 72.65625 20.34375 73.4375 \r\nQ 25.25 74.21875 29.59375 74.21875 \r\nQ 40.828125 74.21875 47.359375 69.109375 \r\nQ 53.90625 64.015625 53.90625 55.328125 \r\nQ 53.90625 49.265625 50.4375 45.09375 \r\nQ 46.96875 40.921875 40.578125 39.3125 \r\nz\r\n\" id=\"DejaVuSans-51\"/>\r\n      </defs>\r\n      <g style=\"fill:#ffffff;\" transform=\"translate(295.83325 41.978438)scale(0.1 -0.1)\">\r\n       <use xlink:href=\"#DejaVuSans-51\"/>\r\n      </g>\r\n     </g>\r\n    </g>\r\n    <g id=\"text_21\">\r\n     <!-- nr. of restricted dimensions -->\r\n     <defs>\r\n      <path id=\"DejaVuSans-32\"/>\r\n      <path d=\"M 37.109375 75.984375 \r\nL 37.109375 68.5 \r\nL 28.515625 68.5 \r\nQ 23.6875 68.5 21.796875 66.546875 \r\nQ 19.921875 64.59375 19.921875 59.515625 \r\nL 19.921875 54.6875 \r\nL 34.71875 54.6875 \r\nL 34.71875 47.703125 \r\nL 19.921875 47.703125 \r\nL 19.921875 0 \r\nL 10.890625 0 \r\nL 10.890625 47.703125 \r\nL 2.296875 47.703125 \r\nL 2.296875 54.6875 \r\nL 10.890625 54.6875 \r\nL 10.890625 58.5 \r\nQ 10.890625 67.625 15.140625 71.796875 \r\nQ 19.390625 75.984375 28.609375 75.984375 \r\nz\r\n\" id=\"DejaVuSans-102\"/>\r\n      <path d=\"M 52 44.1875 \r\nQ 55.375 50.25 60.0625 53.125 \r\nQ 64.75 56 71.09375 56 \r\nQ 79.640625 56 84.28125 50.015625 \r\nQ 88.921875 44.046875 88.921875 33.015625 \r\nL 88.921875 0 \r\nL 79.890625 0 \r\nL 79.890625 32.71875 \r\nQ 79.890625 40.578125 77.09375 44.375 \r\nQ 74.3125 48.1875 68.609375 48.1875 \r\nQ 61.625 48.1875 57.5625 43.546875 \r\nQ 53.515625 38.921875 53.515625 30.90625 \r\nL 53.515625 0 \r\nL 44.484375 0 \r\nL 44.484375 32.71875 \r\nQ 44.484375 40.625 41.703125 44.40625 \r\nQ 38.921875 48.1875 33.109375 48.1875 \r\nQ 26.21875 48.1875 22.15625 43.53125 \r\nQ 18.109375 38.875 18.109375 30.90625 \r\nL 18.109375 0 \r\nL 9.078125 0 \r\nL 9.078125 54.6875 \r\nL 18.109375 54.6875 \r\nL 18.109375 46.1875 \r\nQ 21.1875 51.21875 25.484375 53.609375 \r\nQ 29.78125 56 35.6875 56 \r\nQ 41.65625 56 45.828125 52.96875 \r\nQ 50 49.953125 52 44.1875 \r\nz\r\n\" id=\"DejaVuSans-109\"/>\r\n     </defs>\r\n     <g style=\"fill:#ffffff;\" transform=\"translate(313.794188 188.717656)rotate(-90)scale(0.1 -0.1)\">\r\n      <use xlink:href=\"#DejaVuSans-110\"/>\r\n      <use x=\"63.378906\" xlink:href=\"#DejaVuSans-114\"/>\r\n      <use x=\"104.351562\" xlink:href=\"#DejaVuSans-46\"/>\r\n      <use x=\"136.138672\" xlink:href=\"#DejaVuSans-32\"/>\r\n      <use x=\"167.925781\" xlink:href=\"#DejaVuSans-111\"/>\r\n      <use x=\"229.107422\" xlink:href=\"#DejaVuSans-102\"/>\r\n      <use x=\"264.3125\" xlink:href=\"#DejaVuSans-32\"/>\r\n      <use x=\"296.099609\" xlink:href=\"#DejaVuSans-114\"/>\r\n      <use x=\"337.181641\" xlink:href=\"#DejaVuSans-101\"/>\r\n      <use x=\"398.705078\" xlink:href=\"#DejaVuSans-115\"/>\r\n      <use x=\"450.804688\" xlink:href=\"#DejaVuSans-116\"/>\r\n      <use x=\"490.013672\" xlink:href=\"#DejaVuSans-114\"/>\r\n      <use x=\"531.126953\" xlink:href=\"#DejaVuSans-105\"/>\r\n      <use x=\"558.910156\" xlink:href=\"#DejaVuSans-99\"/>\r\n      <use x=\"613.890625\" xlink:href=\"#DejaVuSans-116\"/>\r\n      <use x=\"653.099609\" xlink:href=\"#DejaVuSans-101\"/>\r\n      <use x=\"714.623047\" xlink:href=\"#DejaVuSans-100\"/>\r\n      <use x=\"778.099609\" xlink:href=\"#DejaVuSans-32\"/>\r\n      <use x=\"809.886719\" xlink:href=\"#DejaVuSans-100\"/>\r\n      <use x=\"873.363281\" xlink:href=\"#DejaVuSans-105\"/>\r\n      <use x=\"901.146484\" xlink:href=\"#DejaVuSans-109\"/>\r\n      <use x=\"998.558594\" xlink:href=\"#DejaVuSans-101\"/>\r\n      <use x=\"1060.082031\" xlink:href=\"#DejaVuSans-110\"/>\r\n      <use x=\"1123.460938\" xlink:href=\"#DejaVuSans-115\"/>\r\n      <use x=\"1175.560547\" xlink:href=\"#DejaVuSans-105\"/>\r\n      <use x=\"1203.34375\" xlink:href=\"#DejaVuSans-111\"/>\r\n      <use x=\"1264.525391\" xlink:href=\"#DejaVuSans-110\"/>\r\n      <use x=\"1327.904297\" xlink:href=\"#DejaVuSans-115\"/>\r\n     </g>\r\n    </g>\r\n   </g>\r\n   <g id=\"LineCollection_1\">\r\n    <path clip-path=\"url(#pee22d31ea6)\" d=\"M 277.96125 174.079219 \r\nL 288.83325 174.079219 \r\n\" style=\"fill:none;stroke:#ffffff;stroke-width:0.4;\"/>\r\n    <path clip-path=\"url(#pee22d31ea6)\" d=\"M 277.96125 119.719219 \r\nL 288.83325 119.719219 \r\n\" style=\"fill:none;stroke:#ffffff;stroke-width:0.4;\"/>\r\n    <path clip-path=\"url(#pee22d31ea6)\" d=\"M 277.96125 65.359219 \r\nL 288.83325 65.359219 \r\n\" style=\"fill:none;stroke:#ffffff;stroke-width:0.4;\"/>\r\n   </g>\r\n   <g id=\"patch_8\">\r\n    <path d=\"M 277.96125 228.439219 \r\nL 277.96125 174.079219 \r\nL 277.96125 65.359219 \r\nL 277.96125 10.999219 \r\nL 288.83325 10.999219 \r\nL 288.83325 65.359219 \r\nL 288.83325 174.079219 \r\nL 288.83325 228.439219 \r\nz\r\n\" style=\"fill:none;stroke:#ffffff;stroke-linejoin:miter;stroke-width:0.8;\"/>\r\n   </g>\r\n  </g>\r\n </g>\r\n <defs>\r\n  <clipPath id=\"p15a4287fd4\">\r\n   <rect height=\"217.44\" width=\"217.44\" x=\"43.78125\" y=\"10.999219\"/>\r\n  </clipPath>\r\n  <clipPath id=\"pee22d31ea6\">\r\n   <rect height=\"217.44\" width=\"10.872\" x=\"277.96125\" y=\"10.999219\"/>\r\n  </clipPath>\r\n </defs>\r\n</svg>\r\n",
      "image/png": "[encoded data removed]"
     },
     "metadata": {}
    }
   ],
   "source": [
    "box1 = prim_alg.find_box()\n",
    "# inspect_tradeoff()\n",
    "box1.inspect_tradeoff()\n",
    "box1.show_tradeoff()\n",
    "plt.show()"
   ]
  },
  {
   "cell_type": "code",
   "execution_count": null,
   "metadata": {
    "tags": []
   },
   "outputs": [],
   "source": [
    "box1.inspect()\n",
    "plt.show()\n"
   ]
  },
  {
   "cell_type": "code",
   "execution_count": null,
   "metadata": {
    "tags": []
   },
   "outputs": [],
   "source": [
    "box1.select(14)\n",
    "box1.show_pairs_scatter()\n",
    "fig = plt.gcf()\n",
    "fig.set_size_inches(12,12)\n",
    "plt.show()"
   ]
  },
  {
   "cell_type": "code",
   "execution_count": null,
   "metadata": {
    "tags": []
   },
   "outputs": [],
   "source": [
    "# PRIM for Welfare\n",
    "prim_alg = prim.Prim(x= cleaned_experiments, y=y_welfare, threshold=0.8, peel_alpha=0.1) \n",
    "\n",
    "box1 = prim_alg.find_box()\n",
    "box1.inspect_tradeoff()\n",
    "plt.show()\n",
    "\n",
    "# welfare only has false (no cases of interest)"
   ]
  },
  {
   "cell_type": "code",
   "execution_count": null,
   "metadata": {
    "tags": []
   },
   "outputs": [],
   "source": [
    "%debug\n"
   ]
  },
  {
   "cell_type": "code",
   "execution_count": null,
   "metadata": {
    "tags": []
   },
   "outputs": [],
   "source": [
    "box1.inspect()\n",
    "plt.show()"
   ]
  },
  {
   "cell_type": "code",
   "execution_count": null,
   "metadata": {
    "tags": []
   },
   "outputs": [],
   "source": [
    "box1.select(13)\n",
    "box1.show_pairs_scatter()\n",
    "fig = plt.gcf()\n",
    "fig.set_size_inches(12,12)\n",
    "plt.show()"
   ]
  },
  {
   "cell_type": "code",
   "execution_count": null,
   "metadata": {},
   "outputs": [],
   "source": [
    "# boxes = prim_alg.show_boxes()\n",
    "prim.Prim.show_boxes(prim_alg)\n",
    "# #visualize\n",
    "# prim.show_boxes_individually(boxes, results)\n",
    "# prim.show_boxes_together(boxes, results)\n",
    "# plt.show()"
   ]
  },
  {
   "cell_type": "code",
   "execution_count": null,
   "metadata": {
    "collapsed": true
   },
   "outputs": [],
   "source": [
    "## put results in excel\n",
    "import pandas as pd\n",
    "\n",
    "outcomes_df = pd.DataFrame(max_outcomes, index = df_index)\n",
    "experiments_df = pd.DataFrame(experiments)\n",
    "df_results = pd.concat([outcomes_df, experiments_df], axis=1)\n",
    "df_results.to_excel(\"r_100s_10p.xlsx\")"
   ]
  },
  {
   "cell_type": "code",
   "execution_count": null,
   "metadata": {
    "collapsed": true
   },
   "outputs": [],
   "source": [
    "''' \n",
    "########################## adapted from EMA workbench Mexican Flu example #################################\n",
    "Converting the outcome into a dictionary when PRIM returns a TypeError due to unhashable dictionary\n",
    "prim.prim requires y to be a 1D array, so why are we doing this?\n",
    "\n",
    "Is there some other way we can use the flu example for scenario discovery?\n",
    "In the flu example, there is a zero policy already decided through vensim, but here we are trying to find \n",
    "the most vulnerable scenarios across a large ensemble of policies through PRIM.\n",
    "i.e. we use PRIM to get uncertainty + policy subspace which gives undesirable outcomes \n",
    "'''\n",
    "# transform the outcomes to the required format \n",
    "\n",
    "y_dict = {}\n",
    "\n",
    "\n",
    "# get time and remove it from the dict\n",
    "for key, value in outcomes.items():\n",
    "    if key == 'Atmospheric Temperature':\n",
    "        max_temp = np.max(value, axis=1)\n",
    "        y_dict['max temp'] = max_temp\n",
    "    else:\n",
    "        y_dict[key] = value[:, -1]\n",
    "y_dict\n",
    "\n",
    "\n",
    "\n",
    "# commenting out because we don't have a time index\n",
    "        # we want the time at which the maximum occurred\n",
    "        # the code here is a bit obscure, I don't know why the transpose\n",
    "        # of value is needed. This however does produce the appropriate results\n",
    "#         logical = value.T == np.max(value, axis=1)\n",
    "#         tr['time of max'] = time[logical.T]"
   ]
  }
 ],
 "metadata": {
  "kernelspec": {
   "display_name": "Python 3",
   "language": "python",
   "name": "python3"
  },
  "language_info": {
   "codemirror_mode": {
    "name": "ipython",
    "version": 3
   },
   "file_extension": ".py",
   "mimetype": "text/x-python",
   "name": "python",
   "nbconvert_exporter": "python",
   "pygments_lexer": "ipython3",
   "version": "3.7.3-final"
  }
 },
 "nbformat": 4,
 "nbformat_minor": 2
}