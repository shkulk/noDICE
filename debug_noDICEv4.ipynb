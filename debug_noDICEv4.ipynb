{
 "cells": [
  {
   "cell_type": "code",
   "execution_count": null,
   "metadata": {},
   "outputs": [],
   "source": [
    "# verify behaviour"
   ]
  },
  {
   "cell_type": "code",
   "execution_count": 2,
   "metadata": {
    "tags": []
   },
   "outputs": [],
   "source": [
    "import numpy as np\n",
    "import pandas as pd"
   ]
  },
  {
   "cell_type": "code",
   "execution_count": 1,
   "metadata": {},
   "outputs": [
    {
     "output_type": "execute_result",
     "data": {
      "text/plain": "{'Atmospheric Temperature': array([0.8       , 0.92545486, 1.05816026, 1.19646513, 1.33895362,\n        1.48434219, 1.63142284, 1.77903606, 1.92606159, 2.07141899]),\n 'Per Capita Damage': array([0.29248318, 0.27614808, 0.26274088, 0.25165734, 0.24243748,\n        0.23472646, 0.22824716, 0.22278078, 0.22036145, 0.2807157 ]),\n 'Per Capita Consumption': array([ 6.97108848,  7.80535498,  8.74708853,  9.79232857, 10.93849564,\n        12.18394293, 13.52761407, 14.96879967, 16.50697416, 18.14169383]),\n 'Population': array([6838.        , 7242.49099028, 7612.06244902, 7947.31440834,\n        8249.54940737, 8520.55616332, 8762.4308785 , 8977.43509798,\n        9167.88665673, 9336.07912905]),\n 'Utility of Consumption': array([0.29474721, 0.34074562, 0.38479148, 0.42626671, 0.46494208,\n        0.50081091, 0.53398534, 0.56463503, 0.59295208, 0.61913176]),\n 'Disutility of Damage': array([0., 0., 0., 0., 0., 0., 0., 0., 0., 0.]),\n 'Welfare': array([-3854.94153823, -3854.85616684, -3854.81394867, -3854.79304492,\n        -3854.78243855, -3854.77686343, -3854.77381505, -3854.77208028,\n        -3854.77105413, -3854.77042457]),\n 'Undiscounted Period Welfare': array([0.29474721, 0.34074562, 0.38479148, 0.42626671, 0.46494208,\n        0.50081091, 0.53398534, 0.56463503, 0.59295208, 0.61913176]),\n 'Total Output': array([ 63.47310655,  75.2732532 ,  88.65963267, 103.62545133,\n        120.15667141, 138.23431429, 157.83592976, 178.93665447,\n        201.5100774 , 225.52901353]),\n 'Consumption Growth': array([0.        , 0.11967521, 0.12065224, 0.11949577, 0.11704745,\n        0.1138591 , 0.11028213, 0.10653657, 0.10275871, 0.09903206]),\n 'Damage Growth': array([ 0.        , -0.05584971, -0.04855077, -0.04218431, -0.03663655,\n        -0.03180623, -0.02760361, -0.0239494 , -0.01085969,  0.2738875 ]),\n 'Consumption SDR': array([0.015     , 0.18852906, 0.18994574, 0.18826886, 0.1847188 ,\n        0.1800957 , 0.17490908, 0.16947803, 0.16400012, 0.15859649]),\n 'Damage SDR': array([0.015     , 0.02058497, 0.01985508, 0.01921843, 0.01866365,\n        0.01818062, 0.01776036, 0.01739494, 0.01608597, 0.        ])}"
     },
     "metadata": {},
     "execution_count": 1
    }
   ],
   "source": [
    "from dicemodel.noDICE_v5 import PyDICE\n",
    "model = PyDICE(steps=10)\n",
    "model.__call__()"
   ]
  },
  {
   "cell_type": "code",
   "execution_count": 5,
   "metadata": {},
   "outputs": [
    {
     "output_type": "error",
     "ename": "AttributeError",
     "evalue": "'PyDICE' object has no attribute 'VD_switch'",
     "traceback": [
      "\u001b[1;31m---------------------------------------------------------------------------\u001b[0m",
      "\u001b[1;31mAttributeError\u001b[0m                            Traceback (most recent call last)",
      "\u001b[1;32m<ipython-input-5-3c3037cb3da4>\u001b[0m in \u001b[0;36m<module>\u001b[1;34m\u001b[0m\n\u001b[0;32m      1\u001b[0m \u001b[1;31m# model.inst_disutil_dam\u001b[0m\u001b[1;33m\u001b[0m\u001b[1;33m\u001b[0m\u001b[1;33m\u001b[0m\u001b[0m\n\u001b[0;32m      2\u001b[0m \u001b[1;31m# model.sdr_dam\u001b[0m\u001b[1;33m\u001b[0m\u001b[1;33m\u001b[0m\u001b[1;33m\u001b[0m\u001b[0m\n\u001b[1;32m----> 3\u001b[1;33m \u001b[0mmodel\u001b[0m\u001b[1;33m.\u001b[0m\u001b[0mVD_switch\u001b[0m\u001b[1;33m\u001b[0m\u001b[1;33m\u001b[0m\u001b[0m\n\u001b[0m",
      "\u001b[1;31mAttributeError\u001b[0m: 'PyDICE' object has no attribute 'VD_switch'"
     ]
    }
   ],
   "source": [
    "# model.inst_disutil_dam\n",
    "# model.sdr_dam\n",
    "model.VD_switch"
   ]
  },
  {
   "cell_type": "code",
   "execution_count": 4,
   "metadata": {},
   "outputs": [
    {
     "output_type": "execute_result",
     "data": {
      "text/plain": "array([0., 0., 0., 0., 0., 0., 0., 0., 0., 0.])"
     },
     "metadata": {},
     "execution_count": 4
    }
   ],
   "source": [
    "model.inst_disutil_dam"
   ]
  },
  {
   "cell_type": "code",
   "execution_count": 13,
   "metadata": {},
   "outputs": [
    {
     "output_type": "execute_result",
     "data": {
      "text/plain": "array([0.29474721, 0.34074562, 0.38479148, 0.42626671, 0.46494208,\n       0.50081091, 0.53398534, 0.56463503, 0.59295208, 0.61913176,\n       0.64336232, 0.66582009, 0.68666748, 0.70605258, 0.72410957,\n       0.74095967, 0.7567121 , 0.7714652 , 0.78530747, 0.79832695,\n       0.81059515, 0.82217594, 0.83312653, 0.84349827, 0.85333728,\n       0.86268509, 0.8715791 , 0.88005304, 0.88813732, 0.89601106])"
     },
     "metadata": {},
     "execution_count": 13
    }
   ],
   "source": [
    "model.inst_util_con"
   ]
  },
  {
   "cell_type": "code",
   "execution_count": 14,
   "metadata": {},
   "outputs": [
    {
     "output_type": "execute_result",
     "data": {
      "text/plain": "array([ 2.        ,  2.        ,  2.        ,  2.        ,  2.        ,\n        2.        ,  2.        ,  2.        ,  2.02024881,  2.62078398,\n        3.33944619,  4.18491268,  5.16369033,  6.27965487,  7.53364109,\n        8.9230929 , 10.44177785, 12.07956765, 13.82228308, 15.62788498,\n       17.47068755, 19.32134584, 21.14699376, 22.91142146, 24.57529237,\n       26.09640314, 27.42999411, 28.5291242 , 29.34513332, 29.82822881])"
     },
     "metadata": {},
     "execution_count": 14
    }
   ],
   "source": [
    "model.damages"
   ]
  },
  {
   "cell_type": "code",
   "execution_count": 15,
   "metadata": {},
   "outputs": [
    {
     "output_type": "execute_result",
     "data": {
      "text/plain": "array([ 47.66830302,  56.53021315,  66.58338413,  77.82271395,\n        90.23766023, 103.81397003, 118.53478325, 134.38142751,\n       151.33406813, 169.37228916, 188.47563542, 208.62412234,\n       229.79871013, 251.98173525, 275.15729224, 299.31156083,\n       324.4330755 , 350.51293711, 377.54496837, 405.54362624,\n       434.51349056, 464.46126173, 495.3957076 , 527.32755949,\n       560.2693619 , 594.2352768 , 629.24083832, 665.30264781,\n       702.43799053, 741.4300839 ])"
     },
     "metadata": {},
     "execution_count": 15
    }
   ],
   "source": [
    "model.c"
   ]
  },
  {
   "cell_type": "code",
   "execution_count": 16,
   "metadata": {},
   "outputs": [
    {
     "output_type": "execute_result",
     "data": {
      "text/plain": "array([ 63.47310655,  75.2732532 ,  88.65963267, 103.62545133,\n       120.15667141, 138.23431429, 157.83592976, 178.93665447,\n       201.5100774 , 225.52901353, 250.96622559, 277.79510298,\n       305.99029312, 335.52827596, 366.38787249, 398.5506802 ,\n       432.00143209, 466.72827844, 502.72299384, 540.00482855,\n       578.5798809 , 618.45707287, 659.64807936, 702.16718973,\n       746.03110772, 791.25869082, 837.8706236 , 885.88901174,\n       935.33687154, 987.2571024 ])"
     },
     "metadata": {},
     "execution_count": 16
    }
   ],
   "source": [
    "model.y"
   ]
  },
  {
   "cell_type": "code",
   "execution_count": 17,
   "metadata": {},
   "outputs": [
    {
     "output_type": "execute_result",
     "data": {
      "text/plain": "array([ 0.29474721,  0.34074562,  0.38479148,  0.42626671,  0.46494208,\n        0.50081091,  0.53398534,  0.56463503,  0.59295208,  0.61913176,\n        0.64336232,  0.66582009,  0.68666748,  0.70605258,  0.72410957,\n        0.74095967,  0.7567121 ,  0.7714652 ,  0.78530747,  0.79832695,\n        0.81059515,  0.82217594,  0.73903548,  0.57063648,  0.41099237,\n        0.2647766 ,  0.13697594,  0.03283153, -0.04223623, -0.08257206])"
     },
     "metadata": {},
     "execution_count": 17
    }
   ],
   "source": [
    "model.undiscounted_welfare"
   ]
  },
  {
   "cell_type": "code",
   "execution_count": 20,
   "metadata": {},
   "outputs": [
    {
     "output_type": "execute_result",
     "data": {
      "text/plain": "0.14085825913641092"
     },
     "metadata": {},
     "execution_count": 20
    }
   ],
   "source": [
    "model.disc_disutil_dam[-1]\n"
   ]
  },
  {
   "cell_type": "code",
   "execution_count": null,
   "metadata": {},
   "outputs": [],
   "source": [
    "tstep = 5\n",
    "t= 10\n",
    "\n",
    "prtp_dam = 0.015\n",
    "emdd = 1.45/2\n",
    "dam_g = 0.16\n",
    "dpc = 0.7/10\n",
    "\n",
    "prtp_con = 0.015\n",
    "emuc = 1.45\n",
    "con_g = 0.09\n",
    "cpc = 20/10"
   ]
  },
  {
   "cell_type": "code",
   "execution_count": null,
   "metadata": {
    "tags": []
   },
   "outputs": [],
   "source": [
    "sdr_dam = (prtp_dam + (emdd * dam_g))\n",
    "sdr_con = (prtp_con + (emuc * con_g))\n",
    "\n",
    "# sdr_con = 0.015\n",
    "# sdr_dam= sdr_con\n",
    "\n",
    "print(sdr_dam, sdr_con)"
   ]
  },
  {
   "cell_type": "code",
   "execution_count": null,
   "metadata": {
    "tags": []
   },
   "outputs": [],
   "source": [
    "# Social discount factor for disutility of damage            \n",
    "damage_sdf = (1.0 /(1.0 + sdr_dam))**(tstep * (t))\n",
    "consumption_sdf = (1.0 /(1.0 + sdr_con))**(tstep * (t))\n",
    "\n",
    "# print(damage_sdf, consumption_sdf)"
   ]
  },
  {
   "cell_type": "code",
   "execution_count": null,
   "metadata": {
    "tags": []
   },
   "outputs": [],
   "source": [
    "inst_disutil_dam = ((dpc ** (1.0 - emdd)-1.0)/ (1.0 - emdd)- 1.0)\n",
    "# inst_disutil_dam = np.log(dpc)\n",
    "inst_util_con = ((cpc ** (1.0 - emuc))/ (1.0 - emuc))\n",
    "\n",
    "\n",
    "print(inst_disutil_dam, inst_util_con)\n",
    "print(inst_util_con-inst_disutil_dam)\n",
    "\n",
    "# print(inst_util_con+inst_disutil_dam)\n"
   ]
  },
  {
   "cell_type": "code",
   "execution_count": null,
   "metadata": {
    "tags": []
   },
   "outputs": [],
   "source": [
    "uc_marginal = inst_util_con/cpc\n",
    "\n",
    "vd_marginal = inst_disutil_dam/dpc\n",
    "print(uc_marginal)\n",
    "\n",
    "print(vd_marginal)"
   ]
  },
  {
   "cell_type": "code",
   "execution_count": null,
   "metadata": {
    "tags": []
   },
   "outputs": [],
   "source": [
    "disc_disutil_dam = inst_disutil_dam * damage_sdf\n",
    "disc_util_con = inst_util_con * consumption_sdf\n",
    "\n",
    "print(disc_disutil_dam,disc_util_con)\n",
    "print(disc_util_con - disc_disutil_dam)\n"
   ]
  },
  {
   "cell_type": "code",
   "execution_count": null,
   "metadata": {},
   "outputs": [],
   "source": []
  },
  {
   "cell_type": "code",
   "execution_count": null,
   "metadata": {
    "tags": []
   },
   "outputs": [],
   "source": [
    "prtp_con = 0.015\n",
    "emuc = 1.45\n",
    "con_g = 0.09\n",
    "cpc = 200\n",
    "sdr_con = (prtp_con + (emuc * con_g))\n",
    "# print(sdr_con)\n",
    "consumption_sdf = (1.0 /(1.0 + sdr_con))**(tstep * (t))\n",
    "# print(consumption_sdf)\n",
    "inst_util_con = ((cpc ** (1.0 - emuc))/ (1.0 - emuc))\n",
    "print(inst_util_con)\n",
    "print(inst_util_con-inst_disutil_dam)\n",
    "disc_util_con = inst_util_con * consumption_sdf\n",
    "\n",
    "# print(disc_util_con*1000)\n",
    "# print((disc_util_con - disc_disutil_dam) * 1000)"
   ]
  }
 ],
 "metadata": {
  "language_info": {
   "codemirror_mode": {
    "name": "ipython",
    "version": 3
   },
   "file_extension": ".py",
   "mimetype": "text/x-python",
   "name": "python",
   "nbconvert_exporter": "python",
   "pygments_lexer": "ipython3",
   "version": "3.7.3-final"
  },
  "orig_nbformat": 2,
  "kernelspec": {
   "name": "python3",
   "display_name": "Python 3"
  }
 },
 "nbformat": 4,
 "nbformat_minor": 2
}