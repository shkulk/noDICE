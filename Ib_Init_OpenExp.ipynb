{
 "cells": [
  {
   "cell_type": "code",
   "execution_count": null,
   "metadata": {
    "tags": []
   },
   "outputs": [],
   "source": [
    "import time\n",
    "%matplotlib inline\n",
    "import matplotlib.pyplot as plt\n",
    "import numpy as np\n",
    "import pandas as pd\n",
    "import seaborn as sns\n",
    "sns.set_style('white')\n",
    "# import statsmodels.api as sm\n",
    "\n",
    "from ema_workbench import (Model, RealParameter, IntegerParameter, ArrayOutcome, TimeSeriesOutcome,\n",
    "                           ema_logging, SequentialEvaluator,\n",
    "                           MultiprocessingEvaluator)\n",
    "from ema_workbench import save_results, load_results\n",
    "# from ema_workbench.analysis import prim, cart\n",
    "from ema_workbench.analysis import scenario_discovery_util as sdutil\n",
    "from sklearn import preprocessing \n",
    "from ema_workbench.em_framework.evaluators import LHS, SOBOL, MORRIS\n",
    "# from ema_workbench.analysis import feature_scoring\n",
    "# from ema_workbench.em_framework.salib_samplers import get_SALib_problem\n",
    "# from SALib.analyze import sobol\n",
    "\n",
    "\n",
    "ema_logging.log_to_stderr(ema_logging.INFO)\n",
    "from dicemodel.noDICE_v2 import PyDICE"
   ]
  },
  {
   "cell_type": "code",
   "execution_count": null,
   "metadata": {},
   "outputs": [],
   "source": [
    "from ema_workbench import (perform_experiments, Model, Policy, Scenario, ReplicatorModel, RealParameter, IntegerParameter, ScalarOutcome, ArrayOutcome, \n",
    "                           Constant, ema_logging, SequentialEvaluator, MultiprocessingEvaluator, IpyparallelEvaluator)\n"
   ]
  },
  {
   "cell_type": "markdown",
   "metadata": {},
   "source": [
    "# Time series "
   ]
  },
  {
   "cell_type": "code",
   "execution_count": null,
   "metadata": {},
   "outputs": [],
   "source": [
    "\n",
    "if __name__ == '__main__':\n",
    "    ema_logging.log_to_stderr(ema_logging.INFO)\n",
    "    \n",
    "\n",
    "    model = PyDICE()\n",
    "    dice_sm = Model('dicesmEMA', function=model)\n",
    "    \n",
    "    dice_sm.uncertainties = [IntegerParameter('t2xco2_index', 0, 999),\n",
    "                             IntegerParameter('t2xco2_dist',0,2),\n",
    "\n",
    "                             RealParameter('tfp_gr',  0.07, 0.09),\n",
    "                             RealParameter('sigma_gr', -0.012, -0.008),\n",
    "                             RealParameter('pop_gr', 0.1, 0.15),\n",
    "                             RealParameter('fosslim',  4000.0, 13649),\n",
    "                             IntegerParameter('cback', 100, 600)]\n",
    "    \n",
    "    dice_sm.levers = [RealParameter('sr', 0.1, 0.5),\n",
    "                      RealParameter('prtp_con',  0.001, 0.015),\n",
    "                      RealParameter('prtp_dam',  0.001, 0.015),\n",
    "                    #   RealParameter('emuc',  0.01, 2.00),\n",
    "                      RealParameter('emdd',  0.01, 2.00),\n",
    "                      IntegerParameter('periodfullpart', 10, 58),\n",
    "                      IntegerParameter('miu_period', 10, 58)]\n",
    "    \n",
    "    dice_sm.outcomes = [TimeSeriesOutcome('Atmospheric Temperature'),\n",
    "                        TimeSeriesOutcome('Damages'),\n",
    "                        TimeSeriesOutcome('Utility of Consumption'),\n",
    "                        TimeSeriesOutcome('Disutility of Damage'),\n",
    "                        # TimeSeriesOutcome('Damage to output ratio'),\n",
    "                        TimeSeriesOutcome('Welfare'),\n",
    "                        TimeSeriesOutcome('Total Output'),\n",
    "                        TimeSeriesOutcome('Consumption SDR'),\n",
    "                        TimeSeriesOutcome('Damage SDR')\n",
    "                        ]\n",
    "    \n",
    "    \n",
    "    # n_scenarios = 2\n",
    "    # n_policies = 1\n"
   ]
  },
  {
   "cell_type": "code",
   "execution_count": null,
   "metadata": {},
   "outputs": [],
   "source": [
    "n_scenarios = 100\n",
    "n_policies = 50"
   ]
  },
  {
   "cell_type": "code",
   "execution_count": null,
   "metadata": {
    "tags": []
   },
   "outputs": [],
   "source": [
    "start = time.time()\n",
    "with MultiprocessingEvaluator(dice_sm, n_processes=8) as evaluator:\n",
    "    results2 = evaluator.perform_experiments(scenarios=n_scenarios, policies=n_policies)\n",
    "end = time.time()\n",
    "\n",
    "print('Experiment time is ' + str(round((end - start)/60)) + ' mintues')"
   ]
  },
  {
   "cell_type": "code",
   "execution_count": null,
   "metadata": {},
   "outputs": [],
   "source": [
    "experiments, outcomes = results2\n",
    "\n",
    "from ema_workbench.analysis import plotting, plotting_util\n"
   ]
  },
  {
   "cell_type": "code",
   "execution_count": null,
   "metadata": {
    "tags": []
   },
   "outputs": [],
   "source": [
    "# pydice_folder = os.path.dirname(os.getcwd())+\"\\\\1_Model\"\n",
    "# sys.path.insert(1, pydice_folder)\n",
    "# file_name = 'exploration_V4_' + str(n_scenarios) + 'scen_' + 'nordhaus_optimal_policy_' + str(4) + 'obj' + '.tar.gz'\n",
    "# #save_results(results, file_name)\n",
    "results = results2\n",
    "save_results(results, '1a_OE_100p_50s.tar.gz')\n"
   ]
  },
  {
   "cell_type": "code",
   "execution_count": null,
   "metadata": {
    "tags": []
   },
   "outputs": [],
   "source": [
    "load_results('1a_OE_100p_50s.tar.gz')"
   ]
  },
  {
   "cell_type": "code",
   "execution_count": null,
   "metadata": {},
   "outputs": [],
   "source": [
    "## pairs plotting\n",
    "from ema_workbench.analysis import pairs_plotting\n",
    "fig, axes = pairs_plotting.pairs_scatter(experiments,outcomes, group_by='policy',legend=True)\n",
    "fig.set_size_inches(20,20)\n",
    "plt.show()"
   ]
  },
  {
   "cell_type": "code",
   "execution_count": null,
   "metadata": {},
   "outputs": [],
   "source": [
    "fig.savefig('1a_OE_pairsplot' + str(n_scenarios) + 's' + str(n_policies) + 'p' + '.png')"
   ]
  },
  {
   "cell_type": "code",
   "execution_count": null,
   "metadata": {},
   "outputs": [],
   "source": [
    "## pairs plotting 100p, 50s\n",
    "from ema_workbench.analysis import pairs_plotting\n",
    "fig, axes = pairs_plotting.pairs_scatter(experiments,outcomes,legend=True)\n",
    "fig.set_size_inches(20,20)\n",
    "plt.show()"
   ]
  },
  {
   "cell_type": "code",
   "execution_count": null,
   "metadata": {},
   "outputs": [],
   "source": [
    "\n",
    "sns.set_style(\"whitegrid\")\n",
    "\n",
    "for outcome in outcomes.keys():\n",
    "    fig,axes=plotting.lines(experiments, outcomes, outcomes_to_show=outcome, density=plotting.Density.HIST)\n",
    "    fig.set_size_inches(12, 5)\n",
    "    fig.savefig('1a_TimeSeries' + str(n_scenarios) +'s' + str(n_policies) + 'p' + '.png')\n",
    "plt.show()"
   ]
  },
  {
   "cell_type": "code",
   "execution_count": null,
   "metadata": {},
   "outputs": [],
   "source": [
    "for outcome in outcomes.keys():\n",
    "    fig, axis = sns.boxenplot(x=outcomes[tstep])"
   ]
  },
  {
   "cell_type": "code",
   "execution_count": null,
   "metadata": {},
   "outputs": [],
   "source": [
    "# keeping EMUC constant, 10p 10s\n",
    "sns.set_style(\"whitegrid\")\n",
    "\n",
    "for outcome in outcomes.keys():\n",
    "    fig,axes=plotting.lines(experiments, outcomes, outcomes_to_show=outcome, density=plotting_util.Density.BOXPLOT)\n",
    "    fig.set_size_inches(12, 5)\n",
    "    # fig.savefig('Time_Series_Plot_V4_' + str(outcome) + '_scen' + str(n_scenarios) + '_pol' + str(n_policies) + '.png')\n",
    "plt.show()"
   ]
  },
  {
   "cell_type": "code",
   "execution_count": null,
   "metadata": {},
   "outputs": [],
   "source": [
    "## pairs plotting\n",
    "from ema_workbench.analysis import pairs_plotting\n",
    "fig, axes = pairs_plotting.pairs_scatter(experiments,outcomes, group_by='policy',legend=True)\n",
    "fig.set_size_inches(20,20)\n",
    "plt.show()"
   ]
  },
  {
   "cell_type": "code",
   "execution_count": null,
   "metadata": {},
   "outputs": [],
   "source": [
    "## pairs plotting\n",
    "from ema_workbench.analysis import pairs_plotting\n",
    "fig, axes = pairs_plotting.pairs_scatter(experiments,outcomes, group_by='policy',legend=True)\n",
    "fig.set_size_inches(20,20)\n",
    "plt.show()"
   ]
  },
  {
   "cell_type": "code",
   "execution_count": null,
   "metadata": {},
   "outputs": [],
   "source": []
  },
  {
   "cell_type": "code",
   "execution_count": null,
   "metadata": {},
   "outputs": [],
   "source": []
  }
 ],
 "metadata": {
  "language_info": {
   "codemirror_mode": {
    "name": "ipython",
    "version": 3
   },
   "file_extension": ".py",
   "mimetype": "text/x-python",
   "name": "python",
   "nbconvert_exporter": "python",
   "pygments_lexer": "ipython3",
   "version": "3.7.3-final"
  },
  "orig_nbformat": 2,
  "kernelspec": {
   "name": "python3",
   "display_name": "Python 3"
  }
 },
 "nbformat": 4,
 "nbformat_minor": 2
}