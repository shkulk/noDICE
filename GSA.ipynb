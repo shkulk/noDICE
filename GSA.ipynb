{
 "cells": [
  {
   "cell_type": "code",
   "execution_count": null,
   "metadata": {},
   "outputs": [],
   "source": [
    "# GSA with SOBOL"
   ]
  },
  {
   "cell_type": "code",
<<<<<<< HEAD
   "execution_count": 1,
   "metadata": {
    "tags": []
   },
   "outputs": [
    {
     "output_type": "stream",
     "name": "stderr",
     "text": "C:\\Users\\shrid\\Anaconda3\\lib\\site-packages\\ema_workbench\\analysis\\prim.py:31: ImportWarning: altair based interactive inspection not available\n  \"inspection not available\"), ImportWarning)\nC:\\Users\\shrid\\Anaconda3\\lib\\importlib\\_bootstrap.py:219: ImportWarning: can't resolve package from __spec__ or __package__, falling back on __name__ and __path__\n  return f(*args, **kwds)\n"
    }
   ],
=======
   "execution_count": 25,
   "metadata": {
    "tags": []
   },
   "outputs": [],
>>>>>>> 494596a53c200ee8f66c578fe9701c496a9ec4dd
   "source": [
    "import time\n",
    "%matplotlib inline\n",
    "import matplotlib.pyplot as plt\n",
    "import numpy as np\n",
    "import pandas as pd\n",
    "import seaborn as sns\n",
    "sns.set_style('white')\n",
    "# import statsmodels.api as sm\n",
    "\n",
    "from ema_workbench import (Model, RealParameter, IntegerParameter, ArrayOutcome, TimeSeriesOutcome,\n",
    "                           ema_logging, SequentialEvaluator,\n",
    "                           MultiprocessingEvaluator)\n",
    "from ema_workbench import save_results, load_results\n",
    "# from ema_workbench.analysis import prim\n",
    "from ema_workbench.analysis import scenario_discovery_util as sdutil\n",
    "from sklearn import preprocessing \n",
    "from ema_workbench.em_framework.evaluators import LHS, SOBOL, MORRIS\n",
    "from ema_workbench.analysis import feature_scoring\n",
    "from ema_workbench.em_framework.salib_samplers import get_SALib_problem\n",
    "from SALib.analyze import sobol\n",
    "\n",
    "\n",
    "\n",
    "\n",
    "ema_logging.log_to_stderr(ema_logging.INFO)\n",
<<<<<<< HEAD
    "from dicemodel.noDICE_v2 import PyDICE"
=======
    "from dicemodel.MyDICE_v4 import PyDICE"
>>>>>>> 494596a53c200ee8f66c578fe9701c496a9ec4dd
   ]
  },
  {
   "cell_type": "code",
<<<<<<< HEAD
   "execution_count": 2,
=======
   "execution_count": 5,
>>>>>>> 494596a53c200ee8f66c578fe9701c496a9ec4dd
   "metadata": {},
   "outputs": [],
   "source": [
    "# from openExp_working import dice_sm.uncertainties, dice_sm.levers, dice_sm.outcomes"
   ]
  },
  {
   "cell_type": "code",
<<<<<<< HEAD
   "execution_count": 3,
   "metadata": {},
   "outputs": [],
   "source": [
    "\n",
=======
   "execution_count": 6,
   "metadata": {},
   "outputs": [],
   "source": [
>>>>>>> 494596a53c200ee8f66c578fe9701c496a9ec4dd
    "if __name__ == '__main__':\n",
    "    ema_logging.log_to_stderr(ema_logging.INFO)\n",
    "    \n",
    "\n",
    "    model = PyDICE()\n",
    "    dice_sm = Model('dicesmEMA', function=model)\n",
    "    \n",
    "    dice_sm.uncertainties = [IntegerParameter('t2xco2_index', 0, 999),\n",
    "                             IntegerParameter('t2xco2_dist',0,2),\n",
<<<<<<< HEAD
    "                             IntegerParameter('fdamage', 0, 2),\n",
    "                             RealParameter('tfp_gr',  0.07, 0.09),\n",
    "                             RealParameter('sigma_gr', -0.012, -0.008),\n",
    "                             RealParameter('pop_gr', 0.1, 0.15),\n",
    "                             RealParameter('emdd',  0.01, 2.00),\n",
=======
    "                            #  IntegerParameter('fdamage',0,2),\n",
    "                             RealParameter('tfp_gr',  0.07, 0.09),\n",
    "                             RealParameter('sigma_gr', -0.012, -0.008),\n",
    "                             RealParameter('pop_gr', 0.1, 0.15),\n",
>>>>>>> 494596a53c200ee8f66c578fe9701c496a9ec4dd
    "                             RealParameter('fosslim',  4000.0, 13649),\n",
    "                             IntegerParameter('cback', 100, 600)]\n",
    "    \n",
    "    dice_sm.levers = [RealParameter('sr', 0.1, 0.5),\n",
<<<<<<< HEAD
    "                      RealParameter('prtp_con',  0.001, 0.015),\n",
    "                      RealParameter('prtp_dam',  0.001, 0.015),\n",
    "                    #   RealParameter('emuc',  0.01, 2.00),                      \n",
    "                      IntegerParameter('periodfullpart', 10, 58),\n",
    "                      IntegerParameter('miu_period', 10, 58)]\n",
    "    \n",
    "    dice_sm.outcomes = [TimeSeriesOutcome('Atmospheric Temperature'),\n",
    "                        TimeSeriesOutcome('Damages'),\n",
    "                        TimeSeriesOutcome('Utility of Consumption'),\n",
    "                        TimeSeriesOutcome('Disutility of Damage'),\n",
    "                        # TimeSeriesOutcome('Damage to output ratio'),\n",
    "                        TimeSeriesOutcome('Welfare'),\n",
    "                        TimeSeriesOutcome('Total Output'),\n",
    "                        TimeSeriesOutcome('Consumption SDR'),\n",
    "                        TimeSeriesOutcome('Damage SDR')\n",
    "                        ]\n",
=======
    "                      #RealParameter('prtp_con',  0.001, 0.015),\n",
    "                      #RealParameter('prtp_dam',  0.001, 0.015),\n",
    "                      RealParameter('emuc',  0.5, 1.5),\n",
    "                      RealParameter('emdd',  0.5, 1.5),\n",
    "                      #IntegerParameter('periodfullpart', 10, 58),\n",
    "                      IntegerParameter('miu_period', 10, 58)]\n",
    "    \n",
    "    dice_sm.outcomes = [ArrayOutcome('Atmospheric Temperature'),\n",
    "                        ArrayOutcome('Damages'),\n",
    "                        ArrayOutcome('Utility of Consumption'),\n",
    "                        ArrayOutcome('Savings rate'),\n",
    "                        ArrayOutcome('Disutility of Damage'),\n",
    "                        ArrayOutcome('Damage to output ratio'),\n",
    "                        ArrayOutcome('Welfare'),\n",
    "                        ArrayOutcome('Total Output')]\n",
>>>>>>> 494596a53c200ee8f66c578fe9701c496a9ec4dd
    "    "
   ]
  },
  {
   "cell_type": "code",
<<<<<<< HEAD
   "execution_count": 4,
=======
   "execution_count": 21,
>>>>>>> 494596a53c200ee8f66c578fe9701c496a9ec4dd
   "metadata": {},
   "outputs": [
    {
     "output_type": "execute_result",
     "data": {
<<<<<<< HEAD
      "text/plain": "{'num_vars': 9,\n 'names': ['cback',\n  'emdd',\n  'fdamage',\n  'fosslim',\n  'pop_gr',\n  'sigma_gr',\n  't2xco2_dist',\n  't2xco2_index',\n  'tfp_gr'],\n 'bounds': [(100, 601),\n  (0.01, 2.0),\n  (0, 3),\n  (4000.0, 13649),\n  (0.1, 0.15),\n  (-0.012, -0.008),\n  (0, 3),\n  (0, 1000),\n  (0.07, 0.09)]}"
     },
     "metadata": {},
     "execution_count": 4
=======
      "text/plain": "{'num_vars': 7,\n 'names': ['cback',\n  'fosslim',\n  'pop_gr',\n  'sigma_gr',\n  't2xco2_dist',\n  't2xco2_index',\n  'tfp_gr'],\n 'bounds': [(100, 600),\n  (4000.0, 13649),\n  (0.1, 0.15),\n  (-0.012, -0.008),\n  (0, 2),\n  (0, 999),\n  (0.07, 0.09)]}"
     },
     "metadata": {},
     "execution_count": 21
>>>>>>> 494596a53c200ee8f66c578fe9701c496a9ec4dd
    }
   ],
   "source": [
    "problem = get_SALib_problem(dice_sm.uncertainties)\n",
    "problem"
   ]
  },
  {
   "cell_type": "code",
<<<<<<< HEAD
   "execution_count": 6,
   "metadata": {},
   "outputs": [],
   "source": [
    "n_scenarios = 100\n",
    "n_policies = 50"
=======
   "execution_count": 8,
   "metadata": {},
   "outputs": [],
   "source": [
    "n_scenarios = 10\n",
    "n_policies = 10"
>>>>>>> 494596a53c200ee8f66c578fe9701c496a9ec4dd
   ]
  },
  {
   "cell_type": "code",
<<<<<<< HEAD
   "execution_count": 7,
=======
   "execution_count": 10,
>>>>>>> 494596a53c200ee8f66c578fe9701c496a9ec4dd
   "metadata": {
    "tags": []
   },
   "outputs": [
    {
     "output_type": "stream",
     "name": "stderr",
<<<<<<< HEAD
     "text": "[MainProcess/INFO] pool started\n[MainProcess/INFO] performing 2000 scenarios * 50 policies * 1 model(s) = 100000 experiments\n[MainProcess/INFO] 10000 cases completed\n[MainProcess/INFO] 20000 cases completed\n[MainProcess/INFO] 30000 cases completed\n[MainProcess/INFO] 40000 cases completed\n[MainProcess/INFO] 50000 cases completed\n[MainProcess/INFO] 60000 cases completed\n"
    }
   ],
   "source": [
    "start = time.time()\n",
    "with MultiprocessingEvaluator(dice_sm) as evaluator:\n",
    "       results_sobol = evaluator.perform_experiments(n_scenarios, n_policies, uncertainty_sampling=SOBOL)\n",
    "end = time.time()\n",
    "\n",
    "print('Experiment time is ' + str(round((end - start)/60)) + ' mintues')\n",
    "# Num of runs needed for k uncertainties = 1000(k+2)\n",
    "# for 9 uncertainties, 11,000 runs\n",
    "# with 100 scenarios and 10 policies under sobol, we get 18000 experiments/ runs (now 20,000: how does this work?)\n",
    "#  1000s, 100p = 2million experiments. starting time 1:13 am"
=======
     "text": "[MainProcess/INFO] pool started\n[MainProcess/INFO] performing 160 scenarios * 10 policies * 1 model(s) = 1600 experiments\n[MainProcess/INFO] 160 cases completed\n[MainProcess/INFO] 320 cases completed\n[MainProcess/INFO] 480 cases completed\n[MainProcess/INFO] 640 cases completed\n[MainProcess/INFO] 800 cases completed\n[MainProcess/INFO] 960 cases completed\n[MainProcess/INFO] 1120 cases completed\n[MainProcess/INFO] 1280 cases completed\n[MainProcess/INFO] 1440 cases completed\n[MainProcess/INFO] 1600 cases completed\n[MainProcess/INFO] experiments finished\n[MainProcess/INFO] terminating pool\n"
    }
   ],
   "source": [
    "with MultiprocessingEvaluator(dice_sm) as evaluator:\n",
    "       results_sobol = evaluator.perform_experiments(n_scenarios, n_policies, uncertainty_sampling=SOBOL)\n"
>>>>>>> 494596a53c200ee8f66c578fe9701c496a9ec4dd
   ]
  },
  {
   "cell_type": "code",
<<<<<<< HEAD
   "execution_count": null,
   "metadata": {
    "tags": []
   },
   "outputs": [],
   "source": [
    "save_results(results_sobol, '2a_SOBOL_100s_50p_100000e_fdamage.tar.gz')\n",
=======
   "execution_count": 11,
   "metadata": {
    "tags": []
   },
   "outputs": [
    {
     "output_type": "stream",
     "name": "stderr",
     "text": "[MainProcess/INFO] results saved successfully to e:\\Year_2_Quarter_4\\Thesis\\06_Code\\noDICE\\SOBOL_160s_10p.tar.gz\n"
    }
   ],
   "source": [
    "save_results(results_sobol, 'SOBOL_160s_10p.tar.gz')\n",
>>>>>>> 494596a53c200ee8f66c578fe9701c496a9ec4dd
    "#results = load_results('SOBOL_160s_10p.tar.gz')"
   ]
  },
  {
   "cell_type": "code",
<<<<<<< HEAD
   "execution_count": null,
   "metadata": {
    "tags": []
   },
   "outputs": [],
   "source": [
    "# print(results_sobol)\n",
    "experiments, outcomes = results_sobol\n",
    "# outcomes\n",
    "experiments"
=======
   "execution_count": 12,
   "metadata": {
    "tags": []
   },
   "outputs": [
    {
     "output_type": "stream",
     "name": "stdout",
     "text": "(      cback       fosslim    pop_gr  sigma_gr  t2xco2_dist  t2xco2_index  \\\n0     209.0   4932.862305  0.125928 -0.009293          0.0         906.0   \n1     549.0   4932.862305  0.125928 -0.009293          0.0         906.0   \n2     209.0   8833.922852  0.125928 -0.009293          0.0         906.0   \n3     209.0   4932.862305  0.103467 -0.009293          0.0         906.0   \n4     209.0   4932.862305  0.125928 -0.011660          0.0         906.0   \n5     209.0   4932.862305  0.125928 -0.009293          0.0         906.0   \n6     209.0   4932.862305  0.125928 -0.009293          0.0         160.0   \n7     209.0   4932.862305  0.125928 -0.009293          0.0         906.0   \n8     209.0   8833.922852  0.103467 -0.011660          0.0         160.0   \n9     549.0   4932.862305  0.103467 -0.011660          0.0         160.0   \n10    549.0   8833.922852  0.125928 -0.011660          0.0         160.0   \n11    549.0   8833.922852  0.103467 -0.009293          0.0         160.0   \n12    549.0   8833.922852  0.103467 -0.011660          0.0         160.0   \n13    549.0   8833.922852  0.103467 -0.011660          0.0         906.0   \n14    549.0   8833.922852  0.103467 -0.011660          0.0         160.0   \n15    549.0   8833.922852  0.103467 -0.011660          0.0         160.0   \n16    459.0   9757.362305  0.100928 -0.011293          1.0         406.0   \n17    299.0   9757.362305  0.100928 -0.011293          1.0         406.0   \n18    459.0   4009.422852  0.100928 -0.011293          1.0         406.0   \n19    459.0   9757.362305  0.128467 -0.011293          1.0         406.0   \n20    459.0   9757.362305  0.100928 -0.009660          1.0         406.0   \n21    459.0   9757.362305  0.100928 -0.011293          1.0         406.0   \n22    459.0   9757.362305  0.100928 -0.011293          1.0         660.0   \n23    459.0   9757.362305  0.100928 -0.011293          1.0         406.0   \n24    459.0   4009.422852  0.128467 -0.009660          1.0         660.0   \n25    299.0   9757.362305  0.128467 -0.009660          1.0         660.0   \n26    299.0   4009.422852  0.100928 -0.009660          1.0         660.0   \n27    299.0   4009.422852  0.128467 -0.011293          1.0         660.0   \n28    299.0   4009.422852  0.128467 -0.009660          1.0         660.0   \n29    299.0   4009.422852  0.128467 -0.009660          1.0         406.0   \n...     ...           ...       ...       ...          ...           ...   \n1570  131.0   4310.954102  0.102490 -0.010168          1.0         250.0   \n1571  131.0   5837.456055  0.120654 -0.010168          1.0         250.0   \n1572  131.0   5837.456055  0.102490 -0.009035          1.0         250.0   \n1573  131.0   5837.456055  0.102490 -0.010168          0.0         250.0   \n1574  131.0   5837.456055  0.102490 -0.010168          1.0         441.0   \n1575  131.0   5837.456055  0.102490 -0.010168          1.0         250.0   \n1576  131.0   4310.954102  0.120654 -0.009035          0.0         441.0   \n1577  502.0   5837.456055  0.120654 -0.009035          0.0         441.0   \n1578  502.0   4310.954102  0.102490 -0.009035          0.0         441.0   \n1579  502.0   4310.954102  0.120654 -0.010168          0.0         441.0   \n1580  502.0   4310.954102  0.120654 -0.009035          1.0         441.0   \n1581  502.0   4310.954102  0.120654 -0.009035          0.0         250.0   \n1582  502.0   4310.954102  0.120654 -0.009035          0.0         441.0   \n1583  502.0   4310.954102  0.120654 -0.009035          0.0         441.0   \n1584  381.0  10661.956055  0.127490 -0.008168          0.0         750.0   \n1585  252.0  10661.956055  0.127490 -0.008168          0.0         750.0   \n1586  381.0   9135.454102  0.127490 -0.008168          0.0         750.0   \n1587  381.0  10661.956055  0.145654 -0.008168          0.0         750.0   \n1588  381.0  10661.956055  0.127490 -0.011035          0.0         750.0   \n1589  381.0  10661.956055  0.127490 -0.008168          1.0         750.0   \n1590  381.0  10661.956055  0.127490 -0.008168          0.0         941.0   \n1591  381.0  10661.956055  0.127490 -0.008168          0.0         750.0   \n1592  381.0   9135.454102  0.145654 -0.011035          1.0         941.0   \n1593  252.0  10661.956055  0.145654 -0.011035          1.0         941.0   \n1594  252.0   9135.454102  0.127490 -0.011035          1.0         941.0   \n1595  252.0   9135.454102  0.145654 -0.008168          1.0         941.0   \n1596  252.0   9135.454102  0.145654 -0.011035          0.0         941.0   \n1597  252.0   9135.454102  0.145654 -0.011035          1.0         750.0   \n1598  252.0   9135.454102  0.145654 -0.011035          1.0         941.0   \n1599  252.0   9135.454102  0.145654 -0.011035          1.0         941.0   \n\n        tfp_gr      emdd      emuc  miu_period        sr scenario policy  \\\n0     0.070918  1.315107  1.112770        22.0  0.334129        0      0   \n1     0.070918  1.315107  1.112770        22.0  0.334129        1      0   \n2     0.070918  1.315107  1.112770        22.0  0.334129        2      0   \n3     0.070918  1.315107  1.112770        22.0  0.334129        3      0   \n4     0.070918  1.315107  1.112770        22.0  0.334129        4      0   \n5     0.070918  1.315107  1.112770        22.0  0.334129        5      0   \n6     0.070918  1.315107  1.112770        22.0  0.334129        6      0   \n7     0.077676  1.315107  1.112770        22.0  0.334129        7      0   \n8     0.077676  1.315107  1.112770        22.0  0.334129        8      0   \n9     0.077676  1.315107  1.112770        22.0  0.334129        9      0   \n10    0.077676  1.315107  1.112770        22.0  0.334129       10      0   \n11    0.077676  1.315107  1.112770        22.0  0.334129       11      0   \n12    0.077676  1.315107  1.112770        22.0  0.334129       12      0   \n13    0.077676  1.315107  1.112770        22.0  0.334129       13      0   \n14    0.070918  1.315107  1.112770        22.0  0.334129       14      0   \n15    0.077676  1.315107  1.112770        22.0  0.334129       15      0   \n16    0.080918  1.315107  1.112770        22.0  0.334129       16      0   \n17    0.080918  1.315107  1.112770        22.0  0.334129       17      0   \n18    0.080918  1.315107  1.112770        22.0  0.334129       18      0   \n19    0.080918  1.315107  1.112770        22.0  0.334129       19      0   \n20    0.080918  1.315107  1.112770        22.0  0.334129       20      0   \n21    0.080918  1.315107  1.112770        22.0  0.334129       21      0   \n22    0.080918  1.315107  1.112770        22.0  0.334129       22      0   \n23    0.087676  1.315107  1.112770        22.0  0.334129       23      0   \n24    0.087676  1.315107  1.112770        22.0  0.334129       24      0   \n25    0.087676  1.315107  1.112770        22.0  0.334129       25      0   \n26    0.087676  1.315107  1.112770        22.0  0.334129       26      0   \n27    0.087676  1.315107  1.112770        22.0  0.334129       27      0   \n28    0.087676  1.315107  1.112770        22.0  0.334129       28      0   \n29    0.087676  1.315107  1.112770        22.0  0.334129       29      0   \n...        ...       ...       ...         ...       ...      ...    ...   \n1570  0.089043  0.768530  1.019369        54.0  0.470520      130      9   \n1571  0.089043  0.768530  1.019369        54.0  0.470520      131      9   \n1572  0.089043  0.768530  1.019369        54.0  0.470520      132      9   \n1573  0.089043  0.768530  1.019369        54.0  0.470520      133      9   \n1574  0.089043  0.768530  1.019369        54.0  0.470520      134      9   \n1575  0.074551  0.768530  1.019369        54.0  0.470520      135      9   \n1576  0.074551  0.768530  1.019369        54.0  0.470520      136      9   \n1577  0.074551  0.768530  1.019369        54.0  0.470520      137      9   \n1578  0.074551  0.768530  1.019369        54.0  0.470520      138      9   \n1579  0.074551  0.768530  1.019369        54.0  0.470520      139      9   \n1580  0.074551  0.768530  1.019369        54.0  0.470520      140      9   \n1581  0.074551  0.768530  1.019369        54.0  0.470520      141      9   \n1582  0.089043  0.768530  1.019369        54.0  0.470520      142      9   \n1583  0.074551  0.768530  1.019369        54.0  0.470520      143      9   \n1584  0.079043  0.768530  1.019369        54.0  0.470520      144      9   \n1585  0.079043  0.768530  1.019369        54.0  0.470520      145      9   \n1586  0.079043  0.768530  1.019369        54.0  0.470520      146      9   \n1587  0.079043  0.768530  1.019369        54.0  0.470520      147      9   \n1588  0.079043  0.768530  1.019369        54.0  0.470520      148      9   \n1589  0.079043  0.768530  1.019369        54.0  0.470520      149      9   \n1590  0.079043  0.768530  1.019369        54.0  0.470520      150      9   \n1591  0.084551  0.768530  1.019369        54.0  0.470520      151      9   \n1592  0.084551  0.768530  1.019369        54.0  0.470520      152      9   \n1593  0.084551  0.768530  1.019369        54.0  0.470520      153      9   \n1594  0.084551  0.768530  1.019369        54.0  0.470520      154      9   \n1595  0.084551  0.768530  1.019369        54.0  0.470520      155      9   \n1596  0.084551  0.768530  1.019369        54.0  0.470520      156      9   \n1597  0.084551  0.768530  1.019369        54.0  0.470520      157      9   \n1598  0.079043  0.768530  1.019369        54.0  0.470520      158      9   \n1599  0.084551  0.768530  1.019369        54.0  0.470520      159      9   \n\n          model  \n0     dicesmEMA  \n1     dicesmEMA  \n2     dicesmEMA  \n3     dicesmEMA  \n4     dicesmEMA  \n5     dicesmEMA  \n6     dicesmEMA  \n7     dicesmEMA  \n8     dicesmEMA  \n9     dicesmEMA  \n10    dicesmEMA  \n11    dicesmEMA  \n12    dicesmEMA  \n13    dicesmEMA  \n14    dicesmEMA  \n15    dicesmEMA  \n16    dicesmEMA  \n17    dicesmEMA  \n18    dicesmEMA  \n19    dicesmEMA  \n20    dicesmEMA  \n21    dicesmEMA  \n22    dicesmEMA  \n23    dicesmEMA  \n24    dicesmEMA  \n25    dicesmEMA  \n26    dicesmEMA  \n27    dicesmEMA  \n28    dicesmEMA  \n29    dicesmEMA  \n...         ...  \n1570  dicesmEMA  \n1571  dicesmEMA  \n1572  dicesmEMA  \n1573  dicesmEMA  \n1574  dicesmEMA  \n1575  dicesmEMA  \n1576  dicesmEMA  \n1577  dicesmEMA  \n1578  dicesmEMA  \n1579  dicesmEMA  \n1580  dicesmEMA  \n1581  dicesmEMA  \n1582  dicesmEMA  \n1583  dicesmEMA  \n1584  dicesmEMA  \n1585  dicesmEMA  \n1586  dicesmEMA  \n1587  dicesmEMA  \n1588  dicesmEMA  \n1589  dicesmEMA  \n1590  dicesmEMA  \n1591  dicesmEMA  \n1592  dicesmEMA  \n1593  dicesmEMA  \n1594  dicesmEMA  \n1595  dicesmEMA  \n1596  dicesmEMA  \n1597  dicesmEMA  \n1598  dicesmEMA  \n1599  dicesmEMA  \n\n[1600 rows x 14 columns], {'Atmospheric Temperature': array([[0.8       , 0.93739023, 1.08346234, ..., 0.        , 0.        ,\n        0.        ],\n       [0.8       , 0.93739023, 1.08346233, ..., 0.        , 0.        ,\n        0.        ],\n       [0.8       , 0.93739023, 1.08346234, ..., 0.        , 0.        ,\n        0.        ],\n       ...,\n       [0.8       , 0.94741448, 1.10714815, ..., 6.10883439, 6.0399159 ,\n        5.97142507],\n       [0.8       , 0.96440499, 1.14275887, ..., 7.67164129, 7.60171884,\n        7.53118256],\n       [0.8       , 0.96440499, 1.14275887, ..., 7.67164129, 7.60171884,\n        7.53118256]]), 'Damages': array([[1.08648899e-01, 1.85109605e-01, 2.99385222e-01, ...,\n        0.00000000e+00, 0.00000000e+00, 0.00000000e+00],\n       [1.08648899e-01, 1.85109491e-01, 2.99382108e-01, ...,\n        0.00000000e+00, 0.00000000e+00, 0.00000000e+00],\n       [1.08648899e-01, 1.85109605e-01, 2.99385222e-01, ...,\n        0.00000000e+00, 0.00000000e+00, 0.00000000e+00],\n       ...,\n       [1.08648899e-01, 2.02549639e-01, 3.48114134e-01, ...,\n        3.41651570e+02, 3.41513155e+02, 3.41125776e+02],\n       [1.08648899e-01, 2.09879653e-01, 3.70862265e-01, ...,\n        5.23296733e+02, 5.25522477e+02, 5.27277665e+02],\n       [1.08648899e-01, 2.09879653e-01, 3.70862265e-01, ...,\n        5.23296733e+02, 5.25522477e+02, 5.27277665e+02]]), 'Utility of Consumption': array([[0.64656946,       -inf,       -inf, ...,       -inf,       -inf,\n              -inf],\n       [0.64656653,       -inf,       -inf, ...,       -inf,       -inf,\n              -inf],\n       [0.64656946,       -inf,       -inf, ...,       -inf,       -inf,\n              -inf],\n       ...,\n       [0.56796025,       -inf,       -inf, ...,       -inf,       -inf,\n              -inf],\n       [0.56796025,       -inf,       -inf, ...,       -inf,       -inf,\n              -inf],\n       [0.56796025,       -inf,       -inf, ...,       -inf,       -inf,\n              -inf]]), 'Savings rate': array([[0.33412901, 0.33412901, 0.33412901, ..., 0.33412901, 0.33412901,\n        0.33412901],\n       [0.33412901, 0.33412901, 0.33412901, ..., 0.33412901, 0.33412901,\n        0.33412901],\n       [0.33412901, 0.33412901, 0.33412901, ..., 0.33412901, 0.33412901,\n        0.33412901],\n       ...,\n       [0.47051972, 0.47051972, 0.47051972, ..., 0.47051972, 0.47051972,\n        0.47051972],\n       [0.47051972, 0.47051972, 0.47051972, ..., 0.47051972, 0.47051972,\n        0.47051972],\n       [0.47051972, 0.47051972, 0.47051972, ..., 0.47051972, 0.47051972,\n        0.47051972]]), 'Disutility of Damage': array([[-28811.75587565, -23285.73650808, -18667.64803172, ...,\n                   -inf,            -inf,            -inf],\n       [-28811.75587565, -23285.74408517, -18667.76311775, ...,\n                   -inf,            -inf,            -inf],\n       [-28811.75587565, -23285.73650808, -18667.64803172, ...,\n                   -inf,            -inf,            -inf],\n       ...,\n       [-18706.91640211, -16995.32510088, -14866.0298428 , ...,\n        119173.55165773, 119158.07902586, 119112.91288636],\n       [-18706.91640211, -16815.78531259, -14482.54275181, ...,\n        137328.44691107, 137519.42195451, 137669.66039926],\n       [-18706.91640211, -16815.78531259, -14482.54275181, ...,\n        137328.44691107, 137519.42195451, 137669.66039926]]), 'Damage to output ratio': array([[ 0.17117288,  0.23517357,  0.31445858, ...,  0.        ,\n         0.        ,  0.        ],\n       [ 0.1711735 ,  0.23518793,  0.31453069, ...,  0.        ,\n         0.        ,  0.        ],\n       [ 0.17117288,  0.23517357,  0.31445858, ...,  0.        ,\n         0.        ,  0.        ],\n       ...,\n       [ 0.17117296,  0.24023618,  0.32836665, ..., 11.08178544,\n        10.8053227 , 10.53510969],\n       [ 0.17117296,  0.24895167,  0.34990487, ..., 18.67119287,\n        18.26875568, 17.86941427],\n       [ 0.17117296,  0.24895167,  0.34990487, ..., 18.67119287,\n        18.26875568, 17.86941427]]), 'Welfare': array([[-1128.56174963,           -inf,           -inf, ...,\n                   nan,            nan,            nan],\n       [-1128.5633955 ,           -inf,           -inf, ...,\n                   nan,            nan,            nan],\n       [-1128.56174963,           -inf,           -inf, ...,\n                   nan,            nan,            nan],\n       ...,\n       [-2001.6969517 ,           -inf,           -inf, ...,\n                  -inf,           -inf,           -inf],\n       [-2001.6969517 ,           -inf,           -inf, ...,\n                  -inf,           -inf,           -inf],\n       [-2001.6969517 ,           -inf,           -inf, ...,\n                  -inf,           -inf,           -inf]]), 'Total Output': array([[  63.47319735,   78.71190911,   95.20656758, ..., 3101.73878329,\n        3168.90212249, 3235.43246227],\n       [  63.47296868,   78.70705546,   95.18375226, ..., 3089.43939854,\n        3157.07401392, 3224.06284831],\n       [  63.47319735,   78.71190911,   95.20656758, ..., 3101.73878329,\n        3168.90212249, 3235.43246227],\n       ...,\n       [  63.47316843,   84.31271144,  106.01385259, ..., 3083.00112594,\n        3160.60116574, 3237.98978617],\n       [  63.47316843,   84.30538143,  105.98945501, ..., 2802.69577306,\n        2876.6188916 , 2950.72718652],\n       [  63.47316843,   84.30538143,  105.98945501, ..., 2802.69577306,\n        2876.6188916 , 2950.72718652]])})\n"
    }
   ],
   "source": [
    "print(results_sobol)"
>>>>>>> 494596a53c200ee8f66c578fe9701c496a9ec4dd
   ]
  },
  {
   "cell_type": "code",
<<<<<<< HEAD
   "execution_count": null,
   "metadata": {
    "tags": []
   },
   "outputs": [],
   "source": [
    "# results_sobol_df = pd.DataFrame(results_sobol)\n",
    "# results_sobol_df.to_excel(\"results_sobol_160s_10p.xlsx\")\n",
=======
   "execution_count": 29,
   "metadata": {
    "tags": []
   },
   "outputs": [
    {
     "output_type": "execute_result",
     "data": {
      "text/plain": "dict_keys(['Atmospheric Temperature', 'Damages', 'Utility of Consumption', 'Savings rate', 'Disutility of Damage', 'Damage to output ratio', 'Welfare', 'Total Output'])"
     },
     "metadata": {},
     "execution_count": 29
    }
   ],
   "source": [
    "results_sobol_df = pd.DataFrame(results_sobol)\n",
    "results_sobol_df.to_excel(\"results_sobol_160s_10p.xlsx\")\n",
>>>>>>> 494596a53c200ee8f66c578fe9701c496a9ec4dd
    "outcomes.keys()"
   ]
  },
  {
   "cell_type": "code",
<<<<<<< HEAD
   "execution_count": null,
   "metadata": {},
   "outputs": [],
   "source": [
    "# one outcome for testing, do for all outcomes\n",
    "y_welfare = np.mean(outcomes['Welfare'], axis =1) "
   ]
  },
  {
   "cell_type": "code",
   "execution_count": null,
   "metadata": {},
   "outputs": [],
   "source": [
    "\n",
    "sobol_indices = sobol.analyze(problem, y_welfare)\n",
=======
   "execution_count": 23,
   "metadata": {},
   "outputs": [
    {
     "output_type": "execute_result",
     "data": {
      "text/plain": "                        ST       ST_conf        S1   S1_conf\nt2xco2_index  3.826499e-01  8.680070e-02  0.126002  0.157722\nt2xco2_dist   1.034551e-01  5.152786e-02  0.089628  0.117116\nsigma_gr      6.650960e-03  1.843939e-03 -0.018850  0.022965\npop_gr        1.699415e-04  4.731074e-05 -0.000792  0.002502\ncback         1.414516e-07  5.067887e-08 -0.000035  0.000071\nfosslim       0.000000e+00  0.000000e+00  0.000000  0.000000\ntfp_gr        0.000000e+00  0.000000e+00  0.000000  0.000000",
      "text/html": "<div>\n<style scoped>\n    .dataframe tbody tr th:only-of-type {\n        vertical-align: middle;\n    }\n\n    .dataframe tbody tr th {\n        vertical-align: top;\n    }\n\n    .dataframe thead th {\n        text-align: right;\n    }\n</style>\n<table border=\"1\" class=\"dataframe\">\n  <thead>\n    <tr style=\"text-align: right;\">\n      <th></th>\n      <th>ST</th>\n      <th>ST_conf</th>\n      <th>S1</th>\n      <th>S1_conf</th>\n    </tr>\n  </thead>\n  <tbody>\n    <tr>\n      <th>t2xco2_index</th>\n      <td>3.826499e-01</td>\n      <td>8.680070e-02</td>\n      <td>0.126002</td>\n      <td>0.157722</td>\n    </tr>\n    <tr>\n      <th>t2xco2_dist</th>\n      <td>1.034551e-01</td>\n      <td>5.152786e-02</td>\n      <td>0.089628</td>\n      <td>0.117116</td>\n    </tr>\n    <tr>\n      <th>sigma_gr</th>\n      <td>6.650960e-03</td>\n      <td>1.843939e-03</td>\n      <td>-0.018850</td>\n      <td>0.022965</td>\n    </tr>\n    <tr>\n      <th>pop_gr</th>\n      <td>1.699415e-04</td>\n      <td>4.731074e-05</td>\n      <td>-0.000792</td>\n      <td>0.002502</td>\n    </tr>\n    <tr>\n      <th>cback</th>\n      <td>1.414516e-07</td>\n      <td>5.067887e-08</td>\n      <td>-0.000035</td>\n      <td>0.000071</td>\n    </tr>\n    <tr>\n      <th>fosslim</th>\n      <td>0.000000e+00</td>\n      <td>0.000000e+00</td>\n      <td>0.000000</td>\n      <td>0.000000</td>\n    </tr>\n    <tr>\n      <th>tfp_gr</th>\n      <td>0.000000e+00</td>\n      <td>0.000000e+00</td>\n      <td>0.000000</td>\n      <td>0.000000</td>\n    </tr>\n  </tbody>\n</table>\n</div>"
     },
     "metadata": {},
     "execution_count": 23
    }
   ],
   "source": [
    "# one outcome for testing, do for all outcomes\n",
    "y_temp = np.amax(outcomes['Atmospheric Temperature'], axis =1) \n",
    "\n",
    "sobol_indices = sobol.analyze(problem, y_temp)\n",
>>>>>>> 494596a53c200ee8f66c578fe9701c496a9ec4dd
    "sobol_stats = {k:sobol_indices[k] for k in ['ST','ST_conf','S1','S1_conf']}\n",
    "sobol_stats = pd.DataFrame(sobol_stats, index=problem['names'])\n",
    "# starting with ST\n",
    "sobol_stats.sort_values(by = 'ST', ascending=False) "
   ]
  },
  {
   "cell_type": "code",
<<<<<<< HEAD
   "execution_count": null,
   "metadata": {
    "tags": []
   },
   "outputs": [],
   "source": [
    "# Change the outcomes to Z-scores by using the sobol analyze option\n",
    "welfare_score = sobol.analyze(problem, y_welfare, calc_second_order=True, print_to_console=True)"
   ]
  },
  {
   "cell_type": "code",
   "execution_count": null,
   "metadata": {},
   "outputs": [],
   "source": [
    "#  Visualize: The error bars indicate the confidence intervals.\n",
    "sns.set_style('white')\n",
    "fig, ax = plt.subplots(1)\n",
    "indices = sobol_stats[['S1','ST']]\n",
    "err = sobol_stats[['S1_conf','ST_conf']]\n",
    "\n",
    "indices.plot.bar(yerr=err.values.T,ax=ax)\n",
    "fig.set_size_inches(20,20)\n",
    "fig.subplots_adjust(bottom=0.3)\n",
    "plt.show()"
=======
   "execution_count": 32,
   "metadata": {
    "tags": []
   },
   "outputs": [
    {
     "output_type": "stream",
     "name": "stdout",
     "text": "Parameter S1 S1_conf ST ST_conf\ncback -0.000035 0.000067 0.000000 0.000000\nfosslim 0.000000 0.000000 0.000000 0.000000\npop_gr -0.000792 0.002711 0.000170 0.000053\nsigma_gr -0.018850 0.027683 0.006651 0.002140\nt2xco2_dist 0.089628 0.126300 0.103455 0.058288\nt2xco2_index 0.126002 0.180487 0.382650 0.086410\ntfp_gr 0.000000 0.000000 0.000000 0.000000\n\nParameter_1 Parameter_2 S2 S2_conf\ncback fosslim 0.000179 0.000206\ncback pop_gr 0.000178 0.000205\ncback sigma_gr 0.000179 0.000204\ncback t2xco2_dist 0.000049 0.000188\ncback t2xco2_index 0.000114 0.000136\ncback tfp_gr 0.000179 0.000206\nfosslim pop_gr -0.000000 0.000000\nfosslim sigma_gr 0.000000 0.000000\nfosslim t2xco2_dist 0.000000 0.000000\nfosslim t2xco2_index 0.000000 0.000000\nfosslim tfp_gr 0.000000 0.000000\npop_gr sigma_gr 0.004342 0.004995\npop_gr t2xco2_dist 0.005295 0.005478\npop_gr t2xco2_index 0.000967 0.005031\npop_gr tfp_gr 0.005425 0.005114\nsigma_gr t2xco2_dist 0.072236 0.059299\nsigma_gr t2xco2_index 0.044685 0.060533\nsigma_gr tfp_gr 0.036081 0.046599\nt2xco2_dist t2xco2_index -0.126803 0.173790\nt2xco2_dist tfp_gr -0.070377 0.134737\nt2xco2_index tfp_gr 0.510272 0.330292\n"
    }
   ],
   "source": [
    "# Change the outcomes to Z-scores by using the sobol analze option\n",
    "Atmospheric_temp_score = sobol.analyze(problem, y_temp, calc_second_order=True, print_to_console=True)"
>>>>>>> 494596a53c200ee8f66c578fe9701c496a9ec4dd
   ]
  },
  {
   "cell_type": "code",
   "execution_count": null,
   "metadata": {},
   "outputs": [],
   "source": []
  }
 ],
 "metadata": {
  "kernelspec": {
   "display_name": "Python 3",
   "language": "python",
   "name": "python3"
  },
  "language_info": {
   "codemirror_mode": {
    "name": "ipython",
    "version": 3
   },
   "file_extension": ".py",
   "mimetype": "text/x-python",
   "name": "python",
   "nbconvert_exporter": "python",
   "pygments_lexer": "ipython3",
   "version": "3.7.3-final"
  }
 },
 "nbformat": 4,
 "nbformat_minor": 2
}