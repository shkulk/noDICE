{
 "cells": [
  {
   "cell_type": "code",
   "execution_count": null,
   "metadata": {},
   "outputs": [],
   "source": [
    "# DICE SM - PRIM (recovered --> master)"
   ]
  },
  {
   "cell_type": "markdown",
   "metadata": {},
   "source": [
    "  ## Setup & Initialisation of levers and uncertainties"
   ]
  },
  {
   "cell_type": "code",
   "execution_count": 1,
   "metadata": {
    "tags": []
   },
   "outputs": [],
   "source": [
    "\n",
    "import time\n",
    "%matplotlib inline\n",
    "import matplotlib.pyplot as plt\n",
    "import numpy as np\n",
    "import pandas as pd\n",
    "import seaborn as sns\n",
    "sns.set_style('white')\n",
    "# import statsmodels.api as sm\n",
    "\n",
    "from sklearn import preprocessing \n",
    "\n"
   ]
  },
  {
   "cell_type": "code",
   "execution_count": 2,
   "metadata": {
    "tags": []
   },
   "outputs": [
    {
     "output_type": "stream",
     "name": "stderr",
     "text": "C:\\Users\\shrid\\Anaconda3\\lib\\importlib\\_bootstrap.py:219: ImportWarning: can't resolve package from __spec__ or __package__, falling back on __name__ and __path__\n  return f(*args, **kwds)\n"
    },
    {
     "output_type": "execute_result",
     "data": {
      "text/plain": "<Logger EMA (DEBUG)>"
     },
     "metadata": {},
     "execution_count": 2
    }
   ],
   "source": [
    "from ema_workbench import (perform_experiments, Model, Policy, Scenario, ReplicatorModel, RealParameter, IntegerParameter, TimeSeriesOutcome, ScalarOutcome, ArrayOutcome, Constant, ema_logging, SequentialEvaluator, MultiprocessingEvaluator, IpyparallelEvaluator)\n",
    "from ema_workbench import save_results, load_results\n",
    "\n",
    "from ema_workbench.analysis import prim, cart\n",
    "from ema_workbench.analysis import scenario_discovery_util as sdutil\n",
    "from ema_workbench.analysis import pairs_plotting, plotting, plotting_util\n",
    "\n",
    "import ema_workbench.em_framework.evaluators\n",
    "# from ema_workbench.analysis import feature_scoring\n",
    "# from ema_workbench.em_framework.salib_samplers import get_SALib_problem\n",
    "# from SALib.analyze import sobol\n",
    "\n",
    "ema_logging.log_to_stderr(ema_logging.INFO)"
   ]
  },
  {
   "cell_type": "code",
   "execution_count": 3,
   "metadata": {},
   "outputs": [],
   "source": [
    "from dicemodel.noDICE_v3 import PyDICE\n",
    "model_version = 'v3.5'\n",
    "\n",
    "import os\n",
    "from dest_directories import gz_path, fig_path"
   ]
  },
  {
   "cell_type": "code",
   "execution_count": 4,
   "metadata": {},
   "outputs": [],
   "source": [
    "\n",
    "if __name__ == '__main__':\n",
    "    ema_logging.log_to_stderr(ema_logging.INFO)\n",
    "    \n",
    "\n",
    "    model = PyDICE()\n",
    "    dice_sm = Model('dicesmEMA', function=model)\n",
    "    \n",
    "    dice_sm.uncertainties = [IntegerParameter('t2xco2_index', 0, 999),\n",
    "                            #  IntegerParameter('t2xco2_dist',0,2),\n",
    "                            #  IntegerParameter('fdamage', 0, 2),\n",
    "                             RealParameter('tfp_gr',  0.07, 0.09),\n",
    "                             RealParameter('sigma_gr', -0.012, -0.008),\n",
    "                             RealParameter('pop_gr', 0.1, 0.15),\n",
    "                             RealParameter('fosslim',  4000.0, 13649),\n",
    "                            #  IntegerParameter('cback', 100, 600)\n",
    "                            ]\n",
    "    \n",
    "    dice_sm.levers = [RealParameter('sr', 0.2, 0.3),\n",
    "                      RealParameter('prtp_con',  0.001, 0.015),\n",
    "                      RealParameter('prtp_dam',  0.001, 0.015),\n",
    "                      RealParameter('emuc',  1.01, 2.00),\n",
    "                      RealParameter('emdd', -1.0, 0.99),\n",
    "                      IntegerParameter('periodfullpart', 10, 58),\n",
    "                      IntegerParameter('miu_period', 10, 58)\n",
    "                      ]\n",
    "    \n",
    "    dice_sm.outcomes = [TimeSeriesOutcome('Atmospheric Temperature'),\n",
    "                        TimeSeriesOutcome('Total Output'),\n",
    "                        # TimeSeriesOutcome('Population'),\n",
    "                        TimeSeriesOutcome('Per Capita Consumption'),\n",
    "                        TimeSeriesOutcome('Consumption Growth'),\n",
    "                        TimeSeriesOutcome('Utility of Consumption'),\n",
    "                        TimeSeriesOutcome('Per Capita Damage'),\n",
    "                        TimeSeriesOutcome('Damage Growth'),\n",
    "                        TimeSeriesOutcome('Disutility of Damage'),\n",
    "                        TimeSeriesOutcome('Welfare'),\n",
    "                        TimeSeriesOutcome('Undiscounted Period Welfare'),\n",
    "                        TimeSeriesOutcome('Consumption SDR'),\n",
    "                        TimeSeriesOutcome('Damage SDR')\n",
    "\n",
    "                        ]"
   ]
  },
  {
   "cell_type": "code",
   "execution_count": 101,
   "metadata": {},
   "outputs": [],
   "source": [
    "# n_scenarios = 100\n",
    "# n_policies = 50"
   ]
  },
  {
   "cell_type": "code",
   "execution_count": 5,
   "metadata": {
    "tags": []
   },
   "outputs": [
    {
     "output_type": "stream",
     "name": "stderr",
     "text": "[MainProcess/INFO] results loaded succesfully from E:\\Year_2_Quarter_4\\Thesis\\06_Code\\results\\gz_files\\v4_1a_OE_sr100s_20p_.tar.gz\n"
    }
   ],
   "source": [
    "## Load results\n",
    "results = load_results(os.path.join(gz_path,'v4_1a_OE_sr100s_20p_.tar.gz'))\n",
    "experiments, outcomes = results"
   ]
  },
  {
   "cell_type": "code",
   "execution_count": 103,
   "metadata": {
    "scrolled": true
   },
   "outputs": [],
   "source": [
    "# EMA 1b: Find a meaningful range for unknown EMDD variable \n",
    "# Method - UA: regions in EMDD space that has an impact with system behaviour\n",
    "# 1.a.i. PRIM\n",
    "## PRIM\n",
    "# set x, y args + clean experiments + perform prim for diff outcomes + analyze (ref ...uncertaintystuff.ipynb)"
   ]
  },
  {
   "cell_type": "code",
   "execution_count": 6,
   "metadata": {},
   "outputs": [],
   "source": [
    "# for x: Clean experiments (keep only levers, remove policy, scenario, model columns)\n",
    "cleaned_experiments = experiments.drop(labels=[l.name for l in dice_sm.uncertainties], axis=1)\n",
    "cleaned_experiments = experiments.drop(labels= ['policy', 'scenario', 'model',] , axis=1)\n",
    "# type(cleaned_experiments)\n",
    "# cleaned_experiments\n",
    "\n",
    "#  For y: outcomes is nd-array, PRIM needs 1D\n",
    "y = outcomes\n"
   ]
  },
  {
   "cell_type": "code",
   "execution_count": 113,
   "metadata": {},
   "outputs": [],
   "source": [
    "# experiments_np = experiments.to_records()\n",
    "# experiments_np"
   ]
  },
  {
   "cell_type": "code",
   "execution_count": 7,
   "metadata": {
    "collapsed": true
   },
   "outputs": [],
   "source": [
    "## reduce by Binary classification of results\n",
    "# what range of outcome vars represents bad outcome - we want to find the contributing factors\n",
    "# ('Atmospheric Temperature'),\n",
    "#  ('Total Output'),\n",
    "#  ('Population'),\n",
    "#  ('Per Capita Consumption'),\n",
    "#  ('Consumption Growth'),\n",
    "#  ('Utility of Consumption'),\n",
    "#  ('Per Capita Damage'),\n",
    "#  ('Damage Growth'),\n",
    "#  ('Disutility of Damage'),\n",
    "#  ('Welfare'),\n",
    "#  ('Consumption SDR'),\n",
    "#  ('Damage SDR')\n",
    "\n",
    "\n",
    "# by value\n",
    "data_temp = np.amax(y['Atmospheric Temperature'], axis =1) \n",
    "# np.max\n",
    "y_temp = data_temp > 4.0 # what causes the highest values of this outcome (>4 degrees)\n",
    "\n",
    "# by percentile\n",
    "data_welfare = np.amax(y['Welfare'], axis =1) \n",
    "# data_welfare = np.nan_to_num(data_welfare)\n",
    "# np.any(np.isnan(data_welfare))\n",
    "y_welfare = data_welfare < np.percentile(data_welfare, 20) # what causes the least values (bottom 20th percentile) of welfare outcomes\n",
    "\n",
    "data_undiscounted_welfare = np.amax(y['Undiscounted Period Welfare'], axis =1) \n",
    "y_undiscounted_period_welfare = data_undiscounted_welfare < 0.0\n",
    "\n",
    "\n",
    "data_dpc = np.amax(y['Per Capita Damage'], axis =1)\n",
    "y_dpc = data_dpc > np.percentile(data_dpc, 80) # what causes the highest values (top 20th percentile) of damage outcomes\n",
    "\n",
    "data_cpc = np.amax(y['Per Capita Consumption'], axis =1)\n",
    "y_cpc = data_cpc < np.percentile(data_cpc, 20) # what causes the least values (bottom 20th percentile) of consumption outcomes\n",
    "\n",
    "data_con_g = np.amax(y['Consumption Growth'], axis =1)\n",
    "y_con_g = data_con_g < 0.0\n",
    "# y_con_g = data_con_g < np.percentile(data_con_g, 20) # what causes the least (bottom 20th percentile) of this outcome\n",
    "# np.any(data_con_g)\n",
    "\n",
    "data_dam_g = np.amax(y['Damage Growth'], axis =1)\n",
    "y_dam_g = data_dam_g < np.percentile(data_dam_g, 20)\n",
    "\n",
    "data_utility_con = np.amin(y['Utility of Consumption'], axis =1)\n",
    "# y_utility_con = data_utility_con < -3.0\n",
    "y_utility_con = data_utility_con < np.percentile(data_utility_con, 80) # what causes the least values (bottom 20th percentile) of U(C)\n",
    "\n",
    "data_disutil_dam = np.amax(y['Disutility of Damage'], axis =1)\n",
    "y_disutil_dam = data_disutil_dam < 0.0\n",
    "# y_disutil_dam = data_disutil_dam < np.percentile(data_disutil_dam, 20) # what causes the lowest values (bottom20th percentile) of V(D)\n",
    "\n",
    "data_output = np.amax(y['Total Output'], axis = 1)\n",
    "y_output = data_output < np.percentile(data_output, 20) # what causes the least values (bottom 20th percentile) of this outcome\n",
    "\n",
    "## verify\n",
    "\n",
    "# y_damage.shape \n",
    "# y_temp\n",
    "# y_temp.shape\n",
    "# y['Welfare'].shape\n",
    "# np.percentile(data_welfare, 20)\n",
    "# plt.boxplot(data_welfare)\n",
    "# data_welfare\n",
    "# np.any(np.isnan(data_welfare)) # there's a NaN = division by zero somewhere\n",
    "# np.where(np.isnan(data_welfare))"
   ]
  },
  {
   "cell_type": "code",
   "execution_count": null,
   "metadata": {},
   "outputs": [],
   "source": [
    "# data_welfare = data_welfare[~np.isnan(data_welfare)]\n"
   ]
  },
  {
   "cell_type": "code",
   "execution_count": null,
   "metadata": {},
   "outputs": [],
   "source": [
    "\n",
    "# locating experiment\n",
    "# experiments.ix[819].to_dict()\n",
    "\n"
   ]
  },
  {
   "cell_type": "code",
   "execution_count": 8,
   "metadata": {
    "tags": []
   },
   "outputs": [],
   "source": [
    "# change the y_... name to the name that will give you the outcome you want to analyse as defined above\n",
    "\n",
    "# the meaning of peel_alpha is the percentile of the data that is to be removed\n",
    "# The peeling alpha determines how much data is peeled off in each iteration of the algorithm. The lower the value, the less data is removed in each iteration. Controls the leniency of the algorithm, the higher the less lenient.\n",
    "\n",
    "x = cleaned_experiments\n",
    "y = y_dam_g\n",
    "\n",
    "prim_alg = prim.Prim(x, y, threshold=0.3, peel_alpha=0.1) #0.1 "
   ]
  },
  {
   "cell_type": "code",
   "execution_count": 9,
   "metadata": {
    "tags": []
   },
   "outputs": [
    {
     "output_type": "stream",
     "name": "stderr",
     "text": "[MainProcess/INFO] 2000 points remaining, containing 400 cases of interest\n[MainProcess/INFO] mean: 0.5777777777777777, mass: 0.09, coverage: 0.26, density: 0.5777777777777777 restricted_dimensions: 3\ncoverage        0.26\ndensity     0.577778\nid                14\nmass            0.09\nmean        0.577778\nres_dim            3\nName: 14, dtype: object\n\n               box 14                                           \n                  min        max                       qp values\nmiu_period  10.000000  14.500000  [-1.0, 1.3169098727898715e-25]\nprtp_con     0.001114   0.014354      [-1.0, 0.5316101974569944]\npop_gr       0.104902   0.149773      [0.4475010993823926, -1.0]\n\n"
    }
   ],
   "source": [
    "box1 = prim_alg.find_box()\n",
    "# inspect_tradeoff()\n",
    "box1.inspect()\n",
    "# box1.inspect(21, style='graph')\n",
    "# box1.show_tradeoff()\n",
    "plt.show()"
   ]
  },
  {
   "cell_type": "code",
   "execution_count": 11,
   "metadata": {
    "tags": []
   },
   "outputs": [
    {
     "output_type": "stream",
     "name": "stdout",
     "text": "coverage        0.26\ndensity     0.577778\nid                14\nmass            0.09\nmean        0.577778\nres_dim            3\nName: 14, dtype: object\n\n               box 14                                           \n                  min        max                       qp values\nmiu_period  10.000000  14.500000  [-1.0, 1.3169098727898715e-25]\nprtp_con     0.001114   0.014354      [-1.0, 0.5316101974569944]\npop_gr       0.104902   0.149773      [0.4475010993823926, -1.0]\n\n"
    },
    {
     "output_type": "display_data",
     "data": {
      "text/plain": "<Figure size 432x288 with 2 Axes>",
      "image/svg+xml": "<?xml version=\"1.0\" encoding=\"utf-8\" standalone=\"no\"?>\r\n<!DOCTYPE svg PUBLIC \"-//W3C//DTD SVG 1.1//EN\"\r\n  \"http://www.w3.org/Graphics/SVG/1.1/DTD/svg11.dtd\">\r\n<!-- Created with matplotlib (https://matplotlib.org/) -->\r\n<svg height=\"264.709531pt\" version=\"1.1\" viewBox=\"0 0 319.32075 264.709531\" width=\"319.32075pt\" xmlns=\"http://www.w3.org/2000/svg\" xmlns:xlink=\"http://www.w3.org/1999/xlink\">\r\n <defs>\r\n  <style type=\"text/css\">\r\n*{stroke-linecap:butt;stroke-linejoin:round;}\r\n  </style>\r\n </defs>\r\n <g id=\"figure_1\">\r\n  <g id=\"patch_1\">\r\n   <path d=\"M -0 264.709531 \r\nL 319.32075 264.709531 \r\nL 319.32075 0 \r\nL -0 0 \r\nz\r\n\" style=\"fill:#ffffff;\"/>\r\n  </g>\r\n  <g id=\"axes_1\">\r\n   <g id=\"patch_2\">\r\n    <path d=\"M 41.3625 228.218906 \r\nL 258.8025 228.218906 \r\nL 258.8025 10.778906 \r\nL 41.3625 10.778906 \r\nz\r\n\" style=\"fill:#ffffff;\"/>\r\n   </g>\r\n   <g id=\"matplotlib.axis_1\">\r\n    <g id=\"xtick_1\">\r\n     <g id=\"text_1\">\r\n      <!-- 0.0 -->\r\n      <defs>\r\n       <path d=\"M 4.15625 35.296875 \r\nQ 4.15625 48 6.765625 55.734375 \r\nQ 9.375 63.484375 14.515625 67.671875 \r\nQ 19.671875 71.875 27.484375 71.875 \r\nQ 33.25 71.875 37.59375 69.546875 \r\nQ 41.9375 67.234375 44.765625 62.859375 \r\nQ 47.609375 58.5 49.21875 52.21875 \r\nQ 50.828125 45.953125 50.828125 35.296875 \r\nQ 50.828125 22.703125 48.234375 14.96875 \r\nQ 45.65625 7.234375 40.5 3 \r\nQ 35.359375 -1.21875 27.484375 -1.21875 \r\nQ 17.140625 -1.21875 11.234375 6.203125 \r\nQ 4.15625 15.140625 4.15625 35.296875 \r\nz\r\nM 13.1875 35.296875 \r\nQ 13.1875 17.671875 17.3125 11.828125 \r\nQ 21.4375 6 27.484375 6 \r\nQ 33.546875 6 37.671875 11.859375 \r\nQ 41.796875 17.71875 41.796875 35.296875 \r\nQ 41.796875 52.984375 37.671875 58.78125 \r\nQ 33.546875 64.59375 27.390625 64.59375 \r\nQ 21.34375 64.59375 17.71875 59.46875 \r\nQ 13.1875 52.9375 13.1875 35.296875 \r\nz\r\n\" id=\"ArialMT-48\"/>\r\n       <path d=\"M 9.078125 0 \r\nL 9.078125 10.015625 \r\nL 19.09375 10.015625 \r\nL 19.09375 0 \r\nz\r\n\" id=\"ArialMT-46\"/>\r\n      </defs>\r\n      <g style=\"fill:#262626;\" transform=\"translate(34.4125 242.376719)scale(0.1 -0.1)\">\r\n       <use xlink:href=\"#ArialMT-48\"/>\r\n       <use x=\"55.615234\" xlink:href=\"#ArialMT-46\"/>\r\n       <use x=\"83.398438\" xlink:href=\"#ArialMT-48\"/>\r\n      </g>\r\n     </g>\r\n    </g>\r\n    <g id=\"xtick_2\">\r\n     <g id=\"text_2\">\r\n      <!-- 0.2 -->\r\n      <defs>\r\n       <path d=\"M 50.34375 8.453125 \r\nL 50.34375 0 \r\nL 3.03125 0 \r\nQ 2.9375 3.171875 4.046875 6.109375 \r\nQ 5.859375 10.9375 9.828125 15.625 \r\nQ 13.8125 20.3125 21.34375 26.46875 \r\nQ 33.015625 36.03125 37.109375 41.625 \r\nQ 41.21875 47.21875 41.21875 52.203125 \r\nQ 41.21875 57.421875 37.46875 61 \r\nQ 33.734375 64.59375 27.734375 64.59375 \r\nQ 21.390625 64.59375 17.578125 60.78125 \r\nQ 13.765625 56.984375 13.71875 50.25 \r\nL 4.6875 51.171875 \r\nQ 5.609375 61.28125 11.65625 66.578125 \r\nQ 17.71875 71.875 27.9375 71.875 \r\nQ 38.234375 71.875 44.234375 66.15625 \r\nQ 50.25 60.453125 50.25 52 \r\nQ 50.25 47.703125 48.484375 43.546875 \r\nQ 46.734375 39.40625 42.65625 34.8125 \r\nQ 38.578125 30.21875 29.109375 22.21875 \r\nQ 21.1875 15.578125 18.9375 13.203125 \r\nQ 16.703125 10.84375 15.234375 8.453125 \r\nz\r\n\" id=\"ArialMT-50\"/>\r\n      </defs>\r\n      <g style=\"fill:#262626;\" transform=\"translate(70.6525 242.376719)scale(0.1 -0.1)\">\r\n       <use xlink:href=\"#ArialMT-48\"/>\r\n       <use x=\"55.615234\" xlink:href=\"#ArialMT-46\"/>\r\n       <use x=\"83.398438\" xlink:href=\"#ArialMT-50\"/>\r\n      </g>\r\n     </g>\r\n    </g>\r\n    <g id=\"xtick_3\">\r\n     <g id=\"text_3\">\r\n      <!-- 0.4 -->\r\n      <defs>\r\n       <path d=\"M 32.328125 0 \r\nL 32.328125 17.140625 \r\nL 1.265625 17.140625 \r\nL 1.265625 25.203125 \r\nL 33.9375 71.578125 \r\nL 41.109375 71.578125 \r\nL 41.109375 25.203125 \r\nL 50.78125 25.203125 \r\nL 50.78125 17.140625 \r\nL 41.109375 17.140625 \r\nL 41.109375 0 \r\nz\r\nM 32.328125 25.203125 \r\nL 32.328125 57.46875 \r\nL 9.90625 25.203125 \r\nz\r\n\" id=\"ArialMT-52\"/>\r\n      </defs>\r\n      <g style=\"fill:#262626;\" transform=\"translate(106.8925 242.376719)scale(0.1 -0.1)\">\r\n       <use xlink:href=\"#ArialMT-48\"/>\r\n       <use x=\"55.615234\" xlink:href=\"#ArialMT-46\"/>\r\n       <use x=\"83.398438\" xlink:href=\"#ArialMT-52\"/>\r\n      </g>\r\n     </g>\r\n    </g>\r\n    <g id=\"xtick_4\">\r\n     <g id=\"text_4\">\r\n      <!-- 0.6 -->\r\n      <defs>\r\n       <path d=\"M 49.75 54.046875 \r\nL 41.015625 53.375 \r\nQ 39.84375 58.546875 37.703125 60.890625 \r\nQ 34.125 64.65625 28.90625 64.65625 \r\nQ 24.703125 64.65625 21.53125 62.3125 \r\nQ 17.390625 59.28125 14.984375 53.46875 \r\nQ 12.59375 47.65625 12.5 36.921875 \r\nQ 15.671875 41.75 20.265625 44.09375 \r\nQ 24.859375 46.4375 29.890625 46.4375 \r\nQ 38.671875 46.4375 44.84375 39.96875 \r\nQ 51.03125 33.5 51.03125 23.25 \r\nQ 51.03125 16.5 48.125 10.71875 \r\nQ 45.21875 4.9375 40.140625 1.859375 \r\nQ 35.0625 -1.21875 28.609375 -1.21875 \r\nQ 17.625 -1.21875 10.6875 6.859375 \r\nQ 3.765625 14.9375 3.765625 33.5 \r\nQ 3.765625 54.25 11.421875 63.671875 \r\nQ 18.109375 71.875 29.4375 71.875 \r\nQ 37.890625 71.875 43.28125 67.140625 \r\nQ 48.6875 62.40625 49.75 54.046875 \r\nz\r\nM 13.875 23.1875 \r\nQ 13.875 18.65625 15.796875 14.5 \r\nQ 17.71875 10.359375 21.1875 8.171875 \r\nQ 24.65625 6 28.46875 6 \r\nQ 34.03125 6 38.03125 10.484375 \r\nQ 42.046875 14.984375 42.046875 22.703125 \r\nQ 42.046875 30.125 38.078125 34.390625 \r\nQ 34.125 38.671875 28.125 38.671875 \r\nQ 22.171875 38.671875 18.015625 34.390625 \r\nQ 13.875 30.125 13.875 23.1875 \r\nz\r\n\" id=\"ArialMT-54\"/>\r\n      </defs>\r\n      <g style=\"fill:#262626;\" transform=\"translate(143.1325 242.376719)scale(0.1 -0.1)\">\r\n       <use xlink:href=\"#ArialMT-48\"/>\r\n       <use x=\"55.615234\" xlink:href=\"#ArialMT-46\"/>\r\n       <use x=\"83.398438\" xlink:href=\"#ArialMT-54\"/>\r\n      </g>\r\n     </g>\r\n    </g>\r\n    <g id=\"xtick_5\">\r\n     <g id=\"text_5\">\r\n      <!-- 0.8 -->\r\n      <defs>\r\n       <path d=\"M 17.671875 38.8125 \r\nQ 12.203125 40.828125 9.5625 44.53125 \r\nQ 6.9375 48.25 6.9375 53.421875 \r\nQ 6.9375 61.234375 12.546875 66.546875 \r\nQ 18.171875 71.875 27.484375 71.875 \r\nQ 36.859375 71.875 42.578125 66.421875 \r\nQ 48.296875 60.984375 48.296875 53.171875 \r\nQ 48.296875 48.1875 45.671875 44.5 \r\nQ 43.0625 40.828125 37.75 38.8125 \r\nQ 44.34375 36.671875 47.78125 31.875 \r\nQ 51.21875 27.09375 51.21875 20.453125 \r\nQ 51.21875 11.28125 44.71875 5.03125 \r\nQ 38.234375 -1.21875 27.640625 -1.21875 \r\nQ 17.046875 -1.21875 10.546875 5.046875 \r\nQ 4.046875 11.328125 4.046875 20.703125 \r\nQ 4.046875 27.6875 7.59375 32.390625 \r\nQ 11.140625 37.109375 17.671875 38.8125 \r\nz\r\nM 15.921875 53.71875 \r\nQ 15.921875 48.640625 19.1875 45.40625 \r\nQ 22.46875 42.1875 27.6875 42.1875 \r\nQ 32.765625 42.1875 36.015625 45.375 \r\nQ 39.265625 48.578125 39.265625 53.21875 \r\nQ 39.265625 58.0625 35.90625 61.359375 \r\nQ 32.5625 64.65625 27.59375 64.65625 \r\nQ 22.5625 64.65625 19.234375 61.421875 \r\nQ 15.921875 58.203125 15.921875 53.71875 \r\nz\r\nM 13.09375 20.65625 \r\nQ 13.09375 16.890625 14.875 13.375 \r\nQ 16.65625 9.859375 20.171875 7.921875 \r\nQ 23.6875 6 27.734375 6 \r\nQ 34.03125 6 38.125 10.046875 \r\nQ 42.234375 14.109375 42.234375 20.359375 \r\nQ 42.234375 26.703125 38.015625 30.859375 \r\nQ 33.796875 35.015625 27.4375 35.015625 \r\nQ 21.234375 35.015625 17.15625 30.90625 \r\nQ 13.09375 26.8125 13.09375 20.65625 \r\nz\r\n\" id=\"ArialMT-56\"/>\r\n      </defs>\r\n      <g style=\"fill:#262626;\" transform=\"translate(179.3725 242.376719)scale(0.1 -0.1)\">\r\n       <use xlink:href=\"#ArialMT-48\"/>\r\n       <use x=\"55.615234\" xlink:href=\"#ArialMT-46\"/>\r\n       <use x=\"83.398438\" xlink:href=\"#ArialMT-56\"/>\r\n      </g>\r\n     </g>\r\n    </g>\r\n    <g id=\"xtick_6\">\r\n     <g id=\"text_6\">\r\n      <!-- 1.0 -->\r\n      <defs>\r\n       <path d=\"M 37.25 0 \r\nL 28.46875 0 \r\nL 28.46875 56 \r\nQ 25.296875 52.984375 20.140625 49.953125 \r\nQ 14.984375 46.921875 10.890625 45.40625 \r\nL 10.890625 53.90625 \r\nQ 18.265625 57.375 23.78125 62.296875 \r\nQ 29.296875 67.234375 31.59375 71.875 \r\nL 37.25 71.875 \r\nz\r\n\" id=\"ArialMT-49\"/>\r\n      </defs>\r\n      <g style=\"fill:#262626;\" transform=\"translate(215.6125 242.376719)scale(0.1 -0.1)\">\r\n       <use xlink:href=\"#ArialMT-49\"/>\r\n       <use x=\"55.615234\" xlink:href=\"#ArialMT-46\"/>\r\n       <use x=\"83.398438\" xlink:href=\"#ArialMT-48\"/>\r\n      </g>\r\n     </g>\r\n    </g>\r\n    <g id=\"xtick_7\">\r\n     <g id=\"text_7\">\r\n      <!-- 1.2 -->\r\n      <g style=\"fill:#262626;\" transform=\"translate(251.8525 242.376719)scale(0.1 -0.1)\">\r\n       <use xlink:href=\"#ArialMT-49\"/>\r\n       <use x=\"55.615234\" xlink:href=\"#ArialMT-46\"/>\r\n       <use x=\"83.398438\" xlink:href=\"#ArialMT-50\"/>\r\n      </g>\r\n     </g>\r\n    </g>\r\n    <g id=\"text_8\">\r\n     <!-- coverage -->\r\n     <defs>\r\n      <path d=\"M 40.4375 19 \r\nL 49.078125 17.875 \r\nQ 47.65625 8.9375 41.8125 3.875 \r\nQ 35.984375 -1.171875 27.484375 -1.171875 \r\nQ 16.84375 -1.171875 10.375 5.78125 \r\nQ 3.90625 12.75 3.90625 25.734375 \r\nQ 3.90625 34.125 6.6875 40.421875 \r\nQ 9.46875 46.734375 15.15625 49.875 \r\nQ 20.84375 53.03125 27.546875 53.03125 \r\nQ 35.984375 53.03125 41.359375 48.75 \r\nQ 46.734375 44.484375 48.25 36.625 \r\nL 39.703125 35.296875 \r\nQ 38.484375 40.53125 35.375 43.15625 \r\nQ 32.28125 45.796875 27.875 45.796875 \r\nQ 21.234375 45.796875 17.078125 41.03125 \r\nQ 12.9375 36.28125 12.9375 25.984375 \r\nQ 12.9375 15.53125 16.9375 10.796875 \r\nQ 20.953125 6.0625 27.390625 6.0625 \r\nQ 32.5625 6.0625 36.03125 9.234375 \r\nQ 39.5 12.40625 40.4375 19 \r\nz\r\n\" id=\"ArialMT-99\"/>\r\n      <path d=\"M 3.328125 25.921875 \r\nQ 3.328125 40.328125 11.328125 47.265625 \r\nQ 18.015625 53.03125 27.640625 53.03125 \r\nQ 38.328125 53.03125 45.109375 46.015625 \r\nQ 51.90625 39.015625 51.90625 26.65625 \r\nQ 51.90625 16.65625 48.90625 10.90625 \r\nQ 45.90625 5.171875 40.15625 2 \r\nQ 34.421875 -1.171875 27.640625 -1.171875 \r\nQ 16.75 -1.171875 10.03125 5.8125 \r\nQ 3.328125 12.796875 3.328125 25.921875 \r\nz\r\nM 12.359375 25.921875 \r\nQ 12.359375 15.96875 16.703125 11.015625 \r\nQ 21.046875 6.0625 27.640625 6.0625 \r\nQ 34.1875 6.0625 38.53125 11.03125 \r\nQ 42.875 16.015625 42.875 26.21875 \r\nQ 42.875 35.84375 38.5 40.796875 \r\nQ 34.125 45.75 27.640625 45.75 \r\nQ 21.046875 45.75 16.703125 40.8125 \r\nQ 12.359375 35.890625 12.359375 25.921875 \r\nz\r\n\" id=\"ArialMT-111\"/>\r\n      <path d=\"M 21 0 \r\nL 1.265625 51.859375 \r\nL 10.546875 51.859375 \r\nL 21.6875 20.796875 \r\nQ 23.484375 15.765625 25 10.359375 \r\nQ 26.171875 14.453125 28.265625 20.21875 \r\nL 39.796875 51.859375 \r\nL 48.828125 51.859375 \r\nL 29.203125 0 \r\nz\r\n\" id=\"ArialMT-118\"/>\r\n      <path d=\"M 42.09375 16.703125 \r\nL 51.171875 15.578125 \r\nQ 49.03125 7.625 43.21875 3.21875 \r\nQ 37.40625 -1.171875 28.375 -1.171875 \r\nQ 17 -1.171875 10.328125 5.828125 \r\nQ 3.65625 12.84375 3.65625 25.484375 \r\nQ 3.65625 38.578125 10.390625 45.796875 \r\nQ 17.140625 53.03125 27.875 53.03125 \r\nQ 38.28125 53.03125 44.875 45.953125 \r\nQ 51.46875 38.875 51.46875 26.03125 \r\nQ 51.46875 25.25 51.421875 23.6875 \r\nL 12.75 23.6875 \r\nQ 13.234375 15.140625 17.578125 10.59375 \r\nQ 21.921875 6.0625 28.421875 6.0625 \r\nQ 33.25 6.0625 36.671875 8.59375 \r\nQ 40.09375 11.140625 42.09375 16.703125 \r\nz\r\nM 13.234375 30.90625 \r\nL 42.1875 30.90625 \r\nQ 41.609375 37.453125 38.875 40.71875 \r\nQ 34.671875 45.796875 27.984375 45.796875 \r\nQ 21.921875 45.796875 17.796875 41.75 \r\nQ 13.671875 37.703125 13.234375 30.90625 \r\nz\r\n\" id=\"ArialMT-101\"/>\r\n      <path d=\"M 6.5 0 \r\nL 6.5 51.859375 \r\nL 14.40625 51.859375 \r\nL 14.40625 44 \r\nQ 17.4375 49.515625 20 51.265625 \r\nQ 22.5625 53.03125 25.640625 53.03125 \r\nQ 30.078125 53.03125 34.671875 50.203125 \r\nL 31.640625 42.046875 \r\nQ 28.421875 43.953125 25.203125 43.953125 \r\nQ 22.3125 43.953125 20.015625 42.21875 \r\nQ 17.71875 40.484375 16.75 37.40625 \r\nQ 15.28125 32.71875 15.28125 27.15625 \r\nL 15.28125 0 \r\nz\r\n\" id=\"ArialMT-114\"/>\r\n      <path d=\"M 40.4375 6.390625 \r\nQ 35.546875 2.25 31.03125 0.53125 \r\nQ 26.515625 -1.171875 21.34375 -1.171875 \r\nQ 12.796875 -1.171875 8.203125 3 \r\nQ 3.609375 7.171875 3.609375 13.671875 \r\nQ 3.609375 17.484375 5.34375 20.625 \r\nQ 7.078125 23.78125 9.890625 25.6875 \r\nQ 12.703125 27.59375 16.21875 28.5625 \r\nQ 18.796875 29.25 24.03125 29.890625 \r\nQ 34.671875 31.15625 39.703125 32.90625 \r\nQ 39.75 34.71875 39.75 35.203125 \r\nQ 39.75 40.578125 37.25 42.78125 \r\nQ 33.890625 45.75 27.25 45.75 \r\nQ 21.046875 45.75 18.09375 43.578125 \r\nQ 15.140625 41.40625 13.71875 35.890625 \r\nL 5.125 37.0625 \r\nQ 6.296875 42.578125 8.984375 45.96875 \r\nQ 11.671875 49.359375 16.75 51.1875 \r\nQ 21.828125 53.03125 28.515625 53.03125 \r\nQ 35.15625 53.03125 39.296875 51.46875 \r\nQ 43.453125 49.90625 45.40625 47.53125 \r\nQ 47.359375 45.171875 48.140625 41.546875 \r\nQ 48.578125 39.3125 48.578125 33.453125 \r\nL 48.578125 21.734375 \r\nQ 48.578125 9.46875 49.140625 6.21875 \r\nQ 49.703125 2.984375 51.375 0 \r\nL 42.1875 0 \r\nQ 40.828125 2.734375 40.4375 6.390625 \r\nz\r\nM 39.703125 26.03125 \r\nQ 34.90625 24.078125 25.34375 22.703125 \r\nQ 19.921875 21.921875 17.671875 20.9375 \r\nQ 15.4375 19.96875 14.203125 18.09375 \r\nQ 12.984375 16.21875 12.984375 13.921875 \r\nQ 12.984375 10.40625 15.640625 8.0625 \r\nQ 18.3125 5.71875 23.4375 5.71875 \r\nQ 28.515625 5.71875 32.46875 7.9375 \r\nQ 36.421875 10.15625 38.28125 14.015625 \r\nQ 39.703125 17 39.703125 22.796875 \r\nz\r\n\" id=\"ArialMT-97\"/>\r\n      <path d=\"M 4.984375 -4.296875 \r\nL 13.53125 -5.5625 \r\nQ 14.0625 -9.515625 16.5 -11.328125 \r\nQ 19.78125 -13.765625 25.4375 -13.765625 \r\nQ 31.546875 -13.765625 34.859375 -11.328125 \r\nQ 38.1875 -8.890625 39.359375 -4.5 \r\nQ 40.046875 -1.8125 39.984375 6.78125 \r\nQ 34.234375 0 25.640625 0 \r\nQ 14.9375 0 9.078125 7.71875 \r\nQ 3.21875 15.4375 3.21875 26.21875 \r\nQ 3.21875 33.640625 5.90625 39.90625 \r\nQ 8.59375 46.1875 13.6875 49.609375 \r\nQ 18.796875 53.03125 25.6875 53.03125 \r\nQ 34.859375 53.03125 40.828125 45.609375 \r\nL 40.828125 51.859375 \r\nL 48.921875 51.859375 \r\nL 48.921875 7.03125 \r\nQ 48.921875 -5.078125 46.453125 -10.125 \r\nQ 44 -15.1875 38.640625 -18.109375 \r\nQ 33.296875 -21.046875 25.484375 -21.046875 \r\nQ 16.21875 -21.046875 10.5 -16.875 \r\nQ 4.78125 -12.703125 4.984375 -4.296875 \r\nz\r\nM 12.25 26.859375 \r\nQ 12.25 16.65625 16.296875 11.96875 \r\nQ 20.359375 7.28125 26.46875 7.28125 \r\nQ 32.515625 7.28125 36.609375 11.9375 \r\nQ 40.71875 16.609375 40.71875 26.5625 \r\nQ 40.71875 36.078125 36.5 40.90625 \r\nQ 32.28125 45.75 26.3125 45.75 \r\nQ 20.453125 45.75 16.34375 40.984375 \r\nQ 12.25 36.234375 12.25 26.859375 \r\nz\r\n\" id=\"ArialMT-103\"/>\r\n     </defs>\r\n     <g style=\"fill:#262626;\" transform=\"translate(129.515312 255.404844)scale(0.1 -0.1)\">\r\n      <use xlink:href=\"#ArialMT-99\"/>\r\n      <use x=\"50\" xlink:href=\"#ArialMT-111\"/>\r\n      <use x=\"105.615234\" xlink:href=\"#ArialMT-118\"/>\r\n      <use x=\"155.615234\" xlink:href=\"#ArialMT-101\"/>\r\n      <use x=\"211.230469\" xlink:href=\"#ArialMT-114\"/>\r\n      <use x=\"244.53125\" xlink:href=\"#ArialMT-97\"/>\r\n      <use x=\"300.146484\" xlink:href=\"#ArialMT-103\"/>\r\n      <use x=\"355.761719\" xlink:href=\"#ArialMT-101\"/>\r\n     </g>\r\n    </g>\r\n   </g>\r\n   <g id=\"matplotlib.axis_2\">\r\n    <g id=\"ytick_1\">\r\n     <g id=\"text_9\">\r\n      <!-- 0.0 -->\r\n      <g style=\"fill:#262626;\" transform=\"translate(20.4625 231.797813)scale(0.1 -0.1)\">\r\n       <use xlink:href=\"#ArialMT-48\"/>\r\n       <use x=\"55.615234\" xlink:href=\"#ArialMT-46\"/>\r\n       <use x=\"83.398438\" xlink:href=\"#ArialMT-48\"/>\r\n      </g>\r\n     </g>\r\n    </g>\r\n    <g id=\"ytick_2\">\r\n     <g id=\"text_10\">\r\n      <!-- 0.2 -->\r\n      <g style=\"fill:#262626;\" transform=\"translate(20.4625 195.557813)scale(0.1 -0.1)\">\r\n       <use xlink:href=\"#ArialMT-48\"/>\r\n       <use x=\"55.615234\" xlink:href=\"#ArialMT-46\"/>\r\n       <use x=\"83.398438\" xlink:href=\"#ArialMT-50\"/>\r\n      </g>\r\n     </g>\r\n    </g>\r\n    <g id=\"ytick_3\">\r\n     <g id=\"text_11\">\r\n      <!-- 0.4 -->\r\n      <g style=\"fill:#262626;\" transform=\"translate(20.4625 159.317813)scale(0.1 -0.1)\">\r\n       <use xlink:href=\"#ArialMT-48\"/>\r\n       <use x=\"55.615234\" xlink:href=\"#ArialMT-46\"/>\r\n       <use x=\"83.398438\" xlink:href=\"#ArialMT-52\"/>\r\n      </g>\r\n     </g>\r\n    </g>\r\n    <g id=\"ytick_4\">\r\n     <g id=\"text_12\">\r\n      <!-- 0.6 -->\r\n      <g style=\"fill:#262626;\" transform=\"translate(20.4625 123.077813)scale(0.1 -0.1)\">\r\n       <use xlink:href=\"#ArialMT-48\"/>\r\n       <use x=\"55.615234\" xlink:href=\"#ArialMT-46\"/>\r\n       <use x=\"83.398438\" xlink:href=\"#ArialMT-54\"/>\r\n      </g>\r\n     </g>\r\n    </g>\r\n    <g id=\"ytick_5\">\r\n     <g id=\"text_13\">\r\n      <!-- 0.8 -->\r\n      <g style=\"fill:#262626;\" transform=\"translate(20.4625 86.837813)scale(0.1 -0.1)\">\r\n       <use xlink:href=\"#ArialMT-48\"/>\r\n       <use x=\"55.615234\" xlink:href=\"#ArialMT-46\"/>\r\n       <use x=\"83.398438\" xlink:href=\"#ArialMT-56\"/>\r\n      </g>\r\n     </g>\r\n    </g>\r\n    <g id=\"ytick_6\">\r\n     <g id=\"text_14\">\r\n      <!-- 1.0 -->\r\n      <g style=\"fill:#262626;\" transform=\"translate(20.4625 50.597813)scale(0.1 -0.1)\">\r\n       <use xlink:href=\"#ArialMT-49\"/>\r\n       <use x=\"55.615234\" xlink:href=\"#ArialMT-46\"/>\r\n       <use x=\"83.398438\" xlink:href=\"#ArialMT-48\"/>\r\n      </g>\r\n     </g>\r\n    </g>\r\n    <g id=\"ytick_7\">\r\n     <g id=\"text_15\">\r\n      <!-- 1.2 -->\r\n      <g style=\"fill:#262626;\" transform=\"translate(20.4625 14.357812)scale(0.1 -0.1)\">\r\n       <use xlink:href=\"#ArialMT-49\"/>\r\n       <use x=\"55.615234\" xlink:href=\"#ArialMT-46\"/>\r\n       <use x=\"83.398438\" xlink:href=\"#ArialMT-50\"/>\r\n      </g>\r\n     </g>\r\n    </g>\r\n    <g id=\"text_16\">\r\n     <!-- density -->\r\n     <defs>\r\n      <path d=\"M 40.234375 0 \r\nL 40.234375 6.546875 \r\nQ 35.296875 -1.171875 25.734375 -1.171875 \r\nQ 19.53125 -1.171875 14.328125 2.25 \r\nQ 9.125 5.671875 6.265625 11.796875 \r\nQ 3.421875 17.921875 3.421875 25.875 \r\nQ 3.421875 33.640625 6 39.96875 \r\nQ 8.59375 46.296875 13.765625 49.65625 \r\nQ 18.953125 53.03125 25.34375 53.03125 \r\nQ 30.03125 53.03125 33.6875 51.046875 \r\nQ 37.359375 49.078125 39.65625 45.90625 \r\nL 39.65625 71.578125 \r\nL 48.390625 71.578125 \r\nL 48.390625 0 \r\nz\r\nM 12.453125 25.875 \r\nQ 12.453125 15.921875 16.640625 10.984375 \r\nQ 20.84375 6.0625 26.5625 6.0625 \r\nQ 32.328125 6.0625 36.34375 10.765625 \r\nQ 40.375 15.484375 40.375 25.140625 \r\nQ 40.375 35.796875 36.265625 40.765625 \r\nQ 32.171875 45.75 26.171875 45.75 \r\nQ 20.3125 45.75 16.375 40.96875 \r\nQ 12.453125 36.1875 12.453125 25.875 \r\nz\r\n\" id=\"ArialMT-100\"/>\r\n      <path d=\"M 6.59375 0 \r\nL 6.59375 51.859375 \r\nL 14.5 51.859375 \r\nL 14.5 44.484375 \r\nQ 20.21875 53.03125 31 53.03125 \r\nQ 35.6875 53.03125 39.625 51.34375 \r\nQ 43.5625 49.65625 45.515625 46.921875 \r\nQ 47.46875 44.1875 48.25 40.4375 \r\nQ 48.734375 37.984375 48.734375 31.890625 \r\nL 48.734375 0 \r\nL 39.9375 0 \r\nL 39.9375 31.546875 \r\nQ 39.9375 36.921875 38.90625 39.578125 \r\nQ 37.890625 42.234375 35.28125 43.8125 \r\nQ 32.671875 45.40625 29.15625 45.40625 \r\nQ 23.53125 45.40625 19.453125 41.84375 \r\nQ 15.375 38.28125 15.375 28.328125 \r\nL 15.375 0 \r\nz\r\n\" id=\"ArialMT-110\"/>\r\n      <path d=\"M 3.078125 15.484375 \r\nL 11.765625 16.84375 \r\nQ 12.5 11.625 15.84375 8.84375 \r\nQ 19.1875 6.0625 25.203125 6.0625 \r\nQ 31.25 6.0625 34.171875 8.515625 \r\nQ 37.109375 10.984375 37.109375 14.3125 \r\nQ 37.109375 17.28125 34.515625 19 \r\nQ 32.71875 20.171875 25.53125 21.96875 \r\nQ 15.875 24.421875 12.140625 26.203125 \r\nQ 8.40625 27.984375 6.46875 31.125 \r\nQ 4.546875 34.28125 4.546875 38.09375 \r\nQ 4.546875 41.546875 6.125 44.5 \r\nQ 7.71875 47.46875 10.453125 49.421875 \r\nQ 12.5 50.921875 16.03125 51.96875 \r\nQ 19.578125 53.03125 23.640625 53.03125 \r\nQ 29.734375 53.03125 34.34375 51.265625 \r\nQ 38.96875 49.515625 41.15625 46.5 \r\nQ 43.359375 43.5 44.1875 38.484375 \r\nL 35.59375 37.3125 \r\nQ 35.015625 41.3125 32.203125 43.546875 \r\nQ 29.390625 45.796875 24.265625 45.796875 \r\nQ 18.21875 45.796875 15.625 43.796875 \r\nQ 13.03125 41.796875 13.03125 39.109375 \r\nQ 13.03125 37.40625 14.109375 36.03125 \r\nQ 15.1875 34.625 17.484375 33.6875 \r\nQ 18.796875 33.203125 25.25 31.453125 \r\nQ 34.578125 28.953125 38.25 27.359375 \r\nQ 41.9375 25.78125 44.03125 22.75 \r\nQ 46.140625 19.734375 46.140625 15.234375 \r\nQ 46.140625 10.84375 43.578125 6.953125 \r\nQ 41.015625 3.078125 36.171875 0.953125 \r\nQ 31.34375 -1.171875 25.25 -1.171875 \r\nQ 15.140625 -1.171875 9.84375 3.03125 \r\nQ 4.546875 7.234375 3.078125 15.484375 \r\nz\r\n\" id=\"ArialMT-115\"/>\r\n      <path d=\"M 6.640625 61.46875 \r\nL 6.640625 71.578125 \r\nL 15.4375 71.578125 \r\nL 15.4375 61.46875 \r\nz\r\nM 6.640625 0 \r\nL 6.640625 51.859375 \r\nL 15.4375 51.859375 \r\nL 15.4375 0 \r\nz\r\n\" id=\"ArialMT-105\"/>\r\n      <path d=\"M 25.78125 7.859375 \r\nL 27.046875 0.09375 \r\nQ 23.34375 -0.6875 20.40625 -0.6875 \r\nQ 15.625 -0.6875 12.984375 0.828125 \r\nQ 10.359375 2.34375 9.28125 4.8125 \r\nQ 8.203125 7.28125 8.203125 15.1875 \r\nL 8.203125 45.015625 \r\nL 1.765625 45.015625 \r\nL 1.765625 51.859375 \r\nL 8.203125 51.859375 \r\nL 8.203125 64.703125 \r\nL 16.9375 69.96875 \r\nL 16.9375 51.859375 \r\nL 25.78125 51.859375 \r\nL 25.78125 45.015625 \r\nL 16.9375 45.015625 \r\nL 16.9375 14.703125 \r\nQ 16.9375 10.9375 17.40625 9.859375 \r\nQ 17.875 8.796875 18.921875 8.15625 \r\nQ 19.96875 7.515625 21.921875 7.515625 \r\nQ 23.390625 7.515625 25.78125 7.859375 \r\nz\r\n\" id=\"ArialMT-116\"/>\r\n      <path d=\"M 6.203125 -19.96875 \r\nL 5.21875 -11.71875 \r\nQ 8.109375 -12.5 10.25 -12.5 \r\nQ 13.1875 -12.5 14.9375 -11.515625 \r\nQ 16.703125 -10.546875 17.828125 -8.796875 \r\nQ 18.65625 -7.46875 20.515625 -2.25 \r\nQ 20.75 -1.515625 21.296875 -0.09375 \r\nL 1.609375 51.859375 \r\nL 11.078125 51.859375 \r\nL 21.875 21.828125 \r\nQ 23.96875 16.109375 25.640625 9.8125 \r\nQ 27.15625 15.875 29.25 21.625 \r\nL 40.328125 51.859375 \r\nL 49.125 51.859375 \r\nL 29.390625 -0.875 \r\nQ 26.21875 -9.421875 24.46875 -12.640625 \r\nQ 22.125 -17 19.09375 -19.015625 \r\nQ 16.0625 -21.046875 11.859375 -21.046875 \r\nQ 9.328125 -21.046875 6.203125 -19.96875 \r\nz\r\n\" id=\"ArialMT-121\"/>\r\n     </defs>\r\n     <g style=\"fill:#262626;\" transform=\"translate(14.357813 135.340313)rotate(-90)scale(0.1 -0.1)\">\r\n      <use xlink:href=\"#ArialMT-100\"/>\r\n      <use x=\"55.615234\" xlink:href=\"#ArialMT-101\"/>\r\n      <use x=\"111.230469\" xlink:href=\"#ArialMT-110\"/>\r\n      <use x=\"166.845703\" xlink:href=\"#ArialMT-115\"/>\r\n      <use x=\"216.845703\" xlink:href=\"#ArialMT-105\"/>\r\n      <use x=\"239.0625\" xlink:href=\"#ArialMT-116\"/>\r\n      <use x=\"266.845703\" xlink:href=\"#ArialMT-121\"/>\r\n     </g>\r\n    </g>\r\n   </g>\r\n   <g id=\"PathCollection_1\">\r\n    <defs>\r\n     <path d=\"M 0 3 \r\nC 0.795609 3 1.55874 2.683901 2.12132 2.12132 \r\nC 2.683901 1.55874 3 0.795609 3 0 \r\nC 3 -0.795609 2.683901 -1.55874 2.12132 -2.12132 \r\nC 1.55874 -2.683901 0.795609 -3 0 -3 \r\nC -0.795609 -3 -1.55874 -2.683901 -2.12132 -2.12132 \r\nC -2.683901 -1.55874 -3 -0.795609 -3 0 \r\nC -3 0.795609 -2.683901 1.55874 -2.12132 2.12132 \r\nC -1.55874 2.683901 -0.795609 3 0 3 \r\nz\r\n\" id=\"C0_0_35fa7bea63\"/>\r\n    </defs>\r\n    <g clip-path=\"url(#p18a89f3ca6)\">\r\n     <use style=\"fill:#440154;stroke:#440154;\" x=\"222.5625\" xlink:href=\"#C0_0_35fa7bea63\" y=\"191.978906\"/>\r\n    </g>\r\n    <g clip-path=\"url(#p18a89f3ca6)\">\r\n     <use style=\"fill:#31688e;stroke:#31688e;\" x=\"215.7675\" xlink:href=\"#C0_0_35fa7bea63\" y=\"189.46224\"/>\r\n    </g>\r\n    <g clip-path=\"url(#p18a89f3ca6)\">\r\n     <use style=\"fill:#35b779;stroke:#35b779;\" x=\"208.5195\" xlink:href=\"#C0_0_35fa7bea63\" y=\"186.945573\"/>\r\n    </g>\r\n    <g clip-path=\"url(#p18a89f3ca6)\">\r\n     <use style=\"fill:#35b779;stroke:#35b779;\" x=\"199.4595\" xlink:href=\"#C0_0_35fa7bea63\" y=\"184.303073\"/>\r\n    </g>\r\n    <g clip-path=\"url(#p18a89f3ca6)\">\r\n     <use style=\"fill:#35b779;stroke:#35b779;\" x=\"187.6815\" xlink:href=\"#C0_0_35fa7bea63\" y=\"181.76843\"/>\r\n    </g>\r\n    <g clip-path=\"url(#p18a89f3ca6)\">\r\n     <use style=\"fill:#35b779;stroke:#35b779;\" x=\"176.8095\" xlink:href=\"#C0_0_35fa7bea63\" y=\"178.053351\"/>\r\n    </g>\r\n    <g clip-path=\"url(#p18a89f3ca6)\">\r\n     <use style=\"fill:#35b779;stroke:#35b779;\" x=\"162.7665\" xlink:href=\"#C0_0_35fa7bea63\" y=\"174.261573\"/>\r\n    </g>\r\n    <g clip-path=\"url(#p18a89f3ca6)\">\r\n     <use style=\"fill:#fde725;stroke:#fde725;\" x=\"156.8775\" xlink:href=\"#C0_0_35fa7bea63\" y=\"171.174462\"/>\r\n    </g>\r\n    <g clip-path=\"url(#p18a89f3ca6)\">\r\n     <use style=\"fill:#fde725;stroke:#fde725;\" x=\"149.1765\" xlink:href=\"#C0_0_35fa7bea63\" y=\"168.32224\"/>\r\n    </g>\r\n    <g clip-path=\"url(#p18a89f3ca6)\">\r\n     <use style=\"fill:#fde725;stroke:#fde725;\" x=\"141.9285\" xlink:href=\"#C0_0_35fa7bea63\" y=\"164.367478\"/>\r\n    </g>\r\n    <g clip-path=\"url(#p18a89f3ca6)\">\r\n     <use style=\"fill:#fde725;stroke:#fde725;\" x=\"134.2275\" xlink:href=\"#C0_0_35fa7bea63\" y=\"159.430017\"/>\r\n    </g>\r\n    <g clip-path=\"url(#p18a89f3ca6)\">\r\n     <use style=\"fill:#fde725;stroke:#fde725;\" x=\"126.0735\" xlink:href=\"#C0_0_35fa7bea63\" y=\"152.92024\"/>\r\n    </g>\r\n    <g clip-path=\"url(#p18a89f3ca6)\">\r\n     <use style=\"fill:#fde725;stroke:#fde725;\" x=\"116.1075\" xlink:href=\"#C0_0_35fa7bea63\" y=\"145.168906\"/>\r\n    </g>\r\n    <g clip-path=\"url(#p18a89f3ca6)\">\r\n     <use style=\"fill:#fde725;stroke:#fde725;\" x=\"105.2355\" xlink:href=\"#C0_0_35fa7bea63\" y=\"133.59224\"/>\r\n    </g>\r\n    <g clip-path=\"url(#p18a89f3ca6)\">\r\n     <use style=\"fill:#fde725;stroke:#fde725;\" x=\"88.4745\" xlink:href=\"#C0_0_35fa7bea63\" y=\"123.525573\"/>\r\n    </g>\r\n   </g>\r\n   <g id=\"patch_3\">\r\n    <path d=\"M 41.3625 228.218906 \r\nL 41.3625 10.778906 \r\n\" style=\"fill:none;stroke:#262626;stroke-linecap:square;stroke-linejoin:miter;stroke-width:0.8;\"/>\r\n   </g>\r\n   <g id=\"patch_4\">\r\n    <path d=\"M 258.8025 228.218906 \r\nL 258.8025 10.778906 \r\n\" style=\"fill:none;stroke:#262626;stroke-linecap:square;stroke-linejoin:miter;stroke-width:0.8;\"/>\r\n   </g>\r\n   <g id=\"patch_5\">\r\n    <path d=\"M 41.3625 228.218906 \r\nL 258.8025 228.218906 \r\n\" style=\"fill:none;stroke:#262626;stroke-linecap:square;stroke-linejoin:miter;stroke-width:0.8;\"/>\r\n   </g>\r\n   <g id=\"patch_6\">\r\n    <path d=\"M 41.3625 10.778906 \r\nL 258.8025 10.778906 \r\n\" style=\"fill:none;stroke:#262626;stroke-linecap:square;stroke-linejoin:miter;stroke-width:0.8;\"/>\r\n   </g>\r\n  </g>\r\n  <g id=\"axes_2\">\r\n   <g id=\"patch_7\">\r\n    <path clip-path=\"url(#p3900dda353)\" d=\"M 275.5425 228.218906 \r\nL 275.5425 173.858906 \r\nL 275.5425 65.138906 \r\nL 275.5425 10.778906 \r\nL 286.4145 10.778906 \r\nL 286.4145 65.138906 \r\nL 286.4145 173.858906 \r\nL 286.4145 228.218906 \r\nz\r\n\" style=\"fill:#ffffff;stroke:#ffffff;stroke-linejoin:miter;stroke-width:0.01;\"/>\r\n   </g>\r\n   <g id=\"matplotlib.axis_3\"/>\r\n   <g id=\"matplotlib.axis_4\">\r\n    <g id=\"ytick_8\">\r\n     <g id=\"line2d_1\">\r\n      <defs>\r\n       <path d=\"M 0 0 \r\nL 3.5 0 \r\n\" id=\"m83444c2627\" style=\"stroke:#262626;stroke-width:0.8;\"/>\r\n      </defs>\r\n      <g>\r\n       <use style=\"fill:#262626;stroke:#262626;stroke-width:0.8;\" x=\"286.4145\" xlink:href=\"#m83444c2627\" y=\"201.038906\"/>\r\n      </g>\r\n     </g>\r\n     <g id=\"text_17\">\r\n      <!-- 0 -->\r\n      <g style=\"fill:#262626;\" transform=\"translate(293.4145 204.617813)scale(0.1 -0.1)\">\r\n       <use xlink:href=\"#ArialMT-48\"/>\r\n      </g>\r\n     </g>\r\n    </g>\r\n    <g id=\"ytick_9\">\r\n     <g id=\"line2d_2\">\r\n      <g>\r\n       <use style=\"fill:#262626;stroke:#262626;stroke-width:0.8;\" x=\"286.4145\" xlink:href=\"#m83444c2627\" y=\"146.678906\"/>\r\n      </g>\r\n     </g>\r\n     <g id=\"text_18\">\r\n      <!-- 1 -->\r\n      <g style=\"fill:#262626;\" transform=\"translate(293.4145 150.257813)scale(0.1 -0.1)\">\r\n       <use xlink:href=\"#ArialMT-49\"/>\r\n      </g>\r\n     </g>\r\n    </g>\r\n    <g id=\"ytick_10\">\r\n     <g id=\"line2d_3\">\r\n      <g>\r\n       <use style=\"fill:#262626;stroke:#262626;stroke-width:0.8;\" x=\"286.4145\" xlink:href=\"#m83444c2627\" y=\"92.318906\"/>\r\n      </g>\r\n     </g>\r\n     <g id=\"text_19\">\r\n      <!-- 2 -->\r\n      <g style=\"fill:#262626;\" transform=\"translate(293.4145 95.897813)scale(0.1 -0.1)\">\r\n       <use xlink:href=\"#ArialMT-50\"/>\r\n      </g>\r\n     </g>\r\n    </g>\r\n    <g id=\"ytick_11\">\r\n     <g id=\"line2d_4\">\r\n      <g>\r\n       <use style=\"fill:#262626;stroke:#262626;stroke-width:0.8;\" x=\"286.4145\" xlink:href=\"#m83444c2627\" y=\"37.958906\"/>\r\n      </g>\r\n     </g>\r\n     <g id=\"text_20\">\r\n      <!-- 3 -->\r\n      <defs>\r\n       <path d=\"M 4.203125 18.890625 \r\nL 12.984375 20.0625 \r\nQ 14.5 12.59375 18.140625 9.296875 \r\nQ 21.78125 6 27 6 \r\nQ 33.203125 6 37.46875 10.296875 \r\nQ 41.75 14.59375 41.75 20.953125 \r\nQ 41.75 27 37.796875 30.921875 \r\nQ 33.84375 34.859375 27.734375 34.859375 \r\nQ 25.25 34.859375 21.53125 33.890625 \r\nL 22.515625 41.609375 \r\nQ 23.390625 41.5 23.921875 41.5 \r\nQ 29.546875 41.5 34.03125 44.421875 \r\nQ 38.53125 47.359375 38.53125 53.46875 \r\nQ 38.53125 58.296875 35.25 61.46875 \r\nQ 31.984375 64.65625 26.8125 64.65625 \r\nQ 21.6875 64.65625 18.265625 61.421875 \r\nQ 14.84375 58.203125 13.875 51.765625 \r\nL 5.078125 53.328125 \r\nQ 6.6875 62.15625 12.390625 67.015625 \r\nQ 18.109375 71.875 26.609375 71.875 \r\nQ 32.46875 71.875 37.390625 69.359375 \r\nQ 42.328125 66.84375 44.9375 62.5 \r\nQ 47.5625 58.15625 47.5625 53.265625 \r\nQ 47.5625 48.640625 45.0625 44.828125 \r\nQ 42.578125 41.015625 37.703125 38.765625 \r\nQ 44.046875 37.3125 47.5625 32.6875 \r\nQ 51.078125 28.078125 51.078125 21.140625 \r\nQ 51.078125 11.765625 44.234375 5.25 \r\nQ 37.40625 -1.265625 26.953125 -1.265625 \r\nQ 17.53125 -1.265625 11.296875 4.34375 \r\nQ 5.078125 9.96875 4.203125 18.890625 \r\nz\r\n\" id=\"ArialMT-51\"/>\r\n      </defs>\r\n      <g style=\"fill:#262626;\" transform=\"translate(293.4145 41.537813)scale(0.1 -0.1)\">\r\n       <use xlink:href=\"#ArialMT-51\"/>\r\n      </g>\r\n     </g>\r\n    </g>\r\n    <g id=\"text_21\">\r\n     <!-- nr. of restricted dimensions -->\r\n     <defs>\r\n      <path id=\"ArialMT-32\"/>\r\n      <path d=\"M 8.6875 0 \r\nL 8.6875 45.015625 \r\nL 0.921875 45.015625 \r\nL 0.921875 51.859375 \r\nL 8.6875 51.859375 \r\nL 8.6875 57.375 \r\nQ 8.6875 62.59375 9.625 65.140625 \r\nQ 10.890625 68.5625 14.078125 70.671875 \r\nQ 17.28125 72.796875 23.046875 72.796875 \r\nQ 26.765625 72.796875 31.25 71.921875 \r\nL 29.9375 64.265625 \r\nQ 27.203125 64.75 24.75 64.75 \r\nQ 20.75 64.75 19.09375 63.03125 \r\nQ 17.4375 61.328125 17.4375 56.640625 \r\nL 17.4375 51.859375 \r\nL 27.546875 51.859375 \r\nL 27.546875 45.015625 \r\nL 17.4375 45.015625 \r\nL 17.4375 0 \r\nz\r\n\" id=\"ArialMT-102\"/>\r\n      <path d=\"M 6.59375 0 \r\nL 6.59375 51.859375 \r\nL 14.453125 51.859375 \r\nL 14.453125 44.578125 \r\nQ 16.890625 48.390625 20.9375 50.703125 \r\nQ 25 53.03125 30.171875 53.03125 \r\nQ 35.9375 53.03125 39.625 50.640625 \r\nQ 43.3125 48.25 44.828125 43.953125 \r\nQ 50.984375 53.03125 60.84375 53.03125 \r\nQ 68.5625 53.03125 72.703125 48.75 \r\nQ 76.859375 44.484375 76.859375 35.59375 \r\nL 76.859375 0 \r\nL 68.109375 0 \r\nL 68.109375 32.671875 \r\nQ 68.109375 37.9375 67.25 40.25 \r\nQ 66.40625 42.578125 64.15625 43.984375 \r\nQ 61.921875 45.40625 58.890625 45.40625 \r\nQ 53.421875 45.40625 49.796875 41.765625 \r\nQ 46.1875 38.140625 46.1875 30.125 \r\nL 46.1875 0 \r\nL 37.40625 0 \r\nL 37.40625 33.6875 \r\nQ 37.40625 39.546875 35.25 42.46875 \r\nQ 33.109375 45.40625 28.21875 45.40625 \r\nQ 24.515625 45.40625 21.359375 43.453125 \r\nQ 18.21875 41.5 16.796875 37.734375 \r\nQ 15.375 33.984375 15.375 26.90625 \r\nL 15.375 0 \r\nz\r\n\" id=\"ArialMT-109\"/>\r\n     </defs>\r\n     <g style=\"fill:#262626;\" transform=\"translate(310.13325 179.515313)rotate(-90)scale(0.1 -0.1)\">\r\n      <use xlink:href=\"#ArialMT-110\"/>\r\n      <use x=\"55.615234\" xlink:href=\"#ArialMT-114\"/>\r\n      <use x=\"88.837891\" xlink:href=\"#ArialMT-46\"/>\r\n      <use x=\"116.621094\" xlink:href=\"#ArialMT-32\"/>\r\n      <use x=\"144.404297\" xlink:href=\"#ArialMT-111\"/>\r\n      <use x=\"200.019531\" xlink:href=\"#ArialMT-102\"/>\r\n      <use x=\"227.802734\" xlink:href=\"#ArialMT-32\"/>\r\n      <use x=\"255.585938\" xlink:href=\"#ArialMT-114\"/>\r\n      <use x=\"288.886719\" xlink:href=\"#ArialMT-101\"/>\r\n      <use x=\"344.501953\" xlink:href=\"#ArialMT-115\"/>\r\n      <use x=\"394.501953\" xlink:href=\"#ArialMT-116\"/>\r\n      <use x=\"422.285156\" xlink:href=\"#ArialMT-114\"/>\r\n      <use x=\"455.585938\" xlink:href=\"#ArialMT-105\"/>\r\n      <use x=\"477.802734\" xlink:href=\"#ArialMT-99\"/>\r\n      <use x=\"527.802734\" xlink:href=\"#ArialMT-116\"/>\r\n      <use x=\"555.585938\" xlink:href=\"#ArialMT-101\"/>\r\n      <use x=\"611.201172\" xlink:href=\"#ArialMT-100\"/>\r\n      <use x=\"666.816406\" xlink:href=\"#ArialMT-32\"/>\r\n      <use x=\"694.599609\" xlink:href=\"#ArialMT-100\"/>\r\n      <use x=\"750.214844\" xlink:href=\"#ArialMT-105\"/>\r\n      <use x=\"772.431641\" xlink:href=\"#ArialMT-109\"/>\r\n      <use x=\"855.732422\" xlink:href=\"#ArialMT-101\"/>\r\n      <use x=\"911.347656\" xlink:href=\"#ArialMT-110\"/>\r\n      <use x=\"966.962891\" xlink:href=\"#ArialMT-115\"/>\r\n      <use x=\"1016.962891\" xlink:href=\"#ArialMT-105\"/>\r\n      <use x=\"1039.179688\" xlink:href=\"#ArialMT-111\"/>\r\n      <use x=\"1094.794922\" xlink:href=\"#ArialMT-110\"/>\r\n      <use x=\"1150.410156\" xlink:href=\"#ArialMT-115\"/>\r\n     </g>\r\n    </g>\r\n   </g>\r\n   <g id=\"QuadMesh_1\">\r\n    <path clip-path=\"url(#p3900dda353)\" d=\"M 275.5425 228.218906 \r\nL 286.4145 228.218906 \r\nL 286.4145 173.858906 \r\nL 275.5425 173.858906 \r\nL 275.5425 228.218906 \r\n\" style=\"fill:#440154;\"/>\r\n    <path clip-path=\"url(#p3900dda353)\" d=\"M 275.5425 173.858906 \r\nL 286.4145 173.858906 \r\nL 286.4145 119.498906 \r\nL 275.5425 119.498906 \r\nL 275.5425 173.858906 \r\n\" style=\"fill:#31688e;\"/>\r\n    <path clip-path=\"url(#p3900dda353)\" d=\"M 275.5425 119.498906 \r\nL 286.4145 119.498906 \r\nL 286.4145 65.138906 \r\nL 275.5425 65.138906 \r\nL 275.5425 119.498906 \r\n\" style=\"fill:#35b779;\"/>\r\n    <path clip-path=\"url(#p3900dda353)\" d=\"M 275.5425 65.138906 \r\nL 286.4145 65.138906 \r\nL 286.4145 10.778906 \r\nL 275.5425 10.778906 \r\nL 275.5425 65.138906 \r\n\" style=\"fill:#fde725;\"/>\r\n   </g>\r\n   <g id=\"LineCollection_1\">\r\n    <path clip-path=\"url(#p3900dda353)\" d=\"M 275.5425 173.858906 \r\nL 286.4145 173.858906 \r\n\" style=\"fill:none;stroke:#262626;stroke-width:0.4;\"/>\r\n    <path clip-path=\"url(#p3900dda353)\" d=\"M 275.5425 119.498906 \r\nL 286.4145 119.498906 \r\n\" style=\"fill:none;stroke:#262626;stroke-width:0.4;\"/>\r\n    <path clip-path=\"url(#p3900dda353)\" d=\"M 275.5425 65.138906 \r\nL 286.4145 65.138906 \r\n\" style=\"fill:none;stroke:#262626;stroke-width:0.4;\"/>\r\n   </g>\r\n   <g id=\"patch_8\">\r\n    <path d=\"M 275.5425 228.218906 \r\nL 275.5425 173.858906 \r\nL 275.5425 65.138906 \r\nL 275.5425 10.778906 \r\nL 286.4145 10.778906 \r\nL 286.4145 65.138906 \r\nL 286.4145 173.858906 \r\nL 286.4145 228.218906 \r\nz\r\n\" style=\"fill:none;stroke:#262626;stroke-linejoin:miter;stroke-width:0.8;\"/>\r\n   </g>\r\n  </g>\r\n </g>\r\n <defs>\r\n  <clipPath id=\"p18a89f3ca6\">\r\n   <rect height=\"217.44\" width=\"217.44\" x=\"41.3625\" y=\"10.778906\"/>\r\n  </clipPath>\r\n  <clipPath id=\"p3900dda353\">\r\n   <rect height=\"217.44\" width=\"10.872\" x=\"275.5425\" y=\"10.778906\"/>\r\n  </clipPath>\r\n </defs>\r\n</svg>\r\n",
      "image/png": "[encoded data removed]"
     },
     "metadata": {}
    }
   ],
   "source": [
    "box1.show_tradeoff()\n",
    "box1.inspect(14)"
   ]
  },
  {
   "cell_type": "code",
   "execution_count": 12,
   "metadata": {
    "tags": []
   },
   "outputs": [
    {
     "output_type": "stream",
     "name": "stderr",
     "text": "[MainProcess/INFO] 1820 points remaining, containing 296 cases of interest\n[MainProcess/INFO] mean: 0.38311688311688313, mass: 0.077, coverage: 0.1475, density: 0.38311688311688313 restricted_dimensions: 4\n"
    }
   ],
   "source": [
    "box2 = prim_alg.find_box()"
   ]
  },
  {
   "cell_type": "code",
   "execution_count": 60,
   "metadata": {
    "tags": []
   },
   "outputs": [
    {
     "output_type": "stream",
     "name": "stderr",
     "text": "[MainProcess/INFO] 1494 points remaining, containing 471 cases of interest\n[MainProcess/INFO] box does not meet threshold criteria, value is 0.75, returning dump box\n"
    }
   ],
   "source": [
    "box4 = prim_alg.find_box()"
   ]
  },
  {
   "cell_type": "code",
   "execution_count": 13,
   "metadata": {
    "tags": []
   },
   "outputs": [
    {
     "output_type": "stream",
     "name": "stdout",
     "text": "coverage   density   mass  res_dim\nbox 1    0.2600  0.577778  0.090        3\nbox 2    0.1475  0.383117  0.077        4\n"
    }
   ],
   "source": [
    "print (prim_alg.stats_to_dataframe())"
   ]
  },
  {
   "cell_type": "code",
   "execution_count": 61,
   "metadata": {
    "tags": []
   },
   "outputs": [],
   "source": [
    "box1.select(21)\n",
    "box1.show_pairs_scatter()\n",
    "fig = plt.gcf()\n",
    "fig.set_size_inches(12,12)\n",
    "plt.show()"
   ]
  },
  {
   "cell_type": "code",
   "execution_count": null,
   "metadata": {},
   "outputs": [],
   "source": [
    "# boxes = prim_alg.show_boxes()\n",
    "prim.Prim.show_boxes(prim_alg)\n",
    "# #visualize\n",
    "# prim.show_boxes_individually(boxes, results)\n",
    "# prim.show_boxes_together(boxes, results)\n",
    "# plt.show()"
   ]
  },
  {
   "cell_type": "code",
   "execution_count": 14,
   "metadata": {},
   "outputs": [],
   "source": [
    "# CART\n",
    "from ema_workbench.analysis import cart\n",
    "cart_alg = cart.CART(x,y_disutil_dam, 0.05)\n",
    "cart_alg.build_tree()"
   ]
  },
  {
   "cell_type": "code",
   "execution_count": 15,
   "metadata": {
    "tags": []
   },
   "outputs": [
    {
     "output_type": "stream",
     "name": "stdout",
     "text": "coverage   density    mass  res dim\nbox 1   0.400534  1.000000  0.1500        2\nbox 2   0.109479  0.820000  0.0500        3\nbox 3   0.098798  0.740000  0.0500        3\nbox 4   0.030708  0.230000  0.0500        3\nbox 5   0.040053  0.300000  0.0500        4\nbox 6   0.049399  0.370000  0.0500        4\nbox 7   0.056075  0.420000  0.0500        3\nbox 8   0.066756  0.500000  0.0500        3\nbox 9   0.026702  0.153846  0.0650        3\nbox 10  0.022697  0.134921  0.0630        3\nbox 11  0.013351  0.052910  0.0945        3\nbox 12  0.001335  0.010000  0.0500        3\nbox 13  0.000000  0.000000  0.1075        3\nbox 14  0.034713  0.260000  0.0500        3\nbox 15  0.049399  0.264286  0.0700        2\n                      box 1                      box 2                \\\n                        min           max          min           max   \nmiu_period        10.000000     21.500000    10.000000     21.500000   \nsr                 0.202820      0.237335     0.237335      0.299304   \nperiodfullpart    10.000000     57.000000    10.000000     57.000000   \nemdd              -0.950520      0.968355    -0.950520      0.968355   \nsigma_gr          -0.011972     -0.008011    -0.011972     -0.010009   \nt2xco2_index       9.000000    994.000000     9.000000    994.000000   \nfosslim         4043.937817  13570.258017  4043.937817  13570.258017   \n\n                      box 3                      box 4                \\\n                        min           max          min           max   \nmiu_period        10.000000     21.500000    21.500000     34.000000   \nsr                 0.237335      0.299304     0.202820      0.299304   \nperiodfullpart    10.000000     57.000000    10.000000     47.500000   \nemdd              -0.950520      0.968355    -0.950520      0.100003   \nsigma_gr          -0.010009     -0.008011    -0.011972     -0.008011   \nt2xco2_index       9.000000    994.000000     9.000000    994.000000   \nfosslim         4043.937817  13570.258017  4043.937817  13570.258017   \n\n                      box 5               ...       box 11                \\\n                        min          max  ...          min           max   \nmiu_period        21.500000    34.000000  ...    39.000000     45.500000   \nsr                 0.202820     0.299304  ...     0.202820      0.299304   \nperiodfullpart    10.000000    47.500000  ...    10.000000     57.000000   \nemdd               0.100003     0.968355  ...    -0.950520      0.968355   \nsigma_gr          -0.011972    -0.008011  ...    -0.011972     -0.008569   \nt2xco2_index       9.000000   994.000000  ...     9.000000    994.000000   \nfosslim         4043.937817  8811.981445  ...  5449.384766  12721.752441   \n\n                     box 12                     box 13                \\\n                        min           max          min           max   \nmiu_period        45.500000     57.000000    45.500000     57.000000   \nsr                 0.202820      0.299304     0.202820      0.299304   \nperiodfullpart    10.000000     57.000000    10.000000     57.000000   \nemdd              -0.950520      0.968355    -0.950520      0.968355   \nsigma_gr          -0.011972     -0.011003    -0.011003     -0.008569   \nt2xco2_index       9.000000    994.000000     9.000000    994.000000   \nfosslim         5449.384766  12721.752441  5449.384766  12721.752441   \n\n                      box 14                     box 15                \n                         min           max          min           max  \nmiu_period         34.000000     57.000000    34.000000     57.000000  \nsr                  0.202820      0.299304     0.202820      0.299304  \nperiodfullpart     10.000000     57.000000    10.000000     57.000000  \nemdd               -0.950520      0.968355    -0.950520      0.968355  \nsigma_gr           -0.011972     -0.008569    -0.008569     -0.008011  \nt2xco2_index        9.000000    994.000000     9.000000    994.000000  \nfosslim         12721.752441  13570.258017  4043.937817  13570.258017  \n\n[7 rows x 30 columns]\n"
    }
   ],
   "source": [
    "print (cart_alg.stats_to_dataframe())\n",
    "print (cart_alg.boxes_to_dataframe())\n"
   ]
  },
  {
   "cell_type": "code",
   "execution_count": null,
   "metadata": {
    "collapsed": true
   },
   "outputs": [],
   "source": [
    "## put results in excel\n",
    "import pandas as pd\n",
    "\n",
    "outcomes_df = pd.DataFrame(max_outcomes, index = df_index)\n",
    "experiments_df = pd.DataFrame(experiments)\n",
    "df_results = pd.concat([outcomes_df, experiments_df], axis=1)\n",
    "df_results.to_excel(\"r_100s_10p.xlsx\")"
   ]
  },
  {
   "cell_type": "code",
   "execution_count": null,
   "metadata": {
    "collapsed": true
   },
   "outputs": [],
   "source": [
    "''' \n",
    "########################## adapted from EMA workbench Mexican Flu example #################################\n",
    "Converting the outcome into a dictionary when PRIM returns a TypeError due to unhashable dictionary\n",
    "prim.prim requires y to be a 1D array, so why are we doing this?\n",
    "\n",
    "Is there some other way we can use the flu example for scenario discovery?\n",
    "In the flu example, there is a zero policy already decided through vensim, but here we are trying to find \n",
    "the most vulnerable scenarios across a large ensemble of policies through PRIM.\n",
    "i.e. we use PRIM to get uncertainty + policy subspace which gives undesirable outcomes \n",
    "'''\n",
    "# transform the outcomes to the required format \n",
    "\n",
    "y_dict = {}\n",
    "\n",
    "\n",
    "# get time and remove it from the dict\n",
    "for key, value in outcomes.items():\n",
    "    if key == 'Atmospheric Temperature':\n",
    "        max_temp = np.max(value, axis=1)\n",
    "        y_dict['max temp'] = max_temp\n",
    "    else:\n",
    "        y_dict[key] = value[:, -1]\n",
    "y_dict\n",
    "\n",
    "\n",
    "\n",
    "# commenting out because we don't have a time index\n",
    "        # we want the time at which the maximum occurred\n",
    "        # the code here is a bit obscure, I don't know why the transpose\n",
    "        # of value is needed. This however does produce the appropriate results\n",
    "#         logical = value.T == np.max(value, axis=1)\n",
    "#         tr['time of max'] = time[logical.T]"
   ]
  },
  {
   "cell_type": "code",
   "execution_count": null,
   "metadata": {},
   "outputs": [],
   "source": []
  }
 ],
 "metadata": {
  "kernelspec": {
   "display_name": "Python 3",
   "language": "python",
   "name": "python3"
  },
  "language_info": {
   "codemirror_mode": {
    "name": "ipython",
    "version": 3
   },
   "file_extension": ".py",
   "mimetype": "text/x-python",
   "name": "python",
   "nbconvert_exporter": "python",
   "pygments_lexer": "ipython3",
   "version": "3.7.3-final"
  }
 },
 "nbformat": 4,
 "nbformat_minor": 2
}