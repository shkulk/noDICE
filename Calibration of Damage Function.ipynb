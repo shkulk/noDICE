{
 "cells": [
  {
   "cell_type": "markdown",
   "metadata": {},
   "source": [
    "# Calibration of Damage Function of Newbold & Daigneault (2009) "
   ]
  },
  {
   "cell_type": "code",
   "execution_count": 1,
   "metadata": {},
   "outputs": [],
   "source": [
    "import numpy as np\n",
    "from scipy.optimize import fsolve\n",
    "import matplotlib.pyplot as plt\n",
    "%matplotlib inline\n",
    "plt.style.use('ggplot')"
   ]
  },
  {
   "cell_type": "code",
   "execution_count": 2,
   "metadata": {},
   "outputs": [],
   "source": [
    "def eqs(p):\n",
    "    a, b = p    \n",
    "    return((0.5-(1/(1 + a*10.0**b))),\n",
    "           (0.97-(1/(1 + a*3.0**b))))\n",
    "\n",
    "x,y = fsolve(eqs, (0.025,1.6))\n",
    "\n",
    "alg = []\n",
    "for i in range(0,20):\n",
    "    alg.append(1-(1/(1 + x*i**y)))"
   ]
  },
  {
   "cell_type": "code",
   "execution_count": 4,
   "metadata": {},
   "outputs": [
    {
     "name": "stderr",
     "output_type": "stream",
     "text": [
      "C:\\Users\\Shajee\\Anaconda3\\lib\\site-packages\\scipy\\optimize\\minpack.py:163: RuntimeWarning: The iteration is not making good progress, as measured by the \n",
      "  improvement from the last ten iterations.\n",
      "  warnings.warn(msg, RuntimeWarning)\n"
     ]
    }
   ],
   "source": [
    "def eqs(p):\n",
    "    a, b = p    \n",
    "    return((0.5-np.exp(-x*i**y)),\n",
    "           (0.97-np.exp(-x*i**y)))\n",
    "\n",
    "x,y = fsolve(eqs, (0.0025,2.45))\n",
    "\n",
    "exp = []\n",
    "for i in range(0,20):\n",
    "    exp.append(1-np.exp(-x*i**y))  "
   ]
  },
  {
   "cell_type": "code",
   "execution_count": 8,
   "metadata": {},
   "outputs": [
    {
     "data": {
      "image/png": "[encoded data removed]",
      "text/plain": [
       "<Figure size 432x288 with 1 Axes>"
      ]
     },
     "metadata": {},
     "output_type": "display_data"
    }
   ],
   "source": [
    "plt.plot(\n",
    "         np.linspace(0,19,20), alg, \"r\", \n",
    "         np.linspace(0,19,20), exp, \"b\" \n",
    "         #dice_SM.tperiod, dice_SM.damages, \"y\",\n",
    "         #dice_SM.tperiod, dice_SM.abatecost, \"g\"\n",
    "        )\n",
    "plt.show()"
   ]
  }
 ],
 "metadata": {
  "kernelspec": {
   "display_name": "Python 3",
   "language": "python",
   "name": "python3"
  },
  "language_info": {
   "codemirror_mode": {
    "name": "ipython",
    "version": 3
   },
   "file_extension": ".py",
   "mimetype": "text/x-python",
   "name": "python",
   "nbconvert_exporter": "python",
   "pygments_lexer": "ipython3",
   "version": "3.7.0"
  }
 },
 "nbformat": 4,
 "nbformat_minor": 2
}
