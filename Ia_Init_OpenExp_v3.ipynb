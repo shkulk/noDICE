{
 "cells": [
  {
   "cell_type": "code",
   "execution_count": 1,
   "metadata": {
    "tags": []
   },
   "outputs": [
    {
     "output_type": "stream",
     "name": "stderr",
     "text": "C:\\Users\\shrid\\Anaconda3\\lib\\importlib\\_bootstrap.py:219: ImportWarning: can't resolve package from __spec__ or __package__, falling back on __name__ and __path__\n  return f(*args, **kwds)\n"
    }
   ],
   "source": [
    "import time\n",
    "%matplotlib inline\n",
    "import matplotlib.pyplot as plt\n",
    "import numpy as np\n",
    "import pandas as pd\n",
    "import seaborn as sns\n",
    "sns.set_style('white')\n",
    "# import statsmodels.api as sm\n",
    "\n",
    "from ema_workbench import (Model, RealParameter, IntegerParameter, ArrayOutcome, TimeSeriesOutcome,\n",
    "                           ema_logging, SequentialEvaluator,\n",
    "                           MultiprocessingEvaluator)\n",
    "from ema_workbench import save_results, load_results\n",
    "# from ema_workbench.analysis import prim, cart\n",
    "from ema_workbench.analysis import scenario_discovery_util as sdutil\n",
    "from sklearn import preprocessing \n",
    "import ema_workbench.em_framework.evaluators\n",
    "# from ema_workbench.analysis import feature_scoring\n",
    "# from ema_workbench.em_framework.salib_samplers import get_SALib_problem\n",
    "# from SALib.analyze import sobol\n",
    "\n",
    "\n",
    "ema_logging.log_to_stderr(ema_logging.INFO)\n",
    "from dicemodel.noDICE_v3 import PyDICE"
   ]
  },
  {
   "cell_type": "code",
   "execution_count": 2,
   "metadata": {},
   "outputs": [],
   "source": [
    "from ema_workbench import (perform_experiments, Model, Policy, Scenario, ReplicatorModel, RealParameter, IntegerParameter, ScalarOutcome, ArrayOutcome, \n",
    "                           Constant, ema_logging, SequentialEvaluator, MultiprocessingEvaluator, IpyparallelEvaluator)\n"
   ]
  },
  {
   "cell_type": "markdown",
   "metadata": {},
   "source": [
    "# Time series "
   ]
  },
  {
   "cell_type": "code",
   "execution_count": 3,
   "metadata": {},
   "outputs": [],
   "source": [
    "\n",
    "if __name__ == '__main__':\n",
    "    ema_logging.log_to_stderr(ema_logging.INFO)\n",
    "    \n",
    "\n",
    "    model = PyDICE()\n",
    "    dice_sm = Model('dicesmEMA', function=model)\n",
    "    \n",
    "    dice_sm.uncertainties = [IntegerParameter('t2xco2_index', 0, 999),\n",
    "                            #  IntegerParameter('t2xco2_dist',0,2),\n",
    "                             IntegerParameter('fdamage', 0, 2),\n",
    "                             RealParameter('tfp_gr',  0.07, 0.09),\n",
    "                             RealParameter('sigma_gr', -0.012, -0.008),\n",
    "                             RealParameter('pop_gr', 0.1, 0.15),\n",
    "                             RealParameter('fosslim',  4000.0, 13649),\n",
    "                             IntegerParameter('cback', 100, 600)]\n",
    "    \n",
    "    dice_sm.levers = [RealParameter('sr', 0.1, 0.5),\n",
    "                      RealParameter('prtp_con',  0.001, 0.015),\n",
    "                      RealParameter('prtp_dam',  0.001, 0.015),\n",
    "                      RealParameter('emuc',  1.01, 2.00),\n",
    "                      RealParameter('emdd',  1.01, 2.00),\n",
    "                      IntegerParameter('periodfullpart', 10, 58),\n",
    "                      IntegerParameter('miu_period', 10, 58)]\n",
    "    \n",
    "    dice_sm.outcomes = [TimeSeriesOutcome('Atmospheric Temperature'),\n",
    "                        TimeSeriesOutcome('Total Output'),\n",
    "                        TimeSeriesOutcome('Population'),\n",
    "                        TimeSeriesOutcome('Per Capita Consumption'),\n",
    "                        TimeSeriesOutcome('Consumption Growth'),\n",
    "                        TimeSeriesOutcome('Utility of Consumption'),\n",
    "                        TimeSeriesOutcome('Per Capita Damage'),\n",
    "                        TimeSeriesOutcome('Damage Growth'),\n",
    "                        TimeSeriesOutcome('Disutility of Damage'),\n",
    "                        TimeSeriesOutcome('Welfare'),\n",
    "                        TimeSeriesOutcome('Consumption SDR'),\n",
    "                        TimeSeriesOutcome('Damage SDR')\n",
    "\n",
    "                        ]\n",
    "    \n",
    "    \n",
    "  "
   ]
  },
  {
   "cell_type": "code",
   "execution_count": 4,
   "metadata": {},
   "outputs": [],
   "source": [
    "n_scenarios = 100\n",
    "n_policies = 20"
   ]
  },
  {
   "cell_type": "code",
   "execution_count": 5,
   "metadata": {
    "tags": []
   },
   "outputs": [
    {
     "output_type": "stream",
     "name": "stderr",
     "text": "[MainProcess/INFO] pool started\n[MainProcess/INFO] performing 100 scenarios * 20 policies * 1 model(s) = 2000 experiments\n[MainProcess/INFO] 200 cases completed\n[MainProcess/INFO] 400 cases completed\n[MainProcess/INFO] 600 cases completed\n[MainProcess/INFO] 800 cases completed\n[MainProcess/INFO] 1000 cases completed\n[MainProcess/INFO] 1200 cases completed\n[MainProcess/INFO] 1400 cases completed\n[MainProcess/INFO] 1600 cases completed\n[MainProcess/INFO] 1800 cases completed\n[MainProcess/INFO] 2000 cases completed\n[MainProcess/INFO] experiments finished\n[MainProcess/INFO] terminating pool\nExperiment time is 0 mintues\n"
    }
   ],
   "source": [
    "start = time.time()\n",
    "with MultiprocessingEvaluator(dice_sm, n_processes=8) as evaluator:\n",
    "    results = evaluator.perform_experiments(scenarios=n_scenarios, policies=n_policies)\n",
    "end = time.time()\n",
    "\n",
    "print('Experiment time is ' + str(round((end - start)/60)) + ' mintues')"
   ]
  },
  {
   "cell_type": "code",
   "execution_count": 6,
   "metadata": {},
   "outputs": [],
   "source": [
    "experiments, outcomes = results\n",
    "\n",
    "from ema_workbench.analysis import plotting, plotting_util\n"
   ]
  },
  {
   "cell_type": "code",
   "execution_count": 8,
   "metadata": {
    "tags": []
   },
   "outputs": [
    {
     "output_type": "stream",
     "name": "stderr",
     "text": "[MainProcess/INFO] results saved successfully to e:\\Year_2_Quarter_4\\Thesis\\06_Code\\noDICE\\1a_OE_100p_20s_v3.3.tar.gz\n"
    }
   ],
   "source": [
    "# pydice_folder = os.path.dirname(os.getcwd())+\"\\\\1_Model\"\n",
    "# sys.path.insert(1, pydice_folder)\n",
    "# file_name = 'exploration_V4_' + str(n_scenarios) + 'scen_' + 'nordhaus_optimal_policy_' + str(4) + 'obj' + '.tar.gz'\n",
    "# #save_results(results, file_name)\n",
    "\n",
    "save_results(results, '1a_OE_100p_20s_v3.3.tar.gz')\n"
   ]
  },
  {
   "cell_type": "code",
   "execution_count": 9,
   "metadata": {
    "tags": []
   },
   "outputs": [
    {
     "output_type": "stream",
     "name": "stderr",
     "text": "[MainProcess/INFO] results loaded succesfully from e:\\Year_2_Quarter_4\\Thesis\\06_Code\\noDICE\\1a_OE_1000p_50s_v3.3.tar.gz\n"
    },
    {
     "output_type": "execute_result",
     "data": {
      "text/plain": "  \n 14    333.0      1.0  11198.521467  0.107134 -0.010243         464.0   \n 15    162.0      1.0  11919.636752  0.146220 -0.011532         423.0   \n 16    443.0      1.0  13079.736077  0.100487 -0.008182         190.0   \n 17    212.0      0.0   7337.331433  0.110956 -0.009602         967.0   \n 18    541.0      2.0   7239.950981  0.108797 -0.010058         480.0   \n 19    570.0      1.0   5293.561761  0.144599 -0.009175         634.0   \n 20    595.0      2.0   8958.426067  0.137632 -0.009251         895.0   \n 21    322.0      2.0   5688.918460  0.101324 -0.011726         941.0   \n 22    373.0      2.0  10969.784018  0.100929 -0.008799         696.0   \n 23    538.0      2.0  10022.196572  0.145429 -0.009820         971.0   \n 24    268.0      1.0   9354.229940  0.120125 -0.009011         553.0   \n 25    492.0      2.0  13542.931975  0.143885 -0.011351         925.0   \n 26    367.0      2.0   4873.374610  0.120632 -0.009048          95.0   \n 27    325.0      0.0   8091.148365  0.142968 -0.009573         247.0   \n 28    554.0      1.0   7657.661011  0.146906 -0.009541         936.0   \n 29    309.0      1.0   6867.212508  0.107576 -0.011176         179.0   \n ...     ...      ...           ...       ...       ...           ...   \n 1970  261.0      1.0  12449.363772  0.139904 -0.008324         216.0   \n 1971  577.0      2.0  10870.928925  0.140051 -0.008305         314.0   \n 1972  235.0      1.0   9411.032292  0.126860 -0.010435         863.0   \n 1973  359.0      2.0   6546.458432  0.129701 -0.009285         746.0   \n 1974  424.0      0.0  12912.288993  0.132385 -0.011439          24.0   \n 1975  447.0      1.0   5601.336109  0.133050 -0.011768         136.0   \n 1976  255.0      0.0   4499.979198  0.134253 -0.008627         453.0   \n 1977  228.0      1.0   8357.772984  0.135212 -0.011917         607.0   \n 1978  144.0      2.0   5399.784795  0.115739 -0.010651         490.0   \n 1979  106.0      1.0  12308.560717  0.112095 -0.009648         350.0   \n 1980  527.0      2.0   8756.227334  0.128659 -0.011373         526.0   \n 1981  274.0      0.0   7385.862013  0.118599 -0.009113         160.0   \n 1982  284.0      0.0  13622.063007  0.113329 -0.009876         671.0   \n 1983  192.0      1.0   6288.426129  0.133705 -0.009202         475.0   \n 1984  465.0      1.0  10448.171723  0.126484 -0.009368         997.0   \n 1985  458.0      0.0  10110.114693  0.127603 -0.011516         756.0   \n 1986  387.0      1.0   6199.442158  0.101879 -0.010953         628.0   \n 1987  202.0      2.0   9793.325642  0.141822 -0.009705         228.0   \n 1988  415.0      0.0   7516.197807  0.136125 -0.010727         299.0   \n 1989  402.0      1.0  10738.717449  0.130409 -0.011275         309.0   \n 1990  596.0      2.0   9120.736241  0.119680 -0.008686         681.0   \n 1991  301.0      1.0   6943.740259  0.148938 -0.008446          40.0   \n 1992  298.0      0.0   6487.434961  0.104308 -0.009322         408.0   \n 1993  294.0      0.0   9578.067423  0.109767 -0.010108         271.0   \n 1994  102.0      0.0   9636.100430  0.144001 -0.008086          73.0   \n 1995  406.0      0.0   4286.741941  0.124167 -0.008260         783.0   \n 1996  196.0      2.0   6639.734373  0.123712 -0.011294         564.0   \n 1997  489.0      0.0   7706.750866  0.131555 -0.009410         416.0   \n 1998  533.0      1.0   7145.843644  0.130999 -0.010530         362.0   \n 1999  112.0      0.0  11128.670304  0.147357 -0.010031         730.0   \n \n         tfp_gr      emdd      emuc  miu_period  periodfullpart  prtp_con  \\\n 0     0.083939  1.186695  1.896922        42.0            26.0  0.010328   \n 1     0.082917  1.186695  1.896922        42.0            26.0  0.010328   \n 2     0.079430  1.186695  1.896922        42.0            26.0  0.010328   \n 3     0.082747  1.186695  1.896922        42.0            26.0  0.010328   \n 4     0.083532  1.186695  1.896922        42.0            26.0  0.010328   \n 5     0.085657  1.186695  1.896922        42.0            26.0  0.010328   \n 6     0.086704  1.186695  1.896922        42.0            26.0  0.010328   \n 7     0.075227  1.186695  1.896922        42.0            26.0  0.010328   \n 8     0.078053  1.186695  1.896922        42.0            26.0  0.010328   \n 9     0.071634  1.186695  1.896922        42.0            26.0  0.010328   \n 10    0.070941  1.186695  1.896922        42.0            26.0  0.010328   \n 11    0.088556  1.186695  1.896922        42.0            26.0  0.010328   \n 12    0.077537  1.186695  1.896922        42.0            26.0  0.010328   \n 13    0.073556  1.186695  1.896922        42.0            26.0  0.010328   \n 14    0.073132  1.186695  1.896922        42.0            26.0  0.010328   \n 15    0.079820  1.186695  1.896922        42.0            26.0  0.010328   \n 16    0.074416  1.186695  1.896922        42.0            26.0  0.010328   \n 17    0.077603  1.186695  1.896922        42.0            26.0  0.010328   \n 18    0.077220  1.186695  1.896922        42.0            26.0  0.010328   \n 19    0.080490  1.186695  1.896922        42.0            26.0  0.010328   \n 20    0.076020  1.186695  1.896922        42.0            26.0  0.010328   \n 21    0.078287  1.186695  1.896922        42.0            26.0  0.010328   \n 22    0.074651  1.186695  1.896922        42.0            26.0  0.010328   \n 23    0.089243  1.186695  1.896922        42.0            26.0  0.010328   \n 24    0.070627  1.186695  1.896922        42.0            26.0  0.010328   \n 25    0.086945  1.186695  1.896922        42.0            26.0  0.010328   \n 26    0.078404  1.186695  1.896922        42.0            26.0  0.010328   \n 27    0.079052  1.186695  1.896922        42.0            26.0  0.010328   \n 28    0.070510  1.186695  1.896922        42.0            26.0  0.010328   \n 29    0.071931  1.186695  1.896922        42.0            26.0  0.010328   \n ...        ...       ...       ...         ...             ...       ...   \n 1970  0.081399  1.081114  1.430227        11.0            57.0  0.012929   \n 1971  0.084163  1.081114  1.430227        11.0            57.0  0.012929   \n 1972  0.087559  1.081114  1.430227        11.0            57.0  0.012929   \n 1973  0.074385  1.081114  1.430227        11.0            57.0  0.012929   \n 1974  0.085867  1.081114  1.430227        11.0            57.0  0.012929   \n 1975  0.085524  1.081114  1.430227        11.0            57.0  0.012929   \n 1976  0.075810  1.081114  1.430227        11.0            57.0  0.012929   \n 1977  0.089906  1.081114  1.430227        11.0            57.0  0.012929   \n 1978  0.081033  1.081114  1.430227        11.0            57.0  0.012929   \n 1979  0.089134  1.081114  1.430227        11.0            57.0  0.012929   \n 1980  0.074837  1.081114  1.430227        11.0            57.0  0.012929   \n 1981  0.088240  1.081114  1.430227        11.0            57.0  0.012929   \n 1982  0.085000  1.081114  1.430227        11.0            57.0  0.012929   \n 1983  0.084265  1.081114  1.430227        11.0            57.0  0.012929   \n 1984  0.073280  1.081114  1.430227        11.0            57.0  0.012929   \n 1985  0.072468  1.081114  1.430227        11.0            57.0  0.012929   \n 1986  0.080815  1.081114  1.430227        11.0            57.0  0.012929   \n 1987  0.075075  1.081114  1.430227        11.0            57.0  0.012929   \n 1988  0.077979  1.081114  1.430227        11.0            57.0  0.012929   \n 1989  0.088845  1.081114  1.430227        11.0            57.0  0.012929   \n 1990  0.081668  1.081114  1.430227        11.0            57.0  0.012929   \n 1991  0.082184  1.081114  1.430227        11.0            57.0  0.012929   \n 1992  0.074035  1.081114  1.430227        11.0            57.0  0.012929   \n 1993  0.079644  1.081114  1.430227        11.0            57.0  0.012929   \n 1994  0.085223  1.081114  1.430227        11.0            57.0  0.012929   \n 1995  0.071290  1.081114  1.430227        11.0            57.0  0.012929   \n 1996  0.083620  1.081114  1.430227        11.0            57.0  0.012929   \n 1997  0.080246  1.081114  1.430227        11.0            57.0  0.012929   \n 1998  0.076580  1.081114  1.430227        11.0            57.0  0.012929   \n 1999  0.087218  1.081114  1.430227        11.0            57.0  0.012929   \n \n       prtp_dam        sr scenario policy      model  \n 0     0.002128  0.207948        0      0  dicesmEMA  \n 1     0.002128  0.207948        1      0  dicesmEMA  \n 2     0.002128  0.207948        2      0  dicesmEMA  \n 3     0.002128  0.207948        3      0  dicesmEMA  \n 4     0.002128  0.207948        4      0  dicesmEMA  \n 5     0.002128  0.207948        5      0  dicesmEMA  \n 6     0.002128  0.207948        6      0  dicesmEMA  \n 7     0.002128  0.207948        7      0  dicesmEMA  \n 8     0.002128  0.207948        8      0  dicesmEMA  \n 9     0.002128  0.207948        9      0  dicesmEMA  \n 10    0.002128  0.207948       10      0  dicesmEMA  \n 11    0.002128  0.207948       11      0  dicesmEMA  \n 12    0.002128  0.207948       12      0  dicesmEMA  \n 13    0.002128  0.207948       13      0  dicesmEMA  \n 14    0.002128  0.207948       14      0  dicesmEMA  \n 15    0.002128  0.207948       15      0  dicesmEMA  \n 16    0.002128  0.207948       16      0  dicesmEMA  \n 17    0.002128  0.207948       17      0  dicesmEMA  \n 18    0.002128  0.207948       18      0  dicesmEMA  \n 19    0.002128  0.207948       19      0  dicesmEMA  \n 20    0.002128  0.207948       20      0  dicesmEMA  \n 21    0.002128  0.207948       21      0  dicesmEMA  \n 22    0.002128  0.207948       22      0  dicesmEMA  \n 23    0.002128  0.207948       23      0  dicesmEMA  \n 24    0.002128  0.207948       24      0  dicesmEMA  \n 25    0.002128  0.207948       25      0  dicesmEMA  \n 26    0.002128  0.207948       26      0  dicesmEMA  \n 27    0.002128  0.207948       27      0  dicesmEMA  \n 28    0.002128  0.207948       28      0  dicesmEMA  \n 29    0.002128  0.207948       29      0  dicesmEMA  \n ...        ...       ...      ...    ...        ...  \n 1970  0.013018  0.460923       70     19  dicesmEMA  \n 1971  0.013018  0.460923       71     19  dicesmEMA  \n 1972  0.013018  0.460923       72     19  dicesmEMA  \n 1973  0.013018  0.460923       73     19  dicesmEMA  \n 1974  0.013018  0.460923       74     19  dicesmEMA  \n 1975  0.013018  0.460923       75     19  dicesmEMA  \n 1976  0.013018  0.460923       76     19  dicesmEMA  \n 1977  0.013018  0.460923       77     19  dicesmEMA  \n 1978  0.013018  0.460923       78     19  dicesmEMA  \n 1979  0.013018  0.460923       79     19  dicesmEMA  \n 1980  0.013018  0.460923       80     19  dicesmEMA  \n 1981  0.013018  0.460923       81     19  dicesmEMA  \n 1982  0.013018  0.460923       82     19  dicesmEMA  \n 1983  0.013018  0.460923       83     19  dicesmEMA  \n 1984  0.013018  0.460923       84     19  dicesmEMA  \n 1985  0.013018  0.460923       85     19  dicesmEMA  \n 1986  0.013018  0.460923       86     19  dicesmEMA  \n 1987  0.013018  0.460923       87     19  dicesmEMA  \n 1988  0.013018  0.460923       88     19  dicesmEMA  \n 1989  0.013018  0.460923       89     19  dicesmEMA  \n 1990  0.013018  0.460923       90     19  dicesmEMA  \n 1991  0.013018  0.460923       91     19  dicesmEMA  \n 1992  0.013018  0.460923       92     19  dicesmEMA  \n 1993  0.013018  0.460923       93     19  dicesmEMA  \n 1994  0.013018  0.460923       94     19  dicesmEMA  \n 1995  0.013018  0.460923       95     19  dicesmEMA  \n 1996  0.013018  0.460923       96     19  dicesmEMA  \n 1997  0.013018  0.460923       97     19  dicesmEMA  \n 1998  0.013018  0.460923       98     19  dicesmEMA  \n 1999  0.013018  0.460923       99     19  dicesmEMA  \n \n [2000 rows x 17 columns],\n {'Atmospheric Temperature': array([[0.8       , 0.77823196, 0.7875939 , ..., 0.82909989, 0.79093785,\n          0.75385502],\n         [0.8       , 0.95138498, 1.11091718, ..., 3.8464445 , 3.78871711,\n          3.73315879],\n         [0.8       , 0.94262225, 1.09244777, ..., 3.3334822 , 3.27353646,\n          3.21576184],\n         ...,\n         [0.8       , 0.95360505, 1.1169795 , ..., 0.        , 0.        ,\n          0.        ],\n         [0.8       , 0.92392778, 1.05587724, ..., 0.        , 0.        ,\n          0.        ],\n         [0.8       , 0.84031281, 0.89627483, ..., 0.        , 0.        ,\n          0.        ]]),\n  'Total Output': array([[  63.47323098,   73.02556176,   84.19154603, ..., 2523.93088615,\n          2579.25011999, 2634.03241969],\n         [  63.4730319 ,   73.68629862,   85.60275741, ..., 2383.47219242,\n          2439.67915519, 2495.36325929],\n         [  63.58130078,   72.92135732,   83.83492366, ..., 2460.21879801,\n          2521.90586671, 2582.38608286],\n         ...,\n         [  63.47300903,   83.58882616,  104.34962996, ..., 3549.49215327,\n          3626.98593246, 3703.74477976],\n         [  63.48968286,   83.60771648,  104.36238023, ..., 3552.82111549,\n          3630.25375682, 3706.9490771 ],\n         [  63.47326259,   84.05500091,  105.57033462, ..., 3565.73097241,\n          3642.57926796, 3718.7127381 ]]),\n  'Population': array([[ 6838.        ,  7187.62745933,  7511.454247  , ...,\n          10496.07659928, 10496.53269752, 10496.93578174],\n         [ 6838.        ,  7289.24996629,  7696.63934775, ...,\n          10499.54359753, 10499.61160264, 10499.66947497],\n         [ 6838.        ,  7154.16258636,  7449.37379205, ...,\n          10492.12005185, 10492.95023001, 10493.69297249],\n         ...,\n         [ 6838.        ,  7234.90182293,  7598.23309916, ...,\n          10498.54857613, 10498.7395074 , 10498.90532343],\n         [ 6838.        ,  7233.1761065 ,  7595.08446393, ...,\n          10498.49463018, 10498.69182018, 10498.86318145],\n         [ 6838.        ,  7284.09893113,  7687.37569906, ...,\n          10499.49037874, 10499.56547343, 10499.62950282]]),\n  'Per Capita Consumption': array([[  7.35216667,   8.04717011,   8.8776556 , ..., 190.46022861,\n          194.6262572 , 198.75241307],\n         [  7.35214361,   8.006777  ,   8.80928077, ..., 179.80157957,\n          184.04046248, 188.24002985],\n         [  7.3646845 ,   8.07327549,   8.91372109, ..., 185.72241224,\n          190.36411911, 194.91562449],\n         ...,\n         [  5.00392522,   6.22825527,   7.40336431, ..., 182.25849449,\n          186.23424004, 190.17256016],\n         [  5.00523971,   6.2311491 ,   7.40733844, ..., 182.43036667,\n          186.40287914, 190.33785209],\n         [  5.00394521,   6.22068975,   7.40311698, ..., 183.07589823,\n          187.02019501, 190.92793571]]),\n  'Consumption Growth': array([[0.        , 0.09453042, 0.10320218, ..., 0.02256908, 0.02187348,\n          0.02120041],\n         [0.        , 0.0890398 , 0.10022807, ..., 0.02435553, 0.02357534,\n          0.02281872],\n         [0.        , 0.09621471, 0.10410218, ..., 0.02615533, 0.02499271,\n          0.02390947],\n         ...,\n         [0.        , 0.24467393, 0.18867387, ..., 0.0225023 , 0.02181377,\n          0.02114713],\n         [0.        , 0.24492521, 0.18875962, ..., 0.02246285, 0.0217755 ,\n          0.02111004],\n         [0.        , 0.24315705, 0.19007976, ..., 0.02221515, 0.0215446 ,\n          0.02089475]]),\n  'Utility of Consumption': array([[-7.13440081e-02, -2.38579297e-02, -6.50403245e-03, ...,\n           4.09343579e-08,  4.55358716e-08,  5.07009616e-08],\n         [-7.13445322e-02, -2.52710693e-02, -6.99235111e-03, ...,\n           1.63019135e-08,  1.86331898e-08,  2.13398002e-08],\n         [-7.10600163e-02, -2.33338014e-02, -6.32625972e-03, ...,\n           6.51894982e-09,  8.93355494e-09,  1.19987835e-08],\n         ...,\n         [ 1.61728218e-01,  5.66181617e-02,  2.83510632e-02, ...,\n           3.72103078e-06,  3.93094581e-06,  4.15581836e-06],\n         [ 1.61859590e-01,  5.65884819e-02,  2.83427510e-02, ...,\n           3.77907795e-06,  3.99152196e-06,  4.21898430e-06],\n         [ 1.61730216e-01,  5.69523077e-02,  2.79093169e-02, ...,\n           4.16393888e-06,  4.37644750e-06,  4.60428012e-06]]),\n  'Per Capita Damage': array([[0.29248318, 0.27825594, 0.26626003, ..., 0.44279043, 0.41167968,\n          0.38182272],\n         [0.29248318, 0.27437665, 0.25985367, ..., 9.35510868, 9.27775436,\n          9.20134546],\n         [0.29248318, 0.27955753, 0.26847894, ..., 4.04878459, 3.67132042,\n          3.33320772],\n         ...,\n         [0.29248318, 0.27643775, 0.26321909, ..., 0.19050252, 0.19049906,\n          0.19049605],\n         [0.29248318, 0.27650371, 0.26332821, ..., 0.1905035 , 0.19049992,\n          0.19049682],\n         [0.29248318, 0.27457068, 0.26016681, ..., 0.19048544, 0.19048407,\n          0.19048291]]),\n  'Damage Growth': array([[ 0.00000000e+00, -4.86429578e-02, -4.31110644e-02, ...,\n          -6.81820570e-02, -7.02606756e-02, -7.25247135e-02],\n         [ 0.00000000e+00, -6.19062274e-02, -5.29308134e-02, ...,\n          -8.24289114e-03, -8.26867113e-03, -8.23571136e-03],\n         [ 0.00000000e+00, -4.41928154e-02, -3.96289962e-02, ...,\n          -9.41404937e-02, -9.32290071e-02, -9.20956648e-02],\n         ...,\n         [ 0.00000000e+00, -5.48593240e-02, -4.78178639e-02, ...,\n          -2.09409897e-05, -1.81861133e-05, -1.57936498e-05],\n         [ 0.00000000e+00, -5.46338290e-02, -4.76503401e-02, ...,\n          -2.16136899e-05, -1.87823398e-05, -1.63218879e-05],\n         [ 0.00000000e+00, -6.12428435e-02, -5.24596148e-02, ...,\n          -8.38823125e-06, -7.15217132e-06, -6.09825224e-06]]),\n  'Disutility of Damage': array([[-2.381866  , -2.44488956, -2.50107584, ..., -1.87987463,\n          -1.96527222, -2.05475677],\n         [-2.381866  , -2.46273968, -2.53232678, ...,  0.8279328 ,\n           0.82245906,  0.8169988 ],\n         [-2.381866  , -2.43896648, -2.49045917, ...,  0.2307702 ,\n           0.15469944,  0.07822377],\n         ...,\n         [-2.29273105, -2.35521171, -2.40970517, ..., -0.07000308,\n          -0.0655712 , -0.06142504],\n         [-2.29273105, -2.35494693, -2.40924331, ..., -0.07001726,\n          -0.06558318, -0.06143515],\n         [-2.29273105, -2.3627357 , -2.42270876, ..., -0.06973889,\n          -0.06534977, -0.06123957]]),\n  'Welfare': array([[-3853.81066408, -3852.3829896 , -3850.84567338, ...,\n          -3805.12932061, -3803.43688653, -3801.66732306],\n         [-3853.81066437, -3852.3529748 , -3850.75833275, ...,\n          -3850.08324197, -3850.79172702, -3851.49551235],\n         [-3853.81050476, -3852.3926463 , -3850.8744156 , ...,\n          -3843.13087147, -3843.26404855, -3843.33139431],\n         ...,\n         [-3853.72991352, -3852.2983109 , -3850.77846518, ...,\n          -3823.72071195, -3823.66422873, -3823.61131578],\n         [-3853.72983982, -3852.29875341, -3850.77983048, ...,\n          -3821.75256409, -3821.69607075, -3821.64314924],\n         [-3853.7299124 , -3852.28387881, -3850.73827951, ...,\n          -3810.88756817, -3810.83127086, -3810.77851363]]),\n  'Consumption SDR': array([[0.01032833, 0.18964518, 0.20609483, ..., 0.05314011, 0.05182062,\n          0.05054385],\n         [0.01032833, 0.17922989, 0.20045317, ..., 0.05652886, 0.05504891,\n          0.05361366],\n         [0.01032833, 0.19284015, 0.20780207, ..., 0.05994296, 0.05773756,\n          0.05568273],\n         ...,\n         [0.01292908, 0.36286845, 0.28277563, ..., 0.04511249, 0.04412774,\n          0.04317429],\n         [0.01292908, 0.36322784, 0.28289827, ..., 0.04505607, 0.044073  ,\n          0.04312125],\n         [0.01292908, 0.36069896, 0.28478637, ..., 0.04470179, 0.04374276,\n          0.04281333]]),\n  'Damage SDR': array([[0.00212779, 0.        , 0.        , ..., 0.        , 0.        ,\n          0.        ],\n         [0.00212779, 0.        , 0.        , ..., 0.        , 0.        ,\n          0.        ],\n         [0.00212779, 0.        , 0.        , ..., 0.        , 0.        ,\n          0.        ],\n         ...,\n         [0.01301787, 0.        , 0.        , ..., 0.01299523, 0.01299821,\n          0.01300079],\n         [0.01301787, 0.        , 0.        , ..., 0.0129945 , 0.01299756,\n          0.01300022],\n         [0.01301787, 0.        , 0.        , ..., 0.0130088 , 0.01301013,\n          0.01301127]])})"
     },
     "metadata": {},
     "execution_count": 9
    }
   ],
   "source": [
    "load_results('1a_OE_1000p_50s_v3.3.tar.gz')\n",
    "# experiments, outcomes = results\n",
    "# outcomes"
   ]
  },
  {
   "cell_type": "code",
   "execution_count": null,
   "metadata": {},
   "outputs": [],
   "source": [
    "outcomes['Consumption Growth']"
   ]
  },
  {
   "cell_type": "code",
   "execution_count": null,
   "metadata": {},
   "outputs": [],
   "source": [
    "## pairs plotting\n",
    "from ema_workbench.analysis import pairs_plotting\n",
    "fig, axes = pairs_plotting.pairs_scatter(experiments,outcomes, group_by='policy',legend=True) # can I group by intervals?\n",
    "fig.set_size_inches(20,20)\n",
    "plt.show()"
   ]
  },
  {
   "cell_type": "code",
   "execution_count": null,
   "metadata": {},
   "outputs": [],
   "source": [
    "fig.savefig('1a_OE_pairsplot_v3.3' + str(n_scenarios) + 's' + str(n_policies) + 'p' + '.png')"
   ]
  },
  {
   "cell_type": "code",
   "execution_count": null,
   "metadata": {},
   "outputs": [],
   "source": [
    "# TimeLine = []\n",
    "# for i in range(60):\n",
    "#     TimeLine.append(2010+i*5)\n",
    "\n",
    "# outcomes[\"TIME\"] = np.array([TimeLine])\n",
    "# outcomes"
   ]
  },
  {
   "cell_type": "code",
   "execution_count": null,
   "metadata": {},
   "outputs": [],
   "source": [
    "sns.set_style(\"whitegrid\")\n",
    "\n",
    "for outcome in outcomes.keys():\n",
    "    fig,axes=plotting.lines(experiments, outcomes, outcomes_to_show=outcome, density=plotting.Density.BOXPLOT)\n",
    "    fig.set_size_inches(12, 5)\n",
    "    # fig.savefig('1a_TimeSeries_v3.3' + str(n_scenarios) +'s' + str(n_policies) + 'p' + '.png')\n",
    "plt.show()\n",
    "\n"
   ]
  },
  {
   "cell_type": "code",
   "execution_count": null,
   "metadata": {},
   "outputs": [],
   "source": [
    "sns.set_style(\"whitegrid\")\n",
    "\n",
    "for outcome in outcomes.keys():\n",
    "    fig,axes=plotting.lines(experiments, outcomes, outcomes_to_show=outcome, density=plotting.Density.BOXENPLOT)\n",
    "    fig.set_size_inches(12, 5)\n",
    "    fig.savefig('1a_TimeSeries_v3.3' + str(n_scenarios) +'s' + str(n_policies) + 'p' + '.png')\n",
    "plt.show()"
   ]
  },
  {
   "cell_type": "code",
   "execution_count": null,
   "metadata": {
    "tags": []
   },
   "outputs": [],
   "source": [
    "%debug"
   ]
  },
  {
   "cell_type": "code",
   "execution_count": null,
   "metadata": {},
   "outputs": [],
   "source": []
  },
  {
   "cell_type": "code",
   "execution_count": null,
   "metadata": {},
   "outputs": [],
   "source": [
    "# To group by emdd range blocks, see below\n",
    "out_DF = pd.DataFrame(outcomes)\n",
    "t2xco2_dist = experiments['t2xco2_dist']\n",
    "out_DF['ECS Distribution'] = t2xco2_dist\n",
    "out_DF['ECS Distribution'] = out_DF['ECS Distribution'].apply(lambda x: 'Normal' if x==0 else ('Log-Normal' if x==1 else 'Cauchy'))\n",
    "\n",
    "emdd = experiments['emdd']\n",
    "out_DF['emdd'] = emdd\n",
    "out_DF['emdd'] = out_DF['emdd'].apply(lambda x: 'Lower than EMUC' if x < 1.45 else ('Equal to EMUC' if x== 1.45 else 'Higher than EMUC'))\n",
    "\n",
    "# %%\n",
    "out_DF = out_DF.sort_values([out_DF.columns[-1]], ascending=1)\n",
    "\n",
    "\n",
    "# %%\n",
    "sns.set(style = \"whitegrid\", font_scale=1.4)\n",
    "for _ in range(1,6):\n",
    "    colmlst = list(range(0+_*4,4+_*4))\n",
    "    namelist = colmlst[:]\n",
    "    colmlst[2] = -3\n",
    "    namelist[2] = -2\n",
    "    \n",
    "    ppDF = out_DF.iloc[:,colmlst+[-1]]\n",
    "    pplst_col = ppDF.columns.to_list()\n",
    "    for i in range(len(pplst_col)-1):\n",
    "        pplst_col[i] = pplst_col[i].replace(\" \", \"\\n\")\n",
    "    ppDF.columns = pplst_col\n",
    "    \n",
    "    \n",
    "    variable_name = list(list(outcomes.keys())[i] for i in namelist)\n",
    "    for i in range(len(variable_name)):\n",
    "        variable_name[i] = variable_name[i].replace(\" \", \"\\n\")\n",
    "    \n",
    "    \n",
    "    sns_plot = sns.pairplot(ppDF, hue='emdd', palette=clr_palette,\n",
    "                            vars=variable_name)\n",
    "    #plt.tight_layout()\n",
    "    plt.show()\n",
    "    # sns_plot.savefig('pairplot_'+str(list(outcomes.keys())[_*4][-4:])+'_dist_nordhaus_opt_policy_util2300'+'_V4.png')"
   ]
  }
 ],
 "metadata": {
  "language_info": {
   "codemirror_mode": {
    "name": "ipython",
    "version": 3
   },
   "file_extension": ".py",
   "mimetype": "text/x-python",
   "name": "python",
   "nbconvert_exporter": "python",
   "pygments_lexer": "ipython3",
   "version": "3.7.3-final"
  },
  "orig_nbformat": 2,
  "kernelspec": {
   "name": "python3",
   "display_name": "Python 3"
  }
 },
 "nbformat": 4,
 "nbformat_minor": 2
}