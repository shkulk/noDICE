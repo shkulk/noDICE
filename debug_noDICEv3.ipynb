{
 "cells": [
  {
   "cell_type": "code",
   "execution_count": null,
   "metadata": {},
   "outputs": [],
   "source": [
    "# verify behaviour"
   ]
  },
  {
   "cell_type": "code",
   "execution_count": 2,
   "metadata": {
    "tags": []
   },
   "outputs": [],
   "source": [
    "import numpy as np\n",
    "import pandas as pd\n",
    "\n",
    "from dicemodel.noDICE_v3 import PyDICE"
   ]
  },
  {
   "cell_type": "code",
   "execution_count": 26,
   "metadata": {},
   "outputs": [],
   "source": [
    "tstep = 5\n",
    "t= 10\n",
    "\n",
    "prtp_dam = 0.015\n",
    "emdd = 1.45/2\n",
    "dam_g = 0.16\n",
    "dpc = 0.7/10\n",
    "\n",
    "prtp_con = 0.015\n",
    "emuc = 1.45\n",
    "con_g = 0.09\n",
    "cpc = 20/10"
   ]
  },
  {
   "cell_type": "code",
   "execution_count": 27,
   "metadata": {
    "tags": []
   },
   "outputs": [
    {
     "output_type": "stream",
     "name": "stdout",
     "text": "0.131 0.14550000000000002\n"
    }
   ],
   "source": [
    "sdr_dam = (prtp_dam + (emdd * dam_g))\n",
    "sdr_con = (prtp_con + (emuc * con_g))\n",
    "\n",
    "# sdr_con = 0.015\n",
    "# sdr_dam= sdr_con\n",
    "\n",
    "print(sdr_dam, sdr_con)"
   ]
  },
  {
   "cell_type": "code",
   "execution_count": 28,
   "metadata": {
    "tags": []
   },
   "outputs": [],
   "source": [
    "# Social discount factor for disutility of damage            \n",
    "damage_sdf = (1.0 /(1.0 + sdr_dam))**(tstep * (t))\n",
    "consumption_sdf = (1.0 /(1.0 + sdr_con))**(tstep * (t))\n",
    "\n",
    "# print(damage_sdf, consumption_sdf)"
   ]
  },
  {
   "cell_type": "code",
   "execution_count": 29,
   "metadata": {
    "tags": []
   },
   "outputs": [
    {
     "output_type": "stream",
     "name": "stdout",
     "text": "-2.886237836200879 -1.6267618843840284\n1.2594759518168508\n"
    }
   ],
   "source": [
    "inst_disutil_dam = ((dpc ** (1.0 - emdd)-1.0)/ (1.0 - emdd)- 1.0)\n",
    "# inst_disutil_dam = np.log(dpc)\n",
    "inst_util_con = ((cpc ** (1.0 - emuc))/ (1.0 - emuc))\n",
    "\n",
    "\n",
    "print(inst_disutil_dam, inst_util_con)\n",
    "print(inst_util_con-inst_disutil_dam)\n",
    "\n",
    "# print(inst_util_con+inst_disutil_dam)\n"
   ]
  },
  {
   "cell_type": "code",
   "execution_count": 30,
   "metadata": {
    "tags": []
   },
   "outputs": [
    {
     "output_type": "stream",
     "name": "stdout",
     "text": "-0.8133809421920142\n-41.231969088583995\n"
    }
   ],
   "source": [
    "uc_marginal = inst_util_con/cpc\n",
    "\n",
    "vd_marginal = inst_disutil_dam/dpc\n",
    "print(uc_marginal)\n",
    "\n",
    "print(vd_marginal)"
   ]
  },
  {
   "cell_type": "code",
   "execution_count": 31,
   "metadata": {
    "tags": []
   },
   "outputs": [
    {
     "output_type": "stream",
     "name": "stdout",
     "text": "-0.006126350914402969 -0.0018262881951297534\n0.004300062719273216\n"
    }
   ],
   "source": [
    "disc_disutil_dam = inst_disutil_dam * damage_sdf\n",
    "disc_util_con = inst_util_con * consumption_sdf\n",
    "\n",
    "print(disc_disutil_dam,disc_util_con)\n",
    "print(disc_util_con - disc_disutil_dam)\n"
   ]
  },
  {
   "cell_type": "code",
   "execution_count": null,
   "metadata": {},
   "outputs": [],
   "source": []
  },
  {
   "cell_type": "code",
   "execution_count": 13,
   "metadata": {
    "tags": []
   },
   "outputs": [
    {
     "output_type": "stream",
     "name": "stdout",
     "text": "-0.07266478420909278\n2.5364510966704095\n-0.08157729713034576\n-0.03958489736000415\n"
    }
   ],
   "source": [
    "prtp_con = 0.015\n",
    "emuc = 1.45\n",
    "con_g = 0.09\n",
    "cpc = 200\n",
    "sdr_con = (prtp_con + (emuc * con_g))\n",
    "# print(sdr_con)\n",
    "consumption_sdf = (1.0 /(1.0 + sdr_con))**(tstep * (t))\n",
    "# print(consumption_sdf)\n",
    "inst_util_con = ((cpc ** (1.0 - emuc))/ (1.0 - emuc))\n",
    "print(inst_util_con)\n",
    "print(inst_util_con-inst_disutil_dam)\n",
    "disc_util_con = inst_util_con * consumption_sdf\n",
    "\n",
    "# print(disc_util_con*1000)\n",
    "# print((disc_util_con - disc_disutil_dam) * 1000)"
   ]
  }
 ],
 "metadata": {
  "language_info": {
   "codemirror_mode": {
    "name": "ipython",
    "version": 3
   },
   "file_extension": ".py",
   "mimetype": "text/x-python",
   "name": "python",
   "nbconvert_exporter": "python",
   "pygments_lexer": "ipython3",
   "version": "3.7.3-final"
  },
  "orig_nbformat": 2,
  "kernelspec": {
   "name": "python3",
   "display_name": "Python 3"
  }
 },
 "nbformat": 4,
 "nbformat_minor": 2
}