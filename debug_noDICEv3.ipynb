{
 "cells": [
  {
   "cell_type": "code",
   "execution_count": 3,
   "metadata": {
    "tags": []
   },
   "outputs": [],
   "source": [
    "import time\n",
    "%matplotlib inline\n",
    "import matplotlib.pyplot as plt\n",
    "import numpy as np\n",
    "import pandas as pd\n",
    "import seaborn as sns\n",
    "import altair\n",
    "# sns.set_style('white')\n",
    "# import statsmodels.api as sm\n",
    "\n",
    "from ema_workbench import (Model, RealParameter, IntegerParameter, ArrayOutcome, TimeSeriesOutcome,\n",
    "                           ema_logging, SequentialEvaluator,\n",
    "                           MultiprocessingEvaluator)\n",
    "from ema_workbench import save_results, load_results\n",
    "import ema_workbench.analysis\n",
    "from ema_workbench.analysis import scenario_discovery_util as sdutil\n",
    "from sklearn import preprocessing \n",
    "import ema_workbench.em_framework.evaluators\n",
    "# from ema_workbench.analysis import feature_scoring\n",
    "# from ema_workbench.em_framework.salib_samplers import get_SALib_problem\n",
    "# from SALib.analyze import sobol\n",
    "\n",
    "\n",
    "ema_logging.log_to_stderr(ema_logging.INFO)\n",
    "from dicemodel.noDICE_v3 import PyDICE"
   ]
  },
  {
   "cell_type": "code",
   "execution_count": 4,
   "metadata": {},
   "outputs": [],
   "source": [
    "from ema_workbench import (perform_experiments, Model, Policy, Scenario, ReplicatorModel, RealParameter, IntegerParameter, ScalarOutcome, ArrayOutcome, \n",
    "                           Constant, ema_logging, SequentialEvaluator, MultiprocessingEvaluator, IpyparallelEvaluator)\n"
   ]
  },
  {
   "cell_type": "markdown",
   "metadata": {},
   "source": [
    "# Time series "
   ]
  },
  {
   "cell_type": "code",
   "execution_count": 6,
   "metadata": {},
   "outputs": [],
   "source": [
    "\n",
    "if __name__ == '__main__':\n",
    "    ema_logging.log_to_stderr(ema_logging.INFO)\n",
    "    \n",
    "\n",
    "    model = PyDICE()\n",
    "    dice_sm = Model('dicesmEMA', function=model)\n",
    "    \n",
    "    # dice_sm.uncertainties = [IntegerParameter('t2xco2_index', ),\n",
    "    #                          IntegerParameter('t2xco2_dist',0,2),\n",
    "    #                          IntegerParameter('fdamage', 0, 2),\n",
    "    #                          RealParameter('tfp_gr',  0.07, 0.09),\n",
    "    #                          RealParameter('sigma_gr', -0.012, -0.008),\n",
    "    #                          RealParameter('pop_gr', 0.1, 0.15),\n",
    "    #                          RealParameter('fosslim',  4000.0, 13649),\n",
    "    #                          IntegerParameter('cback', 100, 600)]\n",
    "    \n",
    "    # dice_sm.levers = [RealParameter('sr', 0.1, 0.5),\n",
    "    #                   RealParameter('prtp_con',  0.001, 0.015),\n",
    "    #                   RealParameter('prtp_dam',  0.001, 0.015),\n",
    "    #                 #   RealParameter('emuc',  0.01, 2.00),\n",
    "    #                   RealParameter('emdd',  0.01, 2.00),\n",
    "    #                   IntegerParameter('periodfullpart', 10, 58),\n",
    "    #                   IntegerParameter('miu_period', 10, 58)]\n",
    "    \n",
    "    # dice_sm.outcomes = [TimeSeriesOutcome('Atmospheric Temperature'),\n",
    "    #                     TimeSeriesOutcome('Damages'),\n",
    "    #                     TimeSeriesOutcome('Utility of Consumption'),\n",
    "    #                     TimeSeriesOutcome('Disutility of Damage'),\n",
    "    #                     # TimeSeriesOutcome('Damage to output ratio'),\n",
    "    #                     TimeSeriesOutcome('Welfare'),\n",
    "    #                     TimeSeriesOutcome('Total Output'),\n",
    "    #                     TimeSeriesOutcome('Consumption SDR'),\n",
    "    #                     TimeSeriesOutcome('Damage SDR')\n",
    "    #                     ]\n",
    "    \n",
    "    \n",
    "    # # n_scenarios = 2\n",
    "    # # n_policies = 1\n"
   ]
  },
  {
   "cell_type": "code",
   "execution_count": 7,
   "metadata": {},
   "outputs": [],
   "source": [
    "n_scenarios = 1\n",
    "n_policies = 1"
   ]
  },
  {
   "cell_type": "code",
   "execution_count": 10,
   "metadata": {},
   "outputs": [
    {
     "output_type": "execute_result",
     "data": {
      "text/plain": "<dicemodel.noDICE_v3.PyDICE at 0x16f809fd1d0>"
     },
     "metadata": {},
     "execution_count": 10
    }
   ],
   "source": [
    "PyDICE()"
   ]
  }
 ],
 "metadata": {
  "language_info": {
   "codemirror_mode": {
    "name": "ipython",
    "version": 3
   },
   "file_extension": ".py",
   "mimetype": "text/x-python",
   "name": "python",
   "nbconvert_exporter": "python",
   "pygments_lexer": "ipython3",
   "version": "3.7.3-final"
  },
  "orig_nbformat": 2,
  "kernelspec": {
   "name": "python3",
   "display_name": "Python 3"
  }
 },
 "nbformat": 4,
 "nbformat_minor": 2
}